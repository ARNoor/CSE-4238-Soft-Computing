{
  "nbformat": 4,
  "nbformat_minor": 0,
  "metadata": {
    "colab": {
      "name": "Assignment 1 Soft Computing.ipynb",
      "provenance": []
    },
    "kernelspec": {
      "name": "python3",
      "display_name": "Python 3"
    },
    "language_info": {
      "name": "python"
    },
    "accelerator": "GPU"
  },
  "cells": [
    {
      "cell_type": "code",
      "execution_count": 48,
      "metadata": {
        "id": "ricp9Ed_-VNW"
      },
      "outputs": [],
      "source": [
        "# importing necessary libraries\n",
        "import numpy as np\n",
        "import pandas as pd\n",
        "\n",
        "import skimage\n",
        "from skimage.io import imread, imshow\n",
        "\n",
        "import torch\n",
        "from torch import nn\n",
        "import torch.optim as optim\n",
        "from torch.utils.data import Dataset\n",
        "from torch.utils.data.sampler import SubsetRandomSampler\n",
        "from torchvision import datasets, transforms, models\n",
        "from torch.utils.data import Dataset, DataLoader, random_split, WeightedRandomSampler\n",
        "\n",
        "\n",
        "import matplotlib\n",
        "import matplotlib.pyplot as plt\n",
        "import seaborn as sns\n",
        "from PIL import Image\n",
        "\n",
        "import warnings\n",
        "warnings.filterwarnings('ignore')\n",
        "\n",
        "%matplotlib inline "
      ]
    },
    {
      "cell_type": "code",
      "source": [
        "# mounting the google drive\n",
        "from google.colab import drive\n",
        "drive.mount('/content/drive/')"
      ],
      "metadata": {
        "colab": {
          "base_uri": "https://localhost:8080/"
        },
        "id": "IVH-rdmG-s13",
        "outputId": "e816821f-795e-4eb3-c459-2629651825fe"
      },
      "execution_count": 49,
      "outputs": [
        {
          "output_type": "stream",
          "name": "stdout",
          "text": [
            "Drive already mounted at /content/drive/; to attempt to forcibly remount, call drive.mount(\"/content/drive/\", force_remount=True).\n"
          ]
        }
      ]
    },
    {
      "cell_type": "code",
      "source": [
        "# reading the upper three rows of the given csv file\n",
        "df = pd.read_csv('drive/MyDrive/IOT dataset/firmware.csv')\n",
        "df.head(3)"
      ],
      "metadata": {
        "colab": {
          "base_uri": "https://localhost:8080/",
          "height": 358
        },
        "id": "tqNDVLov-tUH",
        "outputId": "ab58ba34-b498-45bf-9e7e-2d3f91bf7627"
      },
      "execution_count": 50,
      "outputs": [
        {
          "output_type": "execute_result",
          "data": {
            "text/html": [
              "\n",
              "  <div id=\"df-4c09209d-76a2-4c45-a73f-9c9fab7ec709\">\n",
              "    <div class=\"colab-df-container\">\n",
              "      <div>\n",
              "<style scoped>\n",
              "    .dataframe tbody tr th:only-of-type {\n",
              "        vertical-align: middle;\n",
              "    }\n",
              "\n",
              "    .dataframe tbody tr th {\n",
              "        vertical-align: top;\n",
              "    }\n",
              "\n",
              "    .dataframe thead th {\n",
              "        text-align: right;\n",
              "    }\n",
              "</style>\n",
              "<table border=\"1\" class=\"dataframe\">\n",
              "  <thead>\n",
              "    <tr style=\"text-align: right;\">\n",
              "      <th></th>\n",
              "      <th>filename</th>\n",
              "      <th>class</th>\n",
              "      <th>target</th>\n",
              "      <th>pixel1</th>\n",
              "      <th>pixel2</th>\n",
              "      <th>pixel3</th>\n",
              "      <th>pixel4</th>\n",
              "      <th>pixel5</th>\n",
              "      <th>pixel6</th>\n",
              "      <th>pixel7</th>\n",
              "      <th>pixel8</th>\n",
              "      <th>pixel9</th>\n",
              "      <th>pixel10</th>\n",
              "      <th>pixel11</th>\n",
              "      <th>pixel12</th>\n",
              "      <th>pixel13</th>\n",
              "      <th>pixel14</th>\n",
              "      <th>pixel15</th>\n",
              "      <th>pixel16</th>\n",
              "      <th>pixel17</th>\n",
              "      <th>pixel18</th>\n",
              "      <th>pixel19</th>\n",
              "      <th>pixel20</th>\n",
              "      <th>pixel21</th>\n",
              "      <th>pixel22</th>\n",
              "      <th>pixel23</th>\n",
              "      <th>pixel24</th>\n",
              "      <th>pixel25</th>\n",
              "      <th>pixel26</th>\n",
              "      <th>pixel27</th>\n",
              "      <th>pixel28</th>\n",
              "      <th>pixel29</th>\n",
              "      <th>pixel30</th>\n",
              "      <th>pixel31</th>\n",
              "      <th>pixel32</th>\n",
              "      <th>pixel33</th>\n",
              "      <th>pixel34</th>\n",
              "      <th>pixel35</th>\n",
              "      <th>pixel36</th>\n",
              "      <th>pixel37</th>\n",
              "      <th>...</th>\n",
              "      <th>pixel986</th>\n",
              "      <th>pixel987</th>\n",
              "      <th>pixel988</th>\n",
              "      <th>pixel989</th>\n",
              "      <th>pixel990</th>\n",
              "      <th>pixel991</th>\n",
              "      <th>pixel992</th>\n",
              "      <th>pixel993</th>\n",
              "      <th>pixel994</th>\n",
              "      <th>pixel995</th>\n",
              "      <th>pixel996</th>\n",
              "      <th>pixel997</th>\n",
              "      <th>pixel998</th>\n",
              "      <th>pixel999</th>\n",
              "      <th>pixel1000</th>\n",
              "      <th>pixel1001</th>\n",
              "      <th>pixel1002</th>\n",
              "      <th>pixel1003</th>\n",
              "      <th>pixel1004</th>\n",
              "      <th>pixel1005</th>\n",
              "      <th>pixel1006</th>\n",
              "      <th>pixel1007</th>\n",
              "      <th>pixel1008</th>\n",
              "      <th>pixel1009</th>\n",
              "      <th>pixel1010</th>\n",
              "      <th>pixel1011</th>\n",
              "      <th>pixel1012</th>\n",
              "      <th>pixel1013</th>\n",
              "      <th>pixel1014</th>\n",
              "      <th>pixel1015</th>\n",
              "      <th>pixel1016</th>\n",
              "      <th>pixel1017</th>\n",
              "      <th>pixel1018</th>\n",
              "      <th>pixel1019</th>\n",
              "      <th>pixel1020</th>\n",
              "      <th>pixel1021</th>\n",
              "      <th>pixel1022</th>\n",
              "      <th>pixel1023</th>\n",
              "      <th>pixel1024</th>\n",
              "      <th>Unnamed: 1027</th>\n",
              "    </tr>\n",
              "  </thead>\n",
              "  <tbody>\n",
              "    <tr>\n",
              "      <th>0</th>\n",
              "      <td>x86__64__lsb__unix-system-v__clang-3.8.0__O0__...</td>\n",
              "      <td>malware</td>\n",
              "      <td>1</td>\n",
              "      <td>85</td>\n",
              "      <td>17</td>\n",
              "      <td>34</td>\n",
              "      <td>34</td>\n",
              "      <td>0</td>\n",
              "      <td>17</td>\n",
              "      <td>17</td>\n",
              "      <td>0</td>\n",
              "      <td>0</td>\n",
              "      <td>0</td>\n",
              "      <td>0</td>\n",
              "      <td>0</td>\n",
              "      <td>0</td>\n",
              "      <td>0</td>\n",
              "      <td>0</td>\n",
              "      <td>0</td>\n",
              "      <td>0</td>\n",
              "      <td>0</td>\n",
              "      <td>0</td>\n",
              "      <td>0</td>\n",
              "      <td>17</td>\n",
              "      <td>0</td>\n",
              "      <td>0</td>\n",
              "      <td>0</td>\n",
              "      <td>238</td>\n",
              "      <td>51</td>\n",
              "      <td>0</td>\n",
              "      <td>0</td>\n",
              "      <td>0</td>\n",
              "      <td>0</td>\n",
              "      <td>0</td>\n",
              "      <td>0</td>\n",
              "      <td>0</td>\n",
              "      <td>0</td>\n",
              "      <td>0</td>\n",
              "      <td>0</td>\n",
              "      <td>0</td>\n",
              "      <td>...</td>\n",
              "      <td>0</td>\n",
              "      <td>0</td>\n",
              "      <td>0</td>\n",
              "      <td>34</td>\n",
              "      <td>0</td>\n",
              "      <td>0</td>\n",
              "      <td>0</td>\n",
              "      <td>0</td>\n",
              "      <td>0</td>\n",
              "      <td>0</td>\n",
              "      <td>0</td>\n",
              "      <td>0</td>\n",
              "      <td>0</td>\n",
              "      <td>0</td>\n",
              "      <td>0</td>\n",
              "      <td>0</td>\n",
              "      <td>0</td>\n",
              "      <td>0</td>\n",
              "      <td>0</td>\n",
              "      <td>0</td>\n",
              "      <td>0</td>\n",
              "      <td>0</td>\n",
              "      <td>0</td>\n",
              "      <td>255</td>\n",
              "      <td>0</td>\n",
              "      <td>0</td>\n",
              "      <td>0</td>\n",
              "      <td>34</td>\n",
              "      <td>0</td>\n",
              "      <td>0</td>\n",
              "      <td>0</td>\n",
              "      <td>0</td>\n",
              "      <td>0</td>\n",
              "      <td>0</td>\n",
              "      <td>0</td>\n",
              "      <td>0</td>\n",
              "      <td>0</td>\n",
              "      <td>0</td>\n",
              "      <td>0</td>\n",
              "      <td>NaN</td>\n",
              "    </tr>\n",
              "    <tr>\n",
              "      <th>1</th>\n",
              "      <td>x86__64__lsb__unix-system-v__clang-3.8.0__O0__...</td>\n",
              "      <td>malware</td>\n",
              "      <td>1</td>\n",
              "      <td>85</td>\n",
              "      <td>17</td>\n",
              "      <td>34</td>\n",
              "      <td>34</td>\n",
              "      <td>0</td>\n",
              "      <td>17</td>\n",
              "      <td>17</td>\n",
              "      <td>0</td>\n",
              "      <td>0</td>\n",
              "      <td>0</td>\n",
              "      <td>0</td>\n",
              "      <td>0</td>\n",
              "      <td>0</td>\n",
              "      <td>0</td>\n",
              "      <td>0</td>\n",
              "      <td>0</td>\n",
              "      <td>0</td>\n",
              "      <td>0</td>\n",
              "      <td>0</td>\n",
              "      <td>0</td>\n",
              "      <td>17</td>\n",
              "      <td>0</td>\n",
              "      <td>0</td>\n",
              "      <td>0</td>\n",
              "      <td>102</td>\n",
              "      <td>34</td>\n",
              "      <td>0</td>\n",
              "      <td>0</td>\n",
              "      <td>0</td>\n",
              "      <td>0</td>\n",
              "      <td>0</td>\n",
              "      <td>0</td>\n",
              "      <td>0</td>\n",
              "      <td>0</td>\n",
              "      <td>0</td>\n",
              "      <td>0</td>\n",
              "      <td>0</td>\n",
              "      <td>...</td>\n",
              "      <td>0</td>\n",
              "      <td>0</td>\n",
              "      <td>0</td>\n",
              "      <td>0</td>\n",
              "      <td>0</td>\n",
              "      <td>0</td>\n",
              "      <td>0</td>\n",
              "      <td>68</td>\n",
              "      <td>0</td>\n",
              "      <td>0</td>\n",
              "      <td>0</td>\n",
              "      <td>34</td>\n",
              "      <td>0</td>\n",
              "      <td>0</td>\n",
              "      <td>0</td>\n",
              "      <td>0</td>\n",
              "      <td>0</td>\n",
              "      <td>0</td>\n",
              "      <td>0</td>\n",
              "      <td>0</td>\n",
              "      <td>0</td>\n",
              "      <td>0</td>\n",
              "      <td>0</td>\n",
              "      <td>0</td>\n",
              "      <td>0</td>\n",
              "      <td>0</td>\n",
              "      <td>0</td>\n",
              "      <td>0</td>\n",
              "      <td>0</td>\n",
              "      <td>0</td>\n",
              "      <td>0</td>\n",
              "      <td>51</td>\n",
              "      <td>0</td>\n",
              "      <td>0</td>\n",
              "      <td>0</td>\n",
              "      <td>34</td>\n",
              "      <td>0</td>\n",
              "      <td>0</td>\n",
              "      <td>0</td>\n",
              "      <td>NaN</td>\n",
              "    </tr>\n",
              "    <tr>\n",
              "      <th>2</th>\n",
              "      <td>x86__64__lsb__unix-system-v__clang-3.8.0__O0__...</td>\n",
              "      <td>malware</td>\n",
              "      <td>1</td>\n",
              "      <td>85</td>\n",
              "      <td>17</td>\n",
              "      <td>34</td>\n",
              "      <td>34</td>\n",
              "      <td>0</td>\n",
              "      <td>17</td>\n",
              "      <td>17</td>\n",
              "      <td>0</td>\n",
              "      <td>0</td>\n",
              "      <td>0</td>\n",
              "      <td>0</td>\n",
              "      <td>0</td>\n",
              "      <td>0</td>\n",
              "      <td>0</td>\n",
              "      <td>0</td>\n",
              "      <td>0</td>\n",
              "      <td>0</td>\n",
              "      <td>0</td>\n",
              "      <td>0</td>\n",
              "      <td>0</td>\n",
              "      <td>17</td>\n",
              "      <td>0</td>\n",
              "      <td>0</td>\n",
              "      <td>0</td>\n",
              "      <td>238</td>\n",
              "      <td>51</td>\n",
              "      <td>0</td>\n",
              "      <td>0</td>\n",
              "      <td>0</td>\n",
              "      <td>0</td>\n",
              "      <td>0</td>\n",
              "      <td>0</td>\n",
              "      <td>0</td>\n",
              "      <td>0</td>\n",
              "      <td>0</td>\n",
              "      <td>0</td>\n",
              "      <td>0</td>\n",
              "      <td>...</td>\n",
              "      <td>0</td>\n",
              "      <td>0</td>\n",
              "      <td>0</td>\n",
              "      <td>34</td>\n",
              "      <td>0</td>\n",
              "      <td>0</td>\n",
              "      <td>0</td>\n",
              "      <td>0</td>\n",
              "      <td>0</td>\n",
              "      <td>0</td>\n",
              "      <td>0</td>\n",
              "      <td>0</td>\n",
              "      <td>0</td>\n",
              "      <td>0</td>\n",
              "      <td>0</td>\n",
              "      <td>0</td>\n",
              "      <td>0</td>\n",
              "      <td>0</td>\n",
              "      <td>0</td>\n",
              "      <td>0</td>\n",
              "      <td>0</td>\n",
              "      <td>0</td>\n",
              "      <td>0</td>\n",
              "      <td>255</td>\n",
              "      <td>0</td>\n",
              "      <td>0</td>\n",
              "      <td>0</td>\n",
              "      <td>34</td>\n",
              "      <td>0</td>\n",
              "      <td>0</td>\n",
              "      <td>0</td>\n",
              "      <td>0</td>\n",
              "      <td>0</td>\n",
              "      <td>0</td>\n",
              "      <td>0</td>\n",
              "      <td>0</td>\n",
              "      <td>0</td>\n",
              "      <td>0</td>\n",
              "      <td>0</td>\n",
              "      <td>NaN</td>\n",
              "    </tr>\n",
              "  </tbody>\n",
              "</table>\n",
              "<p>3 rows × 1028 columns</p>\n",
              "</div>\n",
              "      <button class=\"colab-df-convert\" onclick=\"convertToInteractive('df-4c09209d-76a2-4c45-a73f-9c9fab7ec709')\"\n",
              "              title=\"Convert this dataframe to an interactive table.\"\n",
              "              style=\"display:none;\">\n",
              "        \n",
              "  <svg xmlns=\"http://www.w3.org/2000/svg\" height=\"24px\"viewBox=\"0 0 24 24\"\n",
              "       width=\"24px\">\n",
              "    <path d=\"M0 0h24v24H0V0z\" fill=\"none\"/>\n",
              "    <path d=\"M18.56 5.44l.94 2.06.94-2.06 2.06-.94-2.06-.94-.94-2.06-.94 2.06-2.06.94zm-11 1L8.5 8.5l.94-2.06 2.06-.94-2.06-.94L8.5 2.5l-.94 2.06-2.06.94zm10 10l.94 2.06.94-2.06 2.06-.94-2.06-.94-.94-2.06-.94 2.06-2.06.94z\"/><path d=\"M17.41 7.96l-1.37-1.37c-.4-.4-.92-.59-1.43-.59-.52 0-1.04.2-1.43.59L10.3 9.45l-7.72 7.72c-.78.78-.78 2.05 0 2.83L4 21.41c.39.39.9.59 1.41.59.51 0 1.02-.2 1.41-.59l7.78-7.78 2.81-2.81c.8-.78.8-2.07 0-2.86zM5.41 20L4 18.59l7.72-7.72 1.47 1.35L5.41 20z\"/>\n",
              "  </svg>\n",
              "      </button>\n",
              "      \n",
              "  <style>\n",
              "    .colab-df-container {\n",
              "      display:flex;\n",
              "      flex-wrap:wrap;\n",
              "      gap: 12px;\n",
              "    }\n",
              "\n",
              "    .colab-df-convert {\n",
              "      background-color: #E8F0FE;\n",
              "      border: none;\n",
              "      border-radius: 50%;\n",
              "      cursor: pointer;\n",
              "      display: none;\n",
              "      fill: #1967D2;\n",
              "      height: 32px;\n",
              "      padding: 0 0 0 0;\n",
              "      width: 32px;\n",
              "    }\n",
              "\n",
              "    .colab-df-convert:hover {\n",
              "      background-color: #E2EBFA;\n",
              "      box-shadow: 0px 1px 2px rgba(60, 64, 67, 0.3), 0px 1px 3px 1px rgba(60, 64, 67, 0.15);\n",
              "      fill: #174EA6;\n",
              "    }\n",
              "\n",
              "    [theme=dark] .colab-df-convert {\n",
              "      background-color: #3B4455;\n",
              "      fill: #D2E3FC;\n",
              "    }\n",
              "\n",
              "    [theme=dark] .colab-df-convert:hover {\n",
              "      background-color: #434B5C;\n",
              "      box-shadow: 0px 1px 3px 1px rgba(0, 0, 0, 0.15);\n",
              "      filter: drop-shadow(0px 1px 2px rgba(0, 0, 0, 0.3));\n",
              "      fill: #FFFFFF;\n",
              "    }\n",
              "  </style>\n",
              "\n",
              "      <script>\n",
              "        const buttonEl =\n",
              "          document.querySelector('#df-4c09209d-76a2-4c45-a73f-9c9fab7ec709 button.colab-df-convert');\n",
              "        buttonEl.style.display =\n",
              "          google.colab.kernel.accessAllowed ? 'block' : 'none';\n",
              "\n",
              "        async function convertToInteractive(key) {\n",
              "          const element = document.querySelector('#df-4c09209d-76a2-4c45-a73f-9c9fab7ec709');\n",
              "          const dataTable =\n",
              "            await google.colab.kernel.invokeFunction('convertToInteractive',\n",
              "                                                     [key], {});\n",
              "          if (!dataTable) return;\n",
              "\n",
              "          const docLinkHtml = 'Like what you see? Visit the ' +\n",
              "            '<a target=\"_blank\" href=https://colab.research.google.com/notebooks/data_table.ipynb>data table notebook</a>'\n",
              "            + ' to learn more about interactive tables.';\n",
              "          element.innerHTML = '';\n",
              "          dataTable['output_type'] = 'display_data';\n",
              "          await google.colab.output.renderOutput(dataTable, element);\n",
              "          const docLink = document.createElement('div');\n",
              "          docLink.innerHTML = docLinkHtml;\n",
              "          element.appendChild(docLink);\n",
              "        }\n",
              "      </script>\n",
              "    </div>\n",
              "  </div>\n",
              "  "
            ],
            "text/plain": [
              "                                            filename  ... Unnamed: 1027\n",
              "0  x86__64__lsb__unix-system-v__clang-3.8.0__O0__...  ...           NaN\n",
              "1  x86__64__lsb__unix-system-v__clang-3.8.0__O0__...  ...           NaN\n",
              "2  x86__64__lsb__unix-system-v__clang-3.8.0__O0__...  ...           NaN\n",
              "\n",
              "[3 rows x 1028 columns]"
            ]
          },
          "metadata": {},
          "execution_count": 50
        }
      ]
    },
    {
      "cell_type": "code",
      "source": [
        "# lets see how many values are there per class\n",
        "df['class'].value_counts()"
      ],
      "metadata": {
        "colab": {
          "base_uri": "https://localhost:8080/"
        },
        "id": "uGuJXPUz-xQn",
        "outputId": "7a692201-b67e-46bc-f87e-c1e37cd82a9a"
      },
      "execution_count": 51,
      "outputs": [
        {
          "output_type": "execute_result",
          "data": {
            "text/plain": [
              "benignware    38073\n",
              "malware         711\n",
              "hackware        103\n",
              "Name: class, dtype: int64"
            ]
          },
          "metadata": {},
          "execution_count": 51
        }
      ]
    },
    {
      "cell_type": "code",
      "source": [
        "ax = sns.countplot(x='class', data=df, palette=\"Set3\")\n",
        "df['class'].value_counts()"
      ],
      "metadata": {
        "colab": {
          "base_uri": "https://localhost:8080/",
          "height": 349
        },
        "id": "Dhq2rNB5-z8E",
        "outputId": "dbd6d54f-e96c-448e-bde0-b1c4f4fa64c0"
      },
      "execution_count": 52,
      "outputs": [
        {
          "output_type": "execute_result",
          "data": {
            "text/plain": [
              "benignware    38073\n",
              "malware         711\n",
              "hackware        103\n",
              "Name: class, dtype: int64"
            ]
          },
          "metadata": {},
          "execution_count": 52
        },
        {
          "output_type": "display_data",
          "data": {
            "image/png": "[encoded data removed]",
            "text/plain": [
              "<Figure size 432x288 with 1 Axes>"
            ]
          },
          "metadata": {
            "needs_background": "light"
          }
        }
      ]
    },
    {
      "cell_type": "code",
      "source": [
        "'''SKIP THIS CELL IF THE CSV FILE HAS ALREADY BEEN CREATED'''\n",
        "# only taking the file names and their classes- whose images are available\n",
        "X = []\n",
        "y = []\n",
        "positions = []\n",
        "\n",
        "df_new = pd.DataFrame(columns=['filename', 'class'])\n",
        "\n",
        "pos = -1\n",
        "for image_name in df['filename']:\n",
        "  pos += 1\n",
        "  try: \n",
        "    img = imread('drive/MyDrive/cnn_dataset/images/'+image_name+'.jpg')\n",
        "    X.append(image_name+'.jpg')\n",
        "    positions.append(pos)\n",
        "    \n",
        "  except FileNotFoundError as not_found:\n",
        "    continue\n",
        "\n",
        "for i in positions:\n",
        "  y.append(df['class'][i])"
      ],
      "metadata": {
        "id": "smqSMa0--2ea"
      },
      "execution_count": 6,
      "outputs": []
    },
    {
      "cell_type": "code",
      "source": [
        "'''SKIP THIS CELL IF THE CSV FILE HAS ALREADY BEEN CREATED'''\n",
        "# adding gray image filenames and class in our lists\n",
        "import os\n",
        "\n",
        "for filename in os.listdir('drive/MyDrive/cnn_dataset/gray'):\n",
        "    if filename.endswith(\"jpg\"):  \n",
        "        X.append(filename)\n",
        "        y.append('gray')"
      ],
      "metadata": {
        "id": "DrBWY7mz-7km"
      },
      "execution_count": 7,
      "outputs": []
    },
    {
      "cell_type": "code",
      "source": [
        "'''SKIP THIS CELL IF THE CSV FILE HAS ALREADY BEEN CREATED'''\n",
        "# creating a new dataframe with x and y\n",
        "df_new = pd.DataFrame(\n",
        "    {'file_name': X,\n",
        "     'class_name': y })"
      ],
      "metadata": {
        "id": "O_JtVGMZ-9Z2"
      },
      "execution_count": 8,
      "outputs": []
    },
    {
      "cell_type": "code",
      "source": [
        "'''SKIP THIS CELL IF THE CSV FILE HAS ALREADY BEEN CREATED'''\n",
        "df_new['class_name'].value_counts()"
      ],
      "metadata": {
        "colab": {
          "base_uri": "https://localhost:8080/"
        },
        "id": "FwTDPu4P-_GY",
        "outputId": "b0ba5145-e046-4466-8313-2d4d3004339a"
      },
      "execution_count": 9,
      "outputs": [
        {
          "output_type": "execute_result",
          "data": {
            "text/plain": [
              "benignware    2999\n",
              "malware        711\n",
              "gray           669\n",
              "hackware       103\n",
              "Name: class_name, dtype: int64"
            ]
          },
          "metadata": {},
          "execution_count": 9
        }
      ]
    },
    {
      "cell_type": "code",
      "source": [
        "'''SKIP THIS CELL IF THE CSV FILE HAS ALREADY BEEN CREATED'''\n",
        "# replacing the labels with numerical values\n",
        "df_new = df_new.replace('benignware', 0)\n",
        "df_new = df_new.replace('malware', 1)\n",
        "df_new = df_new.replace('hackware', 2)\n",
        "df_new = df_new.replace('gray', 3)\n",
        "df_new"
      ],
      "metadata": {
        "colab": {
          "base_uri": "https://localhost:8080/",
          "height": 423
        },
        "id": "dPxlbwo0-_rO",
        "outputId": "99d4b781-5ad1-4138-f891-f82a808a16bd"
      },
      "execution_count": 10,
      "outputs": [
        {
          "output_type": "execute_result",
          "data": {
            "text/html": [
              "\n",
              "  <div id=\"df-979736f6-db88-4470-8f85-026db079f5df\">\n",
              "    <div class=\"colab-df-container\">\n",
              "      <div>\n",
              "<style scoped>\n",
              "    .dataframe tbody tr th:only-of-type {\n",
              "        vertical-align: middle;\n",
              "    }\n",
              "\n",
              "    .dataframe tbody tr th {\n",
              "        vertical-align: top;\n",
              "    }\n",
              "\n",
              "    .dataframe thead th {\n",
              "        text-align: right;\n",
              "    }\n",
              "</style>\n",
              "<table border=\"1\" class=\"dataframe\">\n",
              "  <thead>\n",
              "    <tr style=\"text-align: right;\">\n",
              "      <th></th>\n",
              "      <th>file_name</th>\n",
              "      <th>class_name</th>\n",
              "    </tr>\n",
              "  </thead>\n",
              "  <tbody>\n",
              "    <tr>\n",
              "      <th>0</th>\n",
              "      <td>x86__64__lsb__unix-system-v__clang-3.8.0__O0__...</td>\n",
              "      <td>1</td>\n",
              "    </tr>\n",
              "    <tr>\n",
              "      <th>1</th>\n",
              "      <td>x86__64__lsb__unix-system-v__clang-3.8.0__O0__...</td>\n",
              "      <td>1</td>\n",
              "    </tr>\n",
              "    <tr>\n",
              "      <th>2</th>\n",
              "      <td>x86__64__lsb__unix-system-v__clang-3.8.0__O0__...</td>\n",
              "      <td>1</td>\n",
              "    </tr>\n",
              "    <tr>\n",
              "      <th>3</th>\n",
              "      <td>x86__64__lsb__unix-system-v__clang-3.8.0__O0__...</td>\n",
              "      <td>1</td>\n",
              "    </tr>\n",
              "    <tr>\n",
              "      <th>4</th>\n",
              "      <td>x86__64__lsb__unix-system-v__clang-3.8.0__O0__...</td>\n",
              "      <td>1</td>\n",
              "    </tr>\n",
              "    <tr>\n",
              "      <th>...</th>\n",
              "      <td>...</td>\n",
              "      <td>...</td>\n",
              "    </tr>\n",
              "    <tr>\n",
              "      <th>4477</th>\n",
              "      <td>lightslategrey.jpg</td>\n",
              "      <td>3</td>\n",
              "    </tr>\n",
              "    <tr>\n",
              "      <th>4478</th>\n",
              "      <td>mediumorchid.jpg</td>\n",
              "      <td>3</td>\n",
              "    </tr>\n",
              "    <tr>\n",
              "      <th>4479</th>\n",
              "      <td>burlywood3.jpg</td>\n",
              "      <td>3</td>\n",
              "    </tr>\n",
              "    <tr>\n",
              "      <th>4480</th>\n",
              "      <td>paleturquoise1.jpg</td>\n",
              "      <td>3</td>\n",
              "    </tr>\n",
              "    <tr>\n",
              "      <th>4481</th>\n",
              "      <td>grey54.jpg</td>\n",
              "      <td>3</td>\n",
              "    </tr>\n",
              "  </tbody>\n",
              "</table>\n",
              "<p>4482 rows × 2 columns</p>\n",
              "</div>\n",
              "      <button class=\"colab-df-convert\" onclick=\"convertToInteractive('df-979736f6-db88-4470-8f85-026db079f5df')\"\n",
              "              title=\"Convert this dataframe to an interactive table.\"\n",
              "              style=\"display:none;\">\n",
              "        \n",
              "  <svg xmlns=\"http://www.w3.org/2000/svg\" height=\"24px\"viewBox=\"0 0 24 24\"\n",
              "       width=\"24px\">\n",
              "    <path d=\"M0 0h24v24H0V0z\" fill=\"none\"/>\n",
              "    <path d=\"M18.56 5.44l.94 2.06.94-2.06 2.06-.94-2.06-.94-.94-2.06-.94 2.06-2.06.94zm-11 1L8.5 8.5l.94-2.06 2.06-.94-2.06-.94L8.5 2.5l-.94 2.06-2.06.94zm10 10l.94 2.06.94-2.06 2.06-.94-2.06-.94-.94-2.06-.94 2.06-2.06.94z\"/><path d=\"M17.41 7.96l-1.37-1.37c-.4-.4-.92-.59-1.43-.59-.52 0-1.04.2-1.43.59L10.3 9.45l-7.72 7.72c-.78.78-.78 2.05 0 2.83L4 21.41c.39.39.9.59 1.41.59.51 0 1.02-.2 1.41-.59l7.78-7.78 2.81-2.81c.8-.78.8-2.07 0-2.86zM5.41 20L4 18.59l7.72-7.72 1.47 1.35L5.41 20z\"/>\n",
              "  </svg>\n",
              "      </button>\n",
              "      \n",
              "  <style>\n",
              "    .colab-df-container {\n",
              "      display:flex;\n",
              "      flex-wrap:wrap;\n",
              "      gap: 12px;\n",
              "    }\n",
              "\n",
              "    .colab-df-convert {\n",
              "      background-color: #E8F0FE;\n",
              "      border: none;\n",
              "      border-radius: 50%;\n",
              "      cursor: pointer;\n",
              "      display: none;\n",
              "      fill: #1967D2;\n",
              "      height: 32px;\n",
              "      padding: 0 0 0 0;\n",
              "      width: 32px;\n",
              "    }\n",
              "\n",
              "    .colab-df-convert:hover {\n",
              "      background-color: #E2EBFA;\n",
              "      box-shadow: 0px 1px 2px rgba(60, 64, 67, 0.3), 0px 1px 3px 1px rgba(60, 64, 67, 0.15);\n",
              "      fill: #174EA6;\n",
              "    }\n",
              "\n",
              "    [theme=dark] .colab-df-convert {\n",
              "      background-color: #3B4455;\n",
              "      fill: #D2E3FC;\n",
              "    }\n",
              "\n",
              "    [theme=dark] .colab-df-convert:hover {\n",
              "      background-color: #434B5C;\n",
              "      box-shadow: 0px 1px 3px 1px rgba(0, 0, 0, 0.15);\n",
              "      filter: drop-shadow(0px 1px 2px rgba(0, 0, 0, 0.3));\n",
              "      fill: #FFFFFF;\n",
              "    }\n",
              "  </style>\n",
              "\n",
              "      <script>\n",
              "        const buttonEl =\n",
              "          document.querySelector('#df-979736f6-db88-4470-8f85-026db079f5df button.colab-df-convert');\n",
              "        buttonEl.style.display =\n",
              "          google.colab.kernel.accessAllowed ? 'block' : 'none';\n",
              "\n",
              "        async function convertToInteractive(key) {\n",
              "          const element = document.querySelector('#df-979736f6-db88-4470-8f85-026db079f5df');\n",
              "          const dataTable =\n",
              "            await google.colab.kernel.invokeFunction('convertToInteractive',\n",
              "                                                     [key], {});\n",
              "          if (!dataTable) return;\n",
              "\n",
              "          const docLinkHtml = 'Like what you see? Visit the ' +\n",
              "            '<a target=\"_blank\" href=https://colab.research.google.com/notebooks/data_table.ipynb>data table notebook</a>'\n",
              "            + ' to learn more about interactive tables.';\n",
              "          element.innerHTML = '';\n",
              "          dataTable['output_type'] = 'display_data';\n",
              "          await google.colab.output.renderOutput(dataTable, element);\n",
              "          const docLink = document.createElement('div');\n",
              "          docLink.innerHTML = docLinkHtml;\n",
              "          element.appendChild(docLink);\n",
              "        }\n",
              "      </script>\n",
              "    </div>\n",
              "  </div>\n",
              "  "
            ],
            "text/plain": [
              "                                              file_name  class_name\n",
              "0     x86__64__lsb__unix-system-v__clang-3.8.0__O0__...           1\n",
              "1     x86__64__lsb__unix-system-v__clang-3.8.0__O0__...           1\n",
              "2     x86__64__lsb__unix-system-v__clang-3.8.0__O0__...           1\n",
              "3     x86__64__lsb__unix-system-v__clang-3.8.0__O0__...           1\n",
              "4     x86__64__lsb__unix-system-v__clang-3.8.0__O0__...           1\n",
              "...                                                 ...         ...\n",
              "4477                                 lightslategrey.jpg           3\n",
              "4478                                   mediumorchid.jpg           3\n",
              "4479                                     burlywood3.jpg           3\n",
              "4480                                 paleturquoise1.jpg           3\n",
              "4481                                         grey54.jpg           3\n",
              "\n",
              "[4482 rows x 2 columns]"
            ]
          },
          "metadata": {},
          "execution_count": 10
        }
      ]
    },
    {
      "cell_type": "code",
      "source": [
        "'''SKIP THIS CELL IF THE CSV FILE HAS ALREADY BEEN CREATED'''\n",
        "# creating the new csv file\n",
        "df_new.to_csv('modified_dataset.csv')\n",
        "!cp modified_dataset.csv \"drive/My Drive/cnn_dataset\""
      ],
      "metadata": {
        "id": "PwWK_7m4_CrO"
      },
      "execution_count": 11,
      "outputs": []
    },
    {
      "cell_type": "code",
      "source": [
        "# placing the manual_seed value as my student id\n",
        "torch.manual_seed(170204059)\n",
        "np.random.seed(170204059)"
      ],
      "metadata": {
        "id": "deMee0vt_Efu"
      },
      "execution_count": 53,
      "outputs": []
    },
    {
      "cell_type": "code",
      "source": [
        "df_new = pd.read_csv('drive/My Drive/cnn_dataset/modified_dataset.csv')\n",
        "df_new.head(3)"
      ],
      "metadata": {
        "colab": {
          "base_uri": "https://localhost:8080/",
          "height": 143
        },
        "id": "3pJeSaTC_GUe",
        "outputId": "a961d3e5-a582-4bc3-8ff1-07a7d6df6021"
      },
      "execution_count": 54,
      "outputs": [
        {
          "output_type": "execute_result",
          "data": {
            "text/html": [
              "\n",
              "  <div id=\"df-283ecf02-5e15-4d1c-ac66-60764feb2ad8\">\n",
              "    <div class=\"colab-df-container\">\n",
              "      <div>\n",
              "<style scoped>\n",
              "    .dataframe tbody tr th:only-of-type {\n",
              "        vertical-align: middle;\n",
              "    }\n",
              "\n",
              "    .dataframe tbody tr th {\n",
              "        vertical-align: top;\n",
              "    }\n",
              "\n",
              "    .dataframe thead th {\n",
              "        text-align: right;\n",
              "    }\n",
              "</style>\n",
              "<table border=\"1\" class=\"dataframe\">\n",
              "  <thead>\n",
              "    <tr style=\"text-align: right;\">\n",
              "      <th></th>\n",
              "      <th>Unnamed: 0</th>\n",
              "      <th>file_name</th>\n",
              "      <th>class_name</th>\n",
              "    </tr>\n",
              "  </thead>\n",
              "  <tbody>\n",
              "    <tr>\n",
              "      <th>0</th>\n",
              "      <td>0</td>\n",
              "      <td>x86__64__lsb__unix-system-v__clang-3.8.0__O0__...</td>\n",
              "      <td>1</td>\n",
              "    </tr>\n",
              "    <tr>\n",
              "      <th>1</th>\n",
              "      <td>1</td>\n",
              "      <td>x86__64__lsb__unix-system-v__clang-3.8.0__O0__...</td>\n",
              "      <td>1</td>\n",
              "    </tr>\n",
              "    <tr>\n",
              "      <th>2</th>\n",
              "      <td>2</td>\n",
              "      <td>x86__64__lsb__unix-system-v__clang-3.8.0__O0__...</td>\n",
              "      <td>1</td>\n",
              "    </tr>\n",
              "  </tbody>\n",
              "</table>\n",
              "</div>\n",
              "      <button class=\"colab-df-convert\" onclick=\"convertToInteractive('df-283ecf02-5e15-4d1c-ac66-60764feb2ad8')\"\n",
              "              title=\"Convert this dataframe to an interactive table.\"\n",
              "              style=\"display:none;\">\n",
              "        \n",
              "  <svg xmlns=\"http://www.w3.org/2000/svg\" height=\"24px\"viewBox=\"0 0 24 24\"\n",
              "       width=\"24px\">\n",
              "    <path d=\"M0 0h24v24H0V0z\" fill=\"none\"/>\n",
              "    <path d=\"M18.56 5.44l.94 2.06.94-2.06 2.06-.94-2.06-.94-.94-2.06-.94 2.06-2.06.94zm-11 1L8.5 8.5l.94-2.06 2.06-.94-2.06-.94L8.5 2.5l-.94 2.06-2.06.94zm10 10l.94 2.06.94-2.06 2.06-.94-2.06-.94-.94-2.06-.94 2.06-2.06.94z\"/><path d=\"M17.41 7.96l-1.37-1.37c-.4-.4-.92-.59-1.43-.59-.52 0-1.04.2-1.43.59L10.3 9.45l-7.72 7.72c-.78.78-.78 2.05 0 2.83L4 21.41c.39.39.9.59 1.41.59.51 0 1.02-.2 1.41-.59l7.78-7.78 2.81-2.81c.8-.78.8-2.07 0-2.86zM5.41 20L4 18.59l7.72-7.72 1.47 1.35L5.41 20z\"/>\n",
              "  </svg>\n",
              "      </button>\n",
              "      \n",
              "  <style>\n",
              "    .colab-df-container {\n",
              "      display:flex;\n",
              "      flex-wrap:wrap;\n",
              "      gap: 12px;\n",
              "    }\n",
              "\n",
              "    .colab-df-convert {\n",
              "      background-color: #E8F0FE;\n",
              "      border: none;\n",
              "      border-radius: 50%;\n",
              "      cursor: pointer;\n",
              "      display: none;\n",
              "      fill: #1967D2;\n",
              "      height: 32px;\n",
              "      padding: 0 0 0 0;\n",
              "      width: 32px;\n",
              "    }\n",
              "\n",
              "    .colab-df-convert:hover {\n",
              "      background-color: #E2EBFA;\n",
              "      box-shadow: 0px 1px 2px rgba(60, 64, 67, 0.3), 0px 1px 3px 1px rgba(60, 64, 67, 0.15);\n",
              "      fill: #174EA6;\n",
              "    }\n",
              "\n",
              "    [theme=dark] .colab-df-convert {\n",
              "      background-color: #3B4455;\n",
              "      fill: #D2E3FC;\n",
              "    }\n",
              "\n",
              "    [theme=dark] .colab-df-convert:hover {\n",
              "      background-color: #434B5C;\n",
              "      box-shadow: 0px 1px 3px 1px rgba(0, 0, 0, 0.15);\n",
              "      filter: drop-shadow(0px 1px 2px rgba(0, 0, 0, 0.3));\n",
              "      fill: #FFFFFF;\n",
              "    }\n",
              "  </style>\n",
              "\n",
              "      <script>\n",
              "        const buttonEl =\n",
              "          document.querySelector('#df-283ecf02-5e15-4d1c-ac66-60764feb2ad8 button.colab-df-convert');\n",
              "        buttonEl.style.display =\n",
              "          google.colab.kernel.accessAllowed ? 'block' : 'none';\n",
              "\n",
              "        async function convertToInteractive(key) {\n",
              "          const element = document.querySelector('#df-283ecf02-5e15-4d1c-ac66-60764feb2ad8');\n",
              "          const dataTable =\n",
              "            await google.colab.kernel.invokeFunction('convertToInteractive',\n",
              "                                                     [key], {});\n",
              "          if (!dataTable) return;\n",
              "\n",
              "          const docLinkHtml = 'Like what you see? Visit the ' +\n",
              "            '<a target=\"_blank\" href=https://colab.research.google.com/notebooks/data_table.ipynb>data table notebook</a>'\n",
              "            + ' to learn more about interactive tables.';\n",
              "          element.innerHTML = '';\n",
              "          dataTable['output_type'] = 'display_data';\n",
              "          await google.colab.output.renderOutput(dataTable, element);\n",
              "          const docLink = document.createElement('div');\n",
              "          docLink.innerHTML = docLinkHtml;\n",
              "          element.appendChild(docLink);\n",
              "        }\n",
              "      </script>\n",
              "    </div>\n",
              "  </div>\n",
              "  "
            ],
            "text/plain": [
              "   Unnamed: 0                                          file_name  class_name\n",
              "0           0  x86__64__lsb__unix-system-v__clang-3.8.0__O0__...           1\n",
              "1           1  x86__64__lsb__unix-system-v__clang-3.8.0__O0__...           1\n",
              "2           2  x86__64__lsb__unix-system-v__clang-3.8.0__O0__...           1"
            ]
          },
          "metadata": {},
          "execution_count": 54
        }
      ]
    },
    {
      "cell_type": "code",
      "source": [
        "# removing 'Unnamed: 0' column from our dataframe\n",
        "df_new = df_new.iloc[:, 1:]\n",
        "df_new.head(3)"
      ],
      "metadata": {
        "colab": {
          "base_uri": "https://localhost:8080/",
          "height": 143
        },
        "id": "4slvgqRQ_H6_",
        "outputId": "c967e823-1306-4660-8495-5562352b92b8"
      },
      "execution_count": 55,
      "outputs": [
        {
          "output_type": "execute_result",
          "data": {
            "text/html": [
              "\n",
              "  <div id=\"df-eeb13def-c2c8-4f72-907b-4439b515d0eb\">\n",
              "    <div class=\"colab-df-container\">\n",
              "      <div>\n",
              "<style scoped>\n",
              "    .dataframe tbody tr th:only-of-type {\n",
              "        vertical-align: middle;\n",
              "    }\n",
              "\n",
              "    .dataframe tbody tr th {\n",
              "        vertical-align: top;\n",
              "    }\n",
              "\n",
              "    .dataframe thead th {\n",
              "        text-align: right;\n",
              "    }\n",
              "</style>\n",
              "<table border=\"1\" class=\"dataframe\">\n",
              "  <thead>\n",
              "    <tr style=\"text-align: right;\">\n",
              "      <th></th>\n",
              "      <th>file_name</th>\n",
              "      <th>class_name</th>\n",
              "    </tr>\n",
              "  </thead>\n",
              "  <tbody>\n",
              "    <tr>\n",
              "      <th>0</th>\n",
              "      <td>x86__64__lsb__unix-system-v__clang-3.8.0__O0__...</td>\n",
              "      <td>1</td>\n",
              "    </tr>\n",
              "    <tr>\n",
              "      <th>1</th>\n",
              "      <td>x86__64__lsb__unix-system-v__clang-3.8.0__O0__...</td>\n",
              "      <td>1</td>\n",
              "    </tr>\n",
              "    <tr>\n",
              "      <th>2</th>\n",
              "      <td>x86__64__lsb__unix-system-v__clang-3.8.0__O0__...</td>\n",
              "      <td>1</td>\n",
              "    </tr>\n",
              "  </tbody>\n",
              "</table>\n",
              "</div>\n",
              "      <button class=\"colab-df-convert\" onclick=\"convertToInteractive('df-eeb13def-c2c8-4f72-907b-4439b515d0eb')\"\n",
              "              title=\"Convert this dataframe to an interactive table.\"\n",
              "              style=\"display:none;\">\n",
              "        \n",
              "  <svg xmlns=\"http://www.w3.org/2000/svg\" height=\"24px\"viewBox=\"0 0 24 24\"\n",
              "       width=\"24px\">\n",
              "    <path d=\"M0 0h24v24H0V0z\" fill=\"none\"/>\n",
              "    <path d=\"M18.56 5.44l.94 2.06.94-2.06 2.06-.94-2.06-.94-.94-2.06-.94 2.06-2.06.94zm-11 1L8.5 8.5l.94-2.06 2.06-.94-2.06-.94L8.5 2.5l-.94 2.06-2.06.94zm10 10l.94 2.06.94-2.06 2.06-.94-2.06-.94-.94-2.06-.94 2.06-2.06.94z\"/><path d=\"M17.41 7.96l-1.37-1.37c-.4-.4-.92-.59-1.43-.59-.52 0-1.04.2-1.43.59L10.3 9.45l-7.72 7.72c-.78.78-.78 2.05 0 2.83L4 21.41c.39.39.9.59 1.41.59.51 0 1.02-.2 1.41-.59l7.78-7.78 2.81-2.81c.8-.78.8-2.07 0-2.86zM5.41 20L4 18.59l7.72-7.72 1.47 1.35L5.41 20z\"/>\n",
              "  </svg>\n",
              "      </button>\n",
              "      \n",
              "  <style>\n",
              "    .colab-df-container {\n",
              "      display:flex;\n",
              "      flex-wrap:wrap;\n",
              "      gap: 12px;\n",
              "    }\n",
              "\n",
              "    .colab-df-convert {\n",
              "      background-color: #E8F0FE;\n",
              "      border: none;\n",
              "      border-radius: 50%;\n",
              "      cursor: pointer;\n",
              "      display: none;\n",
              "      fill: #1967D2;\n",
              "      height: 32px;\n",
              "      padding: 0 0 0 0;\n",
              "      width: 32px;\n",
              "    }\n",
              "\n",
              "    .colab-df-convert:hover {\n",
              "      background-color: #E2EBFA;\n",
              "      box-shadow: 0px 1px 2px rgba(60, 64, 67, 0.3), 0px 1px 3px 1px rgba(60, 64, 67, 0.15);\n",
              "      fill: #174EA6;\n",
              "    }\n",
              "\n",
              "    [theme=dark] .colab-df-convert {\n",
              "      background-color: #3B4455;\n",
              "      fill: #D2E3FC;\n",
              "    }\n",
              "\n",
              "    [theme=dark] .colab-df-convert:hover {\n",
              "      background-color: #434B5C;\n",
              "      box-shadow: 0px 1px 3px 1px rgba(0, 0, 0, 0.15);\n",
              "      filter: drop-shadow(0px 1px 2px rgba(0, 0, 0, 0.3));\n",
              "      fill: #FFFFFF;\n",
              "    }\n",
              "  </style>\n",
              "\n",
              "      <script>\n",
              "        const buttonEl =\n",
              "          document.querySelector('#df-eeb13def-c2c8-4f72-907b-4439b515d0eb button.colab-df-convert');\n",
              "        buttonEl.style.display =\n",
              "          google.colab.kernel.accessAllowed ? 'block' : 'none';\n",
              "\n",
              "        async function convertToInteractive(key) {\n",
              "          const element = document.querySelector('#df-eeb13def-c2c8-4f72-907b-4439b515d0eb');\n",
              "          const dataTable =\n",
              "            await google.colab.kernel.invokeFunction('convertToInteractive',\n",
              "                                                     [key], {});\n",
              "          if (!dataTable) return;\n",
              "\n",
              "          const docLinkHtml = 'Like what you see? Visit the ' +\n",
              "            '<a target=\"_blank\" href=https://colab.research.google.com/notebooks/data_table.ipynb>data table notebook</a>'\n",
              "            + ' to learn more about interactive tables.';\n",
              "          element.innerHTML = '';\n",
              "          dataTable['output_type'] = 'display_data';\n",
              "          await google.colab.output.renderOutput(dataTable, element);\n",
              "          const docLink = document.createElement('div');\n",
              "          docLink.innerHTML = docLinkHtml;\n",
              "          element.appendChild(docLink);\n",
              "        }\n",
              "      </script>\n",
              "    </div>\n",
              "  </div>\n",
              "  "
            ],
            "text/plain": [
              "                                           file_name  class_name\n",
              "0  x86__64__lsb__unix-system-v__clang-3.8.0__O0__...           1\n",
              "1  x86__64__lsb__unix-system-v__clang-3.8.0__O0__...           1\n",
              "2  x86__64__lsb__unix-system-v__clang-3.8.0__O0__...           1"
            ]
          },
          "metadata": {},
          "execution_count": 55
        }
      ]
    },
    {
      "cell_type": "code",
      "source": [
        "df_new.info()"
      ],
      "metadata": {
        "colab": {
          "base_uri": "https://localhost:8080/"
        },
        "id": "BbBCyes9_J8m",
        "outputId": "61191d7e-c758-4a40-d6e2-97b0c5f46aa5"
      },
      "execution_count": 56,
      "outputs": [
        {
          "output_type": "stream",
          "name": "stdout",
          "text": [
            "<class 'pandas.core.frame.DataFrame'>\n",
            "RangeIndex: 4482 entries, 0 to 4481\n",
            "Data columns (total 2 columns):\n",
            " #   Column      Non-Null Count  Dtype \n",
            "---  ------      --------------  ----- \n",
            " 0   file_name   4482 non-null   object\n",
            " 1   class_name  4482 non-null   int64 \n",
            "dtypes: int64(1), object(1)\n",
            "memory usage: 70.2+ KB\n"
          ]
        }
      ]
    },
    {
      "cell_type": "code",
      "source": [
        "# creating the Dataset class\n",
        "class Dataset(Dataset):\n",
        "    def __init__(self, df, root, transform=None):\n",
        "        self.data = df\n",
        "        self.root = root\n",
        "        self.transform = transform\n",
        "        \n",
        "    def __len__(self):\n",
        "        return len(self.data)\n",
        "    \n",
        "    def __getitem__(self, index):\n",
        "        item = self.data.iloc[index]\n",
        "        \n",
        "        path = self.root + \"/\" + item[0]\n",
        "        image = Image.open(path).convert('L')\n",
        "        label = item[1]\n",
        "        \n",
        "        if self.transform is not None:\n",
        "            image = self.transform(image)\n",
        "        return image, label"
      ],
      "metadata": {
        "id": "BHCf9IrZ_L-2"
      },
      "execution_count": 57,
      "outputs": []
    },
    {
      "cell_type": "code",
      "source": [
        "# setting up mean and std for 1 channel images\n",
        "mean = [0.5,]\n",
        "std =  [0.5,]\n",
        "\n",
        "transform = transforms.Compose([\n",
        "    transforms.Resize((32,32)),\n",
        "    transforms.ToTensor(),\n",
        "    transforms.Normalize(mean, std)\n",
        "])\n",
        "\n",
        "#Instantiate the Dataset Class\n",
        "dataset  = Dataset(df_new, 'drive/MyDrive/cnn_dataset/images_all.zip (Unzipped Files)/images_all', transform)\n",
        "\n",
        "print(\"Total Samples: \", len(dataset))"
      ],
      "metadata": {
        "colab": {
          "base_uri": "https://localhost:8080/"
        },
        "id": "OhC1fheE_OOm",
        "outputId": "6e6749e4-6bb9-4565-96af-a2643450d803"
      },
      "execution_count": 58,
      "outputs": [
        {
          "output_type": "stream",
          "name": "stdout",
          "text": [
            "Total Samples:  4482\n"
          ]
        }
      ]
    },
    {
      "cell_type": "code",
      "source": [
        "# bathc size and test size are set per assignemnt instruction\n",
        "batch_size = 20\n",
        "test_size = 0.2\n",
        "\n",
        "# shuffling the indices of the dataset\n",
        "indices = list(range(len(dataset)))\n",
        "np.random.shuffle(indices)\n",
        "\n",
        "# setting the split position of the dataset\n",
        "split = int(np.floor(test_size * len(dataset)))\n",
        "train_index, test_index = indices[split:], indices[:split]\n",
        "\n",
        "# defining the sampler\n",
        "train_sampler = SubsetRandomSampler(train_index)\n",
        "test_sampler = SubsetRandomSampler(test_index)\n",
        "\n",
        "# preparing the loaders; the dataset is already shuffled \n",
        "train_loader = torch.utils.data.DataLoader(\n",
        "    dataset, batch_size = batch_size, sampler=train_sampler, shuffle=False)\n",
        "\n",
        "test_loader = torch.utils.data.DataLoader(\n",
        "    dataset, batch_size = batch_size, sampler=test_sampler, shuffle=False)\n",
        "\n",
        "print(f\"Total train dataloader: {len(train_loader)}\")\n",
        "print(f\"Total test dataloader: {len(test_loader)}\")"
      ],
      "metadata": {
        "colab": {
          "base_uri": "https://localhost:8080/"
        },
        "id": "uk9Wrne7_UBG",
        "outputId": "c40ef00d-a4bc-4731-9ce1-c27900f31e88"
      },
      "execution_count": 59,
      "outputs": [
        {
          "output_type": "stream",
          "name": "stdout",
          "text": [
            "Total train dataloader: 180\n",
            "Total test dataloader: 45\n"
          ]
        }
      ]
    },
    {
      "cell_type": "code",
      "source": [
        "# the first four images of the dataset\n",
        "fig,ax = plt.subplots(nrows=1,ncols=4,figsize=(15,15))\n",
        "for i in range(0,4):\n",
        "    ax[i].imshow(dataset[i][0].numpy().reshape(32, 32), cmap='gray')\n",
        "    ax[i].axis('off')"
      ],
      "metadata": {
        "colab": {
          "base_uri": "https://localhost:8080/",
          "height": 213
        },
        "id": "qwbo3xw9_XCx",
        "outputId": "b49918a9-9ec1-42c2-acc2-25adf909f1d6"
      },
      "execution_count": 60,
      "outputs": [
        {
          "output_type": "display_data",
          "data": {
            "image/png": "[encoded data removed]",
            "text/plain": [
              "<Figure size 1080x1080 with 4 Axes>"
            ]
          },
          "metadata": {
            "needs_background": "light"
          }
        }
      ]
    },
    {
      "cell_type": "code",
      "source": [
        "# defining Hyperparameters\n",
        "# batch_size has been already defined\n",
        "\n",
        "num_iters = 2000\n",
        "input_dim = 32*32 \n",
        "output_dim = 4\n",
        "learning_rate = 0.001\n",
        "\n",
        "# Device\n",
        "device = torch.device(\"cuda\" if torch.cuda.is_available() else \"cpu\")\n",
        "print(device)"
      ],
      "metadata": {
        "colab": {
          "base_uri": "https://localhost:8080/"
        },
        "id": "aG0OAT2R_ZXt",
        "outputId": "26ada63f-6036-4576-ffcd-61d5191181e3"
      },
      "execution_count": 61,
      "outputs": [
        {
          "output_type": "stream",
          "name": "stdout",
          "text": [
            "cuda\n"
          ]
        }
      ]
    },
    {
      "cell_type": "code",
      "source": [
        "class NeuralNetwork(nn.Module):\n",
        "    def __init__(self, input_dim):\n",
        "        super(NeuralNetwork, self).__init__()\n",
        "        self.layer_1 = nn.Linear(input_dim, 100) \n",
        "        self.layer_2 = nn.Linear(100, 100) \n",
        "        self.layer_3 = nn.Linear(100, 100)   \n",
        "        self.layer_4 = nn.Linear(100, 100)  \n",
        "        self.layer_5 = nn.Linear(100, 100) \n",
        "        self.layer_6 = nn.Linear(100, 4)   \n",
        "        self.relu = nn.ReLU()\n",
        "        self.dropout = nn.Dropout()\n",
        "        \n",
        "\n",
        "    def forward(self, x):\n",
        "\n",
        "        x = self.layer_1(x)\n",
        "        x = self.dropout(x)\n",
        "        x = self.relu(x)\n",
        "\n",
        "        x = self.layer_2(x)\n",
        "        x = self.dropout(x)\n",
        "        x = self.relu(x)\n",
        "\n",
        "        x = self.layer_3(x)\n",
        "        x = self.dropout(x)\n",
        "        x = self.relu(x)\n",
        "\n",
        "        x = self.layer_4(x)\n",
        "        x = self.dropout(x)\n",
        "        x = self.relu(x)\n",
        "\n",
        "        x = self.layer_5(x)\n",
        "        x = self.dropout(x)\n",
        "        x = self.relu(x)\n",
        "        \n",
        "        logits  = self.layer_6(x)\n",
        "        return logits"
      ],
      "metadata": {
        "id": "seUx22Us_aBo"
      },
      "execution_count": 62,
      "outputs": []
    },
    {
      "cell_type": "code",
      "source": [
        "model = NeuralNetwork(input_dim)\n",
        "model.to(device)"
      ],
      "metadata": {
        "colab": {
          "base_uri": "https://localhost:8080/"
        },
        "id": "tuwyVxWz_cd-",
        "outputId": "8cf961b9-4100-48a1-dfe7-d697745aefbe"
      },
      "execution_count": 63,
      "outputs": [
        {
          "output_type": "execute_result",
          "data": {
            "text/plain": [
              "NeuralNetwork(\n",
              "  (layer_1): Linear(in_features=1024, out_features=100, bias=True)\n",
              "  (layer_2): Linear(in_features=100, out_features=100, bias=True)\n",
              "  (layer_3): Linear(in_features=100, out_features=100, bias=True)\n",
              "  (layer_4): Linear(in_features=100, out_features=100, bias=True)\n",
              "  (layer_5): Linear(in_features=100, out_features=100, bias=True)\n",
              "  (layer_6): Linear(in_features=100, out_features=4, bias=True)\n",
              "  (relu): ReLU()\n",
              "  (dropout): Dropout(p=0.5, inplace=False)\n",
              ")"
            ]
          },
          "metadata": {},
          "execution_count": 63
        }
      ]
    },
    {
      "cell_type": "code",
      "source": [
        "# optimizers\n",
        "criterion = nn.CrossEntropyLoss()\n",
        "optimizer = torch.optim.Adam(model.parameters(), lr=learning_rate)"
      ],
      "metadata": {
        "id": "a65vSenO_el1"
      },
      "execution_count": 64,
      "outputs": []
    },
    {
      "cell_type": "code",
      "source": [
        "import math\n",
        "\n",
        "# calculating number of epochs\n",
        "num_epochs = num_iters / (len(train_index) / batch_size)\n",
        "num_epochs = int(math.ceil(num_epochs))\n",
        "loss_list = []\n",
        "\n",
        "n_total_steps = len(train_loader)\n",
        "\n",
        "iter = 0\n",
        "for epoch in range(num_epochs):\n",
        "  for i, (images, labels) in enumerate(train_loader):\n",
        "\n",
        "    images = images.view(-1, 32*32).to(device)\n",
        "    labels = labels.to(device)\n",
        "\n",
        "    # clearing gradients with respect to parameters\n",
        "    optimizer.zero_grad()\n",
        "\n",
        "    # forward pass \n",
        "    outputs = model(images) \n",
        "\n",
        "    # calculating loss\n",
        "    loss = criterion(outputs, labels)\n",
        "\n",
        "    # getting gradients with respect to parameters\n",
        "    loss.backward()\n",
        "\n",
        "    # updating the parameters\n",
        "    optimizer.step()      \n",
        "\n",
        "    if (i+1) % 10 == 0:\n",
        "      print (f'Epoch [{epoch+1}/{num_epochs}], Step [{i+1}/{n_total_steps}], Loss: {loss.item():.4f}')\n",
        "      loss_list.append(loss.item())\n",
        "print('Finished Training')"
      ],
      "metadata": {
        "colab": {
          "base_uri": "https://localhost:8080/"
        },
        "id": "lVfomrh__ggP",
        "outputId": "b9f26b7f-f9fb-4b6c-9a95-6e1a1b774523"
      },
      "execution_count": 65,
      "outputs": [
        {
          "output_type": "stream",
          "name": "stdout",
          "text": [
            "Epoch [1/12], Step [10/180], Loss: 1.2717\n",
            "Epoch [1/12], Step [20/180], Loss: 0.8536\n",
            "Epoch [1/12], Step [30/180], Loss: 0.9918\n",
            "Epoch [1/12], Step [40/180], Loss: 1.1091\n",
            "Epoch [1/12], Step [50/180], Loss: 0.8593\n",
            "Epoch [1/12], Step [60/180], Loss: 1.0348\n",
            "Epoch [1/12], Step [70/180], Loss: 0.9466\n",
            "Epoch [1/12], Step [80/180], Loss: 0.6579\n",
            "Epoch [1/12], Step [90/180], Loss: 0.7672\n",
            "Epoch [1/12], Step [100/180], Loss: 0.6065\n",
            "Epoch [1/12], Step [110/180], Loss: 0.4240\n",
            "Epoch [1/12], Step [120/180], Loss: 0.8226\n",
            "Epoch [1/12], Step [130/180], Loss: 0.9020\n",
            "Epoch [1/12], Step [140/180], Loss: 0.8183\n",
            "Epoch [1/12], Step [150/180], Loss: 0.9571\n",
            "Epoch [1/12], Step [160/180], Loss: 0.8474\n",
            "Epoch [1/12], Step [170/180], Loss: 0.6172\n",
            "Epoch [1/12], Step [180/180], Loss: 0.3033\n",
            "Epoch [2/12], Step [10/180], Loss: 0.7339\n",
            "Epoch [2/12], Step [20/180], Loss: 0.8825\n",
            "Epoch [2/12], Step [30/180], Loss: 1.1539\n",
            "Epoch [2/12], Step [40/180], Loss: 0.9207\n",
            "Epoch [2/12], Step [50/180], Loss: 0.9821\n",
            "Epoch [2/12], Step [60/180], Loss: 0.8739\n",
            "Epoch [2/12], Step [70/180], Loss: 0.6380\n",
            "Epoch [2/12], Step [80/180], Loss: 1.0915\n",
            "Epoch [2/12], Step [90/180], Loss: 0.7785\n",
            "Epoch [2/12], Step [100/180], Loss: 0.9745\n",
            "Epoch [2/12], Step [110/180], Loss: 1.1634\n",
            "Epoch [2/12], Step [120/180], Loss: 0.7981\n",
            "Epoch [2/12], Step [130/180], Loss: 0.6639\n",
            "Epoch [2/12], Step [140/180], Loss: 0.5318\n",
            "Epoch [2/12], Step [150/180], Loss: 0.4836\n",
            "Epoch [2/12], Step [160/180], Loss: 0.6145\n",
            "Epoch [2/12], Step [170/180], Loss: 0.6955\n",
            "Epoch [2/12], Step [180/180], Loss: 0.7548\n",
            "Epoch [3/12], Step [10/180], Loss: 0.6006\n",
            "Epoch [3/12], Step [20/180], Loss: 0.6500\n",
            "Epoch [3/12], Step [30/180], Loss: 0.8782\n",
            "Epoch [3/12], Step [40/180], Loss: 0.5051\n",
            "Epoch [3/12], Step [50/180], Loss: 0.8949\n",
            "Epoch [3/12], Step [60/180], Loss: 0.5451\n",
            "Epoch [3/12], Step [70/180], Loss: 1.4742\n",
            "Epoch [3/12], Step [80/180], Loss: 0.7689\n",
            "Epoch [3/12], Step [90/180], Loss: 0.8123\n",
            "Epoch [3/12], Step [100/180], Loss: 0.6543\n",
            "Epoch [3/12], Step [110/180], Loss: 0.5967\n",
            "Epoch [3/12], Step [120/180], Loss: 0.9011\n",
            "Epoch [3/12], Step [130/180], Loss: 0.3326\n",
            "Epoch [3/12], Step [140/180], Loss: 0.5731\n",
            "Epoch [3/12], Step [150/180], Loss: 0.6257\n",
            "Epoch [3/12], Step [160/180], Loss: 0.4627\n",
            "Epoch [3/12], Step [170/180], Loss: 0.6425\n",
            "Epoch [3/12], Step [180/180], Loss: 0.2379\n",
            "Epoch [4/12], Step [10/180], Loss: 0.8024\n",
            "Epoch [4/12], Step [20/180], Loss: 0.8100\n",
            "Epoch [4/12], Step [30/180], Loss: 0.6727\n",
            "Epoch [4/12], Step [40/180], Loss: 0.8591\n",
            "Epoch [4/12], Step [50/180], Loss: 0.8371\n",
            "Epoch [4/12], Step [60/180], Loss: 0.6153\n",
            "Epoch [4/12], Step [70/180], Loss: 0.5577\n",
            "Epoch [4/12], Step [80/180], Loss: 0.9179\n",
            "Epoch [4/12], Step [90/180], Loss: 1.0046\n",
            "Epoch [4/12], Step [100/180], Loss: 0.4177\n",
            "Epoch [4/12], Step [110/180], Loss: 0.7856\n",
            "Epoch [4/12], Step [120/180], Loss: 0.7083\n",
            "Epoch [4/12], Step [130/180], Loss: 0.6473\n",
            "Epoch [4/12], Step [140/180], Loss: 0.8775\n",
            "Epoch [4/12], Step [150/180], Loss: 0.6539\n",
            "Epoch [4/12], Step [160/180], Loss: 0.5052\n",
            "Epoch [4/12], Step [170/180], Loss: 0.8532\n",
            "Epoch [4/12], Step [180/180], Loss: 0.2483\n",
            "Epoch [5/12], Step [10/180], Loss: 0.6752\n",
            "Epoch [5/12], Step [20/180], Loss: 0.3483\n",
            "Epoch [5/12], Step [30/180], Loss: 0.8074\n",
            "Epoch [5/12], Step [40/180], Loss: 0.8378\n",
            "Epoch [5/12], Step [50/180], Loss: 0.6117\n",
            "Epoch [5/12], Step [60/180], Loss: 0.7707\n",
            "Epoch [5/12], Step [70/180], Loss: 0.4136\n",
            "Epoch [5/12], Step [80/180], Loss: 0.5543\n",
            "Epoch [5/12], Step [90/180], Loss: 0.9122\n",
            "Epoch [5/12], Step [100/180], Loss: 1.2858\n",
            "Epoch [5/12], Step [110/180], Loss: 1.0746\n",
            "Epoch [5/12], Step [120/180], Loss: 0.6157\n",
            "Epoch [5/12], Step [130/180], Loss: 0.6993\n",
            "Epoch [5/12], Step [140/180], Loss: 0.5204\n",
            "Epoch [5/12], Step [150/180], Loss: 0.3389\n",
            "Epoch [5/12], Step [160/180], Loss: 0.4160\n",
            "Epoch [5/12], Step [170/180], Loss: 0.6372\n",
            "Epoch [5/12], Step [180/180], Loss: 0.3447\n",
            "Epoch [6/12], Step [10/180], Loss: 0.7567\n",
            "Epoch [6/12], Step [20/180], Loss: 0.8159\n",
            "Epoch [6/12], Step [30/180], Loss: 0.5044\n",
            "Epoch [6/12], Step [40/180], Loss: 0.6120\n",
            "Epoch [6/12], Step [50/180], Loss: 0.9929\n",
            "Epoch [6/12], Step [60/180], Loss: 0.7785\n",
            "Epoch [6/12], Step [70/180], Loss: 0.3765\n",
            "Epoch [6/12], Step [80/180], Loss: 0.4982\n",
            "Epoch [6/12], Step [90/180], Loss: 0.3374\n",
            "Epoch [6/12], Step [100/180], Loss: 0.4454\n",
            "Epoch [6/12], Step [110/180], Loss: 0.5570\n",
            "Epoch [6/12], Step [120/180], Loss: 0.4827\n",
            "Epoch [6/12], Step [130/180], Loss: 0.8097\n",
            "Epoch [6/12], Step [140/180], Loss: 0.7233\n",
            "Epoch [6/12], Step [150/180], Loss: 0.7766\n",
            "Epoch [6/12], Step [160/180], Loss: 0.5642\n",
            "Epoch [6/12], Step [170/180], Loss: 0.4558\n",
            "Epoch [6/12], Step [180/180], Loss: 0.5405\n",
            "Epoch [7/12], Step [10/180], Loss: 0.4380\n",
            "Epoch [7/12], Step [20/180], Loss: 0.4891\n",
            "Epoch [7/12], Step [30/180], Loss: 0.4342\n",
            "Epoch [7/12], Step [40/180], Loss: 0.5497\n",
            "Epoch [7/12], Step [50/180], Loss: 0.7351\n",
            "Epoch [7/12], Step [60/180], Loss: 0.4789\n",
            "Epoch [7/12], Step [70/180], Loss: 0.7599\n",
            "Epoch [7/12], Step [80/180], Loss: 0.3681\n",
            "Epoch [7/12], Step [90/180], Loss: 0.5103\n",
            "Epoch [7/12], Step [100/180], Loss: 0.5024\n",
            "Epoch [7/12], Step [110/180], Loss: 0.7987\n",
            "Epoch [7/12], Step [120/180], Loss: 0.5875\n",
            "Epoch [7/12], Step [130/180], Loss: 0.4323\n",
            "Epoch [7/12], Step [140/180], Loss: 0.6691\n",
            "Epoch [7/12], Step [150/180], Loss: 1.0702\n",
            "Epoch [7/12], Step [160/180], Loss: 0.5115\n",
            "Epoch [7/12], Step [170/180], Loss: 0.4203\n",
            "Epoch [7/12], Step [180/180], Loss: 1.7948\n",
            "Epoch [8/12], Step [10/180], Loss: 0.3525\n",
            "Epoch [8/12], Step [20/180], Loss: 0.5388\n",
            "Epoch [8/12], Step [30/180], Loss: 0.5853\n",
            "Epoch [8/12], Step [40/180], Loss: 0.6009\n",
            "Epoch [8/12], Step [50/180], Loss: 0.4711\n",
            "Epoch [8/12], Step [60/180], Loss: 0.6117\n",
            "Epoch [8/12], Step [70/180], Loss: 0.4662\n",
            "Epoch [8/12], Step [80/180], Loss: 0.7851\n",
            "Epoch [8/12], Step [90/180], Loss: 0.5312\n",
            "Epoch [8/12], Step [100/180], Loss: 0.9261\n",
            "Epoch [8/12], Step [110/180], Loss: 0.6706\n",
            "Epoch [8/12], Step [120/180], Loss: 0.7196\n",
            "Epoch [8/12], Step [130/180], Loss: 0.6446\n",
            "Epoch [8/12], Step [140/180], Loss: 0.7549\n",
            "Epoch [8/12], Step [150/180], Loss: 0.5893\n",
            "Epoch [8/12], Step [160/180], Loss: 0.4445\n",
            "Epoch [8/12], Step [170/180], Loss: 0.5577\n",
            "Epoch [8/12], Step [180/180], Loss: 0.4337\n",
            "Epoch [9/12], Step [10/180], Loss: 0.9520\n",
            "Epoch [9/12], Step [20/180], Loss: 0.8360\n",
            "Epoch [9/12], Step [30/180], Loss: 0.3650\n",
            "Epoch [9/12], Step [40/180], Loss: 0.5572\n",
            "Epoch [9/12], Step [50/180], Loss: 0.4108\n",
            "Epoch [9/12], Step [60/180], Loss: 0.5238\n",
            "Epoch [9/12], Step [70/180], Loss: 0.3213\n",
            "Epoch [9/12], Step [80/180], Loss: 0.7284\n",
            "Epoch [9/12], Step [90/180], Loss: 0.7965\n",
            "Epoch [9/12], Step [100/180], Loss: 0.5575\n",
            "Epoch [9/12], Step [110/180], Loss: 0.4471\n",
            "Epoch [9/12], Step [120/180], Loss: 0.4277\n",
            "Epoch [9/12], Step [130/180], Loss: 0.4488\n",
            "Epoch [9/12], Step [140/180], Loss: 0.6674\n",
            "Epoch [9/12], Step [150/180], Loss: 0.4732\n",
            "Epoch [9/12], Step [160/180], Loss: 0.3745\n",
            "Epoch [9/12], Step [170/180], Loss: 0.9135\n",
            "Epoch [9/12], Step [180/180], Loss: 0.3959\n",
            "Epoch [10/12], Step [10/180], Loss: 0.4372\n",
            "Epoch [10/12], Step [20/180], Loss: 0.5567\n",
            "Epoch [10/12], Step [30/180], Loss: 0.2564\n",
            "Epoch [10/12], Step [40/180], Loss: 0.2614\n",
            "Epoch [10/12], Step [50/180], Loss: 0.5096\n",
            "Epoch [10/12], Step [60/180], Loss: 0.4814\n",
            "Epoch [10/12], Step [70/180], Loss: 0.8158\n",
            "Epoch [10/12], Step [80/180], Loss: 0.6726\n",
            "Epoch [10/12], Step [90/180], Loss: 0.7614\n",
            "Epoch [10/12], Step [100/180], Loss: 0.7381\n",
            "Epoch [10/12], Step [110/180], Loss: 1.1486\n",
            "Epoch [10/12], Step [120/180], Loss: 0.3291\n",
            "Epoch [10/12], Step [130/180], Loss: 0.6624\n",
            "Epoch [10/12], Step [140/180], Loss: 0.3796\n",
            "Epoch [10/12], Step [150/180], Loss: 0.6006\n",
            "Epoch [10/12], Step [160/180], Loss: 0.3621\n",
            "Epoch [10/12], Step [170/180], Loss: 0.8954\n",
            "Epoch [10/12], Step [180/180], Loss: 0.5834\n",
            "Epoch [11/12], Step [10/180], Loss: 0.5494\n",
            "Epoch [11/12], Step [20/180], Loss: 0.7427\n",
            "Epoch [11/12], Step [30/180], Loss: 0.7439\n",
            "Epoch [11/12], Step [40/180], Loss: 0.4592\n",
            "Epoch [11/12], Step [50/180], Loss: 0.6691\n",
            "Epoch [11/12], Step [60/180], Loss: 0.6904\n",
            "Epoch [11/12], Step [70/180], Loss: 0.3531\n",
            "Epoch [11/12], Step [80/180], Loss: 0.6335\n",
            "Epoch [11/12], Step [90/180], Loss: 0.4756\n",
            "Epoch [11/12], Step [100/180], Loss: 0.4687\n",
            "Epoch [11/12], Step [110/180], Loss: 0.4484\n",
            "Epoch [11/12], Step [120/180], Loss: 0.4225\n",
            "Epoch [11/12], Step [130/180], Loss: 0.4744\n",
            "Epoch [11/12], Step [140/180], Loss: 0.5688\n",
            "Epoch [11/12], Step [150/180], Loss: 0.3855\n",
            "Epoch [11/12], Step [160/180], Loss: 0.5909\n",
            "Epoch [11/12], Step [170/180], Loss: 0.3799\n",
            "Epoch [11/12], Step [180/180], Loss: 0.2332\n",
            "Epoch [12/12], Step [10/180], Loss: 0.5763\n",
            "Epoch [12/12], Step [20/180], Loss: 0.5671\n",
            "Epoch [12/12], Step [30/180], Loss: 0.7590\n",
            "Epoch [12/12], Step [40/180], Loss: 0.5256\n",
            "Epoch [12/12], Step [50/180], Loss: 0.2774\n",
            "Epoch [12/12], Step [60/180], Loss: 0.5580\n",
            "Epoch [12/12], Step [70/180], Loss: 0.6819\n",
            "Epoch [12/12], Step [80/180], Loss: 0.9743\n",
            "Epoch [12/12], Step [90/180], Loss: 0.4264\n",
            "Epoch [12/12], Step [100/180], Loss: 0.6752\n",
            "Epoch [12/12], Step [110/180], Loss: 0.8261\n",
            "Epoch [12/12], Step [120/180], Loss: 0.3360\n",
            "Epoch [12/12], Step [130/180], Loss: 0.5145\n",
            "Epoch [12/12], Step [140/180], Loss: 0.3507\n",
            "Epoch [12/12], Step [150/180], Loss: 0.9154\n",
            "Epoch [12/12], Step [160/180], Loss: 0.7076\n",
            "Epoch [12/12], Step [170/180], Loss: 0.3562\n",
            "Epoch [12/12], Step [180/180], Loss: 0.7289\n",
            "Finished Training\n"
          ]
        }
      ]
    },
    {
      "cell_type": "code",
      "source": [
        "# plotting the loss per batch graph\n",
        "\n",
        "plt.plot(loss_list)\n",
        " \n",
        "\n",
        "plt.xlabel('Num. of Batch')\n",
        "plt.ylabel('Loss (Cross Entropy)')\n",
        " \n",
        "plt.title('Neural Networks - Loss vs Batch (every 10) Iteration Graph')\n",
        " \n",
        "plt.show()"
      ],
      "metadata": {
        "colab": {
          "base_uri": "https://localhost:8080/",
          "height": 295
        },
        "id": "fi73uUSU_ite",
        "outputId": "7e5ffaa4-610d-4cd2-9e42-d1f62fa7f3f7"
      },
      "execution_count": 66,
      "outputs": [
        {
          "output_type": "display_data",
          "data": {
            "image/png": "[encoded data removed]",
            "text/plain": [
              "<Figure size 432x288 with 1 Axes>"
            ]
          },
          "metadata": {
            "needs_background": "light"
          }
        }
      ]
    },
    {
      "cell_type": "code",
      "source": [
        "with torch.no_grad():\n",
        "  n_correct = 0\n",
        "  n_incorrect = 0\n",
        "  n_samples = 0\n",
        "  n_class_correct = [0 for i in range(4)]\n",
        "  n_class_incorrect = [0 for i in range(4)]\n",
        "  n_class_predicted = [0 for i in range(4)]\n",
        "  n_class_samples = [0 for i in range(4)]\n",
        "\n",
        "\n",
        "  for images, labels in test_loader:\n",
        "    images = images.view(-1, 32*32).to(device)\n",
        "    labels = labels.to(device)\n",
        "    outputs = model(images)\n",
        "    # max returns (value ,index)\n",
        "    _, predicted = torch.max(outputs, 1)\n",
        "    n_samples += labels.size(0)\n",
        "    n_correct += (predicted == labels).sum().item()\n",
        "    n_incorrect += (predicted != labels).sum().item()\n",
        "    \n",
        "    for i in range(len(labels)):\n",
        "      label = labels[i]\n",
        "      pred = predicted[i]\n",
        "      if (label == pred):\n",
        "        n_class_correct[label] += 1\n",
        "      else:\n",
        "        n_class_incorrect[label] += 1\n",
        "      n_class_predicted[pred] += 1  \n",
        "      n_class_samples[label] += 1\n",
        "\n",
        "  acc = 100.0 * n_correct / n_samples\n",
        "  print(f'Accuracy of the network: {acc} %')"
      ],
      "metadata": {
        "colab": {
          "base_uri": "https://localhost:8080/"
        },
        "id": "DsgXxl3T_lA2",
        "outputId": "c33eccca-0186-403f-d2ea-b0473bf444f2"
      },
      "execution_count": 67,
      "outputs": [
        {
          "output_type": "stream",
          "name": "stdout",
          "text": [
            "Accuracy of the network: 80.58035714285714 %\n"
          ]
        }
      ]
    },
    {
      "cell_type": "code",
      "source": [
        "n_class_samples"
      ],
      "metadata": {
        "colab": {
          "base_uri": "https://localhost:8080/"
        },
        "id": "8DYHTEQyXHWW",
        "outputId": "b96557a9-0830-4c35-be93-4c5a5adc8eef"
      },
      "execution_count": 71,
      "outputs": [
        {
          "output_type": "execute_result",
          "data": {
            "text/plain": [
              "[595, 144, 23, 134]"
            ]
          },
          "metadata": {},
          "execution_count": 71
        }
      ]
    },
    {
      "cell_type": "code",
      "source": [
        "n_class_correct "
      ],
      "metadata": {
        "colab": {
          "base_uri": "https://localhost:8080/"
        },
        "id": "aLyK9o00XJ1-",
        "outputId": "d4d33f45-c863-4a21-b720-24bd1ccdb980"
      },
      "execution_count": 72,
      "outputs": [
        {
          "output_type": "execute_result",
          "data": {
            "text/plain": [
              "[592, 0, 0, 130]"
            ]
          },
          "metadata": {},
          "execution_count": 72
        }
      ]
    },
    {
      "cell_type": "code",
      "source": [
        "n_class_predicted"
      ],
      "metadata": {
        "colab": {
          "base_uri": "https://localhost:8080/"
        },
        "id": "5CgvfiFCXL3G",
        "outputId": "e9586404-8746-4e39-b588-3ab3b2df4e42"
      },
      "execution_count": 73,
      "outputs": [
        {
          "output_type": "execute_result",
          "data": {
            "text/plain": [
              "[763, 0, 0, 133]"
            ]
          },
          "metadata": {},
          "execution_count": 73
        }
      ]
    },
    {
      "cell_type": "code",
      "source": [
        "classes = ['benignware', 'malware', 'hackware', 'gray']\n",
        "total_pre = []\n",
        "total_rec = []\n",
        "\n",
        "for i in range(4):\n",
        "  acc = n_class_correct[i] / n_class_samples[i]\n",
        "  try:\n",
        "    pre = n_class_correct[i] / (n_class_correct[i] + (n_class_predicted[i]-n_class_correct[i]))\n",
        "  except ZeroDivisionError:\n",
        "    rec = 0\n",
        "  total_pre.append(pre)\n",
        "  try:\n",
        "    rec = n_class_correct[i] / n_class_predicted[i] \n",
        "  except ZeroDivisionError:\n",
        "    rec = 0\n",
        "  total_rec.append(rec) \n",
        "  '''\n",
        "  try:\n",
        "    f1 = ((2*total_pre.sum()*total_rec.sum())/(total_pre.sum()+total_rec.sum()))/4\n",
        "  except ZeroDivisionError:\n",
        "    f1 = 'undefined'\n",
        "  '''\n",
        "  f1 = (2*sum(total_pre)*sum(total_rec))/(sum(total_pre)+sum(total_rec))/4\n",
        "print(f'F-1 Score: {f1}')"
      ],
      "metadata": {
        "colab": {
          "base_uri": "https://localhost:8080/"
        },
        "id": "RHFI3BYf_nxN",
        "outputId": "df838deb-7fd5-45d0-e602-cbaa5a180f3e"
      },
      "execution_count": 68,
      "outputs": [
        {
          "output_type": "stream",
          "name": "stdout",
          "text": [
            "F-1 Score: 0.5727988528848855\n"
          ]
        }
      ]
    },
    {
      "cell_type": "code",
      "source": [
        "index = np.arange(0, 4)\n",
        "width = 0.2\n",
        "plt.figure(figsize = (10, 6))\n",
        "plt.title('Comparison for NN - Correctly Classified with Predicted')\n",
        "\n",
        "plt.bar(index , n_class_correct, width, color='mediumpurple', label='Correctly Classified', alpha=0.75)\n",
        "plt.bar(index + width, n_class_predicted, width, color='indigo', label='Predicted', alpha=0.75)\n",
        "  \n",
        "plt.xlabel('Classes')\n",
        "plt.ylabel('Sample Numbers')\n",
        "plt.xticks(index+width/2, classes)\n",
        "plt.legend()\n",
        "plt.show()"
      ],
      "metadata": {
        "colab": {
          "base_uri": "https://localhost:8080/",
          "height": 404
        },
        "id": "0-rvdlGZ_qf-",
        "outputId": "e629a435-a040-496e-9706-d28c880fa53a"
      },
      "execution_count": 69,
      "outputs": [
        {
          "output_type": "display_data",
          "data": {
            "image/png": "[encoded data removed]",
            "text/plain": [
              "<Figure size 720x432 with 1 Axes>"
            ]
          },
          "metadata": {
            "needs_background": "light"
          }
        }
      ]
    },
    {
      "cell_type": "code",
      "source": [
        "class ConvNet2(nn.Module):\n",
        "    def __init__(self):\n",
        "        super(ConvNet2, self).__init__()\n",
        "        self.conv1 = nn.Conv2d(1, 6, 3) #in_channels, out_channels, filter (3X3)\n",
        "        self.maxpool = nn.MaxPool2d(2, 2)\n",
        "        self.conv2 = nn.Conv2d(6, 16, 3)\n",
        "        self.conv3 = nn.Conv2d(16, 30, 3)\n",
        "        self.fc1 = nn.Linear(30 * 2 * 2, 60)\n",
        "        self.fc2 = nn.Linear(60, 30)\n",
        "        self.fc3 = nn.Linear(30, 15)\n",
        "        self.fc4 = nn.Linear(15, 4)\n",
        "\n",
        "        self.relu = nn.ReLU()\n",
        "        self.dropout = nn.Dropout()\n",
        "\n",
        "\n",
        "    def forward(self, x):       #input, channel, width, height \n",
        "                                # -> n, 1, 32, 32               \n",
        "        x = self.conv1(x)\n",
        "        x = self.dropout(x)\n",
        "        x = self.relu(x)\n",
        "        x = self.maxpool(x)                       \n",
        "                                # -> n, 6, 15, 15\n",
        "        x = self.conv2(x)\n",
        "        x = self.dropout(x)\n",
        "        x = self.relu(x)\n",
        "        x = self.maxpool(x)                       \n",
        "                                # -> n, 16, 6, 6\n",
        "        x = self.conv3(x)\n",
        "        x = self.dropout(x)\n",
        "        x = self.relu(x)\n",
        "        x = self.maxpool(x) \n",
        "                                # -> n, 30, 2, 2 \n",
        "        x = x.view(-1, 30*2*2)              \n",
        "                                # -> n, 120 \n",
        "        x = self.fc1(x)\n",
        "        x = self.relu(x)                         \n",
        "                                # -> n, 60 \n",
        "        x = self.fc2(x)\n",
        "        x = self.relu(x)                         \n",
        "                                # -> n, 30\n",
        "        x = self.fc3(x)         \n",
        "        x = self.relu(x)\n",
        "                                # -> n, 15\n",
        "        x = self.fc4(x)                         \n",
        "                                # -> n, 4\n",
        "                                              \n",
        "        return x"
      ],
      "metadata": {
        "id": "H9cD95hi_sV-"
      },
      "execution_count": 74,
      "outputs": []
    },
    {
      "cell_type": "code",
      "source": [
        "model = ConvNet2()\n",
        "model.to(device)"
      ],
      "metadata": {
        "colab": {
          "base_uri": "https://localhost:8080/"
        },
        "id": "nv5BBJptBPuV",
        "outputId": "9d3c8aa6-82a3-4c8f-db8b-5e77e42fb8bf"
      },
      "execution_count": 75,
      "outputs": [
        {
          "output_type": "execute_result",
          "data": {
            "text/plain": [
              "ConvNet2(\n",
              "  (conv1): Conv2d(1, 6, kernel_size=(3, 3), stride=(1, 1))\n",
              "  (maxpool): MaxPool2d(kernel_size=2, stride=2, padding=0, dilation=1, ceil_mode=False)\n",
              "  (conv2): Conv2d(6, 16, kernel_size=(3, 3), stride=(1, 1))\n",
              "  (conv3): Conv2d(16, 30, kernel_size=(3, 3), stride=(1, 1))\n",
              "  (fc1): Linear(in_features=120, out_features=60, bias=True)\n",
              "  (fc2): Linear(in_features=60, out_features=30, bias=True)\n",
              "  (fc3): Linear(in_features=30, out_features=15, bias=True)\n",
              "  (fc4): Linear(in_features=15, out_features=4, bias=True)\n",
              "  (relu): ReLU()\n",
              "  (dropout): Dropout(p=0.5, inplace=False)\n",
              ")"
            ]
          },
          "metadata": {},
          "execution_count": 75
        }
      ]
    },
    {
      "cell_type": "code",
      "source": [
        "criterion = nn.CrossEntropyLoss()\n",
        "optimizer = torch.optim.Adam(model.parameters(), lr=learning_rate)"
      ],
      "metadata": {
        "id": "R3tjP214BRf1"
      },
      "execution_count": 76,
      "outputs": []
    },
    {
      "cell_type": "code",
      "source": [
        "import math\n",
        "\n",
        "# calculating number of epochs\n",
        "num_epochs = num_iters / (len(train_index) / batch_size)\n",
        "num_epochs = int(math.ceil(num_epochs))\n",
        "loss_list = []\n",
        "\n",
        "n_total_steps = len(train_loader)\n",
        "for epoch in range(num_epochs):\n",
        "    for i, (images, labels) in enumerate(train_loader):\n",
        "        images = images.to(device)\n",
        "        labels = labels.to(device)\n",
        "\n",
        "        # Forward pass\n",
        "        outputs = model(images)\n",
        "        loss = criterion(outputs, labels)\n",
        "\n",
        "        # Backward and optimize\n",
        "        optimizer.zero_grad()\n",
        "        loss.backward()\n",
        "        optimizer.step()\n",
        "\n",
        "        if (i+1) % 10 == 0:\n",
        "            print (f'Epoch [{epoch+1}/{num_epochs}], Step [{i+1}/{n_total_steps}], Loss: {loss.item():.4f}')\n",
        "            loss_list.append(loss.item())\n",
        "print('Finished Training')"
      ],
      "metadata": {
        "colab": {
          "base_uri": "https://localhost:8080/"
        },
        "id": "gO-F1cDrBTWk",
        "outputId": "9e9fca66-3974-45ff-c5c0-7e63b2abc388"
      },
      "execution_count": 77,
      "outputs": [
        {
          "output_type": "stream",
          "name": "stdout",
          "text": [
            "Epoch [1/12], Step [10/180], Loss: 1.1809\n",
            "Epoch [1/12], Step [20/180], Loss: 0.9553\n",
            "Epoch [1/12], Step [30/180], Loss: 0.7265\n",
            "Epoch [1/12], Step [40/180], Loss: 0.8171\n",
            "Epoch [1/12], Step [50/180], Loss: 1.2395\n",
            "Epoch [1/12], Step [60/180], Loss: 0.7321\n",
            "Epoch [1/12], Step [70/180], Loss: 0.5566\n",
            "Epoch [1/12], Step [80/180], Loss: 0.5382\n",
            "Epoch [1/12], Step [90/180], Loss: 0.4515\n",
            "Epoch [1/12], Step [100/180], Loss: 0.4256\n",
            "Epoch [1/12], Step [110/180], Loss: 0.4397\n",
            "Epoch [1/12], Step [120/180], Loss: 0.3121\n",
            "Epoch [1/12], Step [130/180], Loss: 0.3447\n",
            "Epoch [1/12], Step [140/180], Loss: 0.4195\n",
            "Epoch [1/12], Step [150/180], Loss: 0.9296\n",
            "Epoch [1/12], Step [160/180], Loss: 0.5144\n",
            "Epoch [1/12], Step [170/180], Loss: 0.3481\n",
            "Epoch [1/12], Step [180/180], Loss: 0.6642\n",
            "Epoch [2/12], Step [10/180], Loss: 0.8888\n",
            "Epoch [2/12], Step [20/180], Loss: 0.8529\n",
            "Epoch [2/12], Step [30/180], Loss: 0.3251\n",
            "Epoch [2/12], Step [40/180], Loss: 0.5588\n",
            "Epoch [2/12], Step [50/180], Loss: 0.7246\n",
            "Epoch [2/12], Step [60/180], Loss: 0.5835\n",
            "Epoch [2/12], Step [70/180], Loss: 0.3901\n",
            "Epoch [2/12], Step [80/180], Loss: 0.6498\n",
            "Epoch [2/12], Step [90/180], Loss: 0.5206\n",
            "Epoch [2/12], Step [100/180], Loss: 0.4709\n",
            "Epoch [2/12], Step [110/180], Loss: 0.6028\n",
            "Epoch [2/12], Step [120/180], Loss: 0.4853\n",
            "Epoch [2/12], Step [130/180], Loss: 0.3201\n",
            "Epoch [2/12], Step [140/180], Loss: 0.5989\n",
            "Epoch [2/12], Step [150/180], Loss: 0.3840\n",
            "Epoch [2/12], Step [160/180], Loss: 0.7565\n",
            "Epoch [2/12], Step [170/180], Loss: 0.2945\n",
            "Epoch [2/12], Step [180/180], Loss: 0.7036\n",
            "Epoch [3/12], Step [10/180], Loss: 0.4690\n",
            "Epoch [3/12], Step [20/180], Loss: 0.7746\n",
            "Epoch [3/12], Step [30/180], Loss: 0.3904\n",
            "Epoch [3/12], Step [40/180], Loss: 0.4197\n",
            "Epoch [3/12], Step [50/180], Loss: 0.3982\n",
            "Epoch [3/12], Step [60/180], Loss: 0.3922\n",
            "Epoch [3/12], Step [70/180], Loss: 0.7547\n",
            "Epoch [3/12], Step [80/180], Loss: 0.6962\n",
            "Epoch [3/12], Step [90/180], Loss: 0.3187\n",
            "Epoch [3/12], Step [100/180], Loss: 0.7262\n",
            "Epoch [3/12], Step [110/180], Loss: 0.2878\n",
            "Epoch [3/12], Step [120/180], Loss: 0.6135\n",
            "Epoch [3/12], Step [130/180], Loss: 0.6519\n",
            "Epoch [3/12], Step [140/180], Loss: 0.4941\n",
            "Epoch [3/12], Step [150/180], Loss: 0.4763\n",
            "Epoch [3/12], Step [160/180], Loss: 0.5496\n",
            "Epoch [3/12], Step [170/180], Loss: 0.6119\n",
            "Epoch [3/12], Step [180/180], Loss: 0.2534\n",
            "Epoch [4/12], Step [10/180], Loss: 0.5294\n",
            "Epoch [4/12], Step [20/180], Loss: 0.5977\n",
            "Epoch [4/12], Step [30/180], Loss: 0.4930\n",
            "Epoch [4/12], Step [40/180], Loss: 0.4857\n",
            "Epoch [4/12], Step [50/180], Loss: 0.8572\n",
            "Epoch [4/12], Step [60/180], Loss: 0.6771\n",
            "Epoch [4/12], Step [70/180], Loss: 0.5330\n",
            "Epoch [4/12], Step [80/180], Loss: 0.3599\n",
            "Epoch [4/12], Step [90/180], Loss: 0.7128\n",
            "Epoch [4/12], Step [100/180], Loss: 0.3670\n",
            "Epoch [4/12], Step [110/180], Loss: 0.5363\n",
            "Epoch [4/12], Step [120/180], Loss: 0.5571\n",
            "Epoch [4/12], Step [130/180], Loss: 0.5159\n",
            "Epoch [4/12], Step [140/180], Loss: 0.3382\n",
            "Epoch [4/12], Step [150/180], Loss: 0.5448\n",
            "Epoch [4/12], Step [160/180], Loss: 0.3425\n",
            "Epoch [4/12], Step [170/180], Loss: 0.3804\n",
            "Epoch [4/12], Step [180/180], Loss: 0.4812\n",
            "Epoch [5/12], Step [10/180], Loss: 0.6131\n",
            "Epoch [5/12], Step [20/180], Loss: 0.4658\n",
            "Epoch [5/12], Step [30/180], Loss: 0.2817\n",
            "Epoch [5/12], Step [40/180], Loss: 0.7281\n",
            "Epoch [5/12], Step [50/180], Loss: 0.5134\n",
            "Epoch [5/12], Step [60/180], Loss: 0.3917\n",
            "Epoch [5/12], Step [70/180], Loss: 0.6269\n",
            "Epoch [5/12], Step [80/180], Loss: 0.9187\n",
            "Epoch [5/12], Step [90/180], Loss: 0.5405\n",
            "Epoch [5/12], Step [100/180], Loss: 0.8564\n",
            "Epoch [5/12], Step [110/180], Loss: 0.7496\n",
            "Epoch [5/12], Step [120/180], Loss: 0.3926\n",
            "Epoch [5/12], Step [130/180], Loss: 0.2701\n",
            "Epoch [5/12], Step [140/180], Loss: 0.4821\n",
            "Epoch [5/12], Step [150/180], Loss: 0.3541\n",
            "Epoch [5/12], Step [160/180], Loss: 0.5305\n",
            "Epoch [5/12], Step [170/180], Loss: 0.5541\n",
            "Epoch [5/12], Step [180/180], Loss: 1.1218\n",
            "Epoch [6/12], Step [10/180], Loss: 0.5952\n",
            "Epoch [6/12], Step [20/180], Loss: 0.2852\n",
            "Epoch [6/12], Step [30/180], Loss: 0.8282\n",
            "Epoch [6/12], Step [40/180], Loss: 0.3411\n",
            "Epoch [6/12], Step [50/180], Loss: 0.3043\n",
            "Epoch [6/12], Step [60/180], Loss: 0.4396\n",
            "Epoch [6/12], Step [70/180], Loss: 0.4032\n",
            "Epoch [6/12], Step [80/180], Loss: 0.3388\n",
            "Epoch [6/12], Step [90/180], Loss: 0.4053\n",
            "Epoch [6/12], Step [100/180], Loss: 0.5474\n",
            "Epoch [6/12], Step [110/180], Loss: 0.5629\n",
            "Epoch [6/12], Step [120/180], Loss: 0.4639\n",
            "Epoch [6/12], Step [130/180], Loss: 0.4339\n",
            "Epoch [6/12], Step [140/180], Loss: 0.2820\n",
            "Epoch [6/12], Step [150/180], Loss: 0.3320\n",
            "Epoch [6/12], Step [160/180], Loss: 0.3872\n",
            "Epoch [6/12], Step [170/180], Loss: 0.4056\n",
            "Epoch [6/12], Step [180/180], Loss: 0.2288\n",
            "Epoch [7/12], Step [10/180], Loss: 0.4247\n",
            "Epoch [7/12], Step [20/180], Loss: 0.3517\n",
            "Epoch [7/12], Step [30/180], Loss: 0.5930\n",
            "Epoch [7/12], Step [40/180], Loss: 0.2587\n",
            "Epoch [7/12], Step [50/180], Loss: 0.3434\n",
            "Epoch [7/12], Step [60/180], Loss: 0.7505\n",
            "Epoch [7/12], Step [70/180], Loss: 0.4395\n",
            "Epoch [7/12], Step [80/180], Loss: 0.4298\n",
            "Epoch [7/12], Step [90/180], Loss: 0.7206\n",
            "Epoch [7/12], Step [100/180], Loss: 0.3179\n",
            "Epoch [7/12], Step [110/180], Loss: 0.3431\n",
            "Epoch [7/12], Step [120/180], Loss: 0.4189\n",
            "Epoch [7/12], Step [130/180], Loss: 0.3450\n",
            "Epoch [7/12], Step [140/180], Loss: 0.3438\n",
            "Epoch [7/12], Step [150/180], Loss: 0.6181\n",
            "Epoch [7/12], Step [160/180], Loss: 0.2454\n",
            "Epoch [7/12], Step [170/180], Loss: 0.2341\n",
            "Epoch [7/12], Step [180/180], Loss: 0.2307\n",
            "Epoch [8/12], Step [10/180], Loss: 0.4355\n",
            "Epoch [8/12], Step [20/180], Loss: 0.3842\n",
            "Epoch [8/12], Step [30/180], Loss: 0.6586\n",
            "Epoch [8/12], Step [40/180], Loss: 0.4597\n",
            "Epoch [8/12], Step [50/180], Loss: 0.3328\n",
            "Epoch [8/12], Step [60/180], Loss: 0.4382\n",
            "Epoch [8/12], Step [70/180], Loss: 0.1860\n",
            "Epoch [8/12], Step [80/180], Loss: 0.4556\n",
            "Epoch [8/12], Step [90/180], Loss: 0.3535\n",
            "Epoch [8/12], Step [100/180], Loss: 0.3499\n",
            "Epoch [8/12], Step [110/180], Loss: 0.3022\n",
            "Epoch [8/12], Step [120/180], Loss: 0.4195\n",
            "Epoch [8/12], Step [130/180], Loss: 0.5814\n",
            "Epoch [8/12], Step [140/180], Loss: 0.4936\n",
            "Epoch [8/12], Step [150/180], Loss: 0.5840\n",
            "Epoch [8/12], Step [160/180], Loss: 0.5849\n",
            "Epoch [8/12], Step [170/180], Loss: 0.3470\n",
            "Epoch [8/12], Step [180/180], Loss: 0.5639\n",
            "Epoch [9/12], Step [10/180], Loss: 0.2284\n",
            "Epoch [9/12], Step [20/180], Loss: 0.4180\n",
            "Epoch [9/12], Step [30/180], Loss: 0.3473\n",
            "Epoch [9/12], Step [40/180], Loss: 0.6632\n",
            "Epoch [9/12], Step [50/180], Loss: 0.2824\n",
            "Epoch [9/12], Step [60/180], Loss: 0.7461\n",
            "Epoch [9/12], Step [70/180], Loss: 0.3801\n",
            "Epoch [9/12], Step [80/180], Loss: 0.4914\n",
            "Epoch [9/12], Step [90/180], Loss: 0.4339\n",
            "Epoch [9/12], Step [100/180], Loss: 0.4627\n",
            "Epoch [9/12], Step [110/180], Loss: 0.4730\n",
            "Epoch [9/12], Step [120/180], Loss: 0.3721\n",
            "Epoch [9/12], Step [130/180], Loss: 0.4340\n",
            "Epoch [9/12], Step [140/180], Loss: 0.3961\n",
            "Epoch [9/12], Step [150/180], Loss: 0.3165\n",
            "Epoch [9/12], Step [160/180], Loss: 0.3091\n",
            "Epoch [9/12], Step [170/180], Loss: 0.5272\n",
            "Epoch [9/12], Step [180/180], Loss: 0.5466\n",
            "Epoch [10/12], Step [10/180], Loss: 0.4970\n",
            "Epoch [10/12], Step [20/180], Loss: 0.1874\n",
            "Epoch [10/12], Step [30/180], Loss: 0.5965\n",
            "Epoch [10/12], Step [40/180], Loss: 0.3743\n",
            "Epoch [10/12], Step [50/180], Loss: 0.3251\n",
            "Epoch [10/12], Step [60/180], Loss: 0.4214\n",
            "Epoch [10/12], Step [70/180], Loss: 0.4450\n",
            "Epoch [10/12], Step [80/180], Loss: 0.4325\n",
            "Epoch [10/12], Step [90/180], Loss: 0.6468\n",
            "Epoch [10/12], Step [100/180], Loss: 0.3168\n",
            "Epoch [10/12], Step [110/180], Loss: 0.3752\n",
            "Epoch [10/12], Step [120/180], Loss: 0.4070\n",
            "Epoch [10/12], Step [130/180], Loss: 0.3161\n",
            "Epoch [10/12], Step [140/180], Loss: 0.4999\n",
            "Epoch [10/12], Step [150/180], Loss: 0.3716\n",
            "Epoch [10/12], Step [160/180], Loss: 0.3002\n",
            "Epoch [10/12], Step [170/180], Loss: 0.5375\n",
            "Epoch [10/12], Step [180/180], Loss: 0.2182\n",
            "Epoch [11/12], Step [10/180], Loss: 0.2250\n",
            "Epoch [11/12], Step [20/180], Loss: 0.1320\n",
            "Epoch [11/12], Step [30/180], Loss: 0.3055\n",
            "Epoch [11/12], Step [40/180], Loss: 0.3150\n",
            "Epoch [11/12], Step [50/180], Loss: 0.3428\n",
            "Epoch [11/12], Step [60/180], Loss: 0.7033\n",
            "Epoch [11/12], Step [70/180], Loss: 0.3564\n",
            "Epoch [11/12], Step [80/180], Loss: 0.3133\n",
            "Epoch [11/12], Step [90/180], Loss: 0.2392\n",
            "Epoch [11/12], Step [100/180], Loss: 0.4406\n",
            "Epoch [11/12], Step [110/180], Loss: 0.5093\n",
            "Epoch [11/12], Step [120/180], Loss: 0.3126\n",
            "Epoch [11/12], Step [130/180], Loss: 0.3392\n",
            "Epoch [11/12], Step [140/180], Loss: 0.2997\n",
            "Epoch [11/12], Step [150/180], Loss: 0.5648\n",
            "Epoch [11/12], Step [160/180], Loss: 0.2621\n",
            "Epoch [11/12], Step [170/180], Loss: 0.2377\n",
            "Epoch [11/12], Step [180/180], Loss: 0.9954\n",
            "Epoch [12/12], Step [10/180], Loss: 0.4861\n",
            "Epoch [12/12], Step [20/180], Loss: 0.1916\n",
            "Epoch [12/12], Step [30/180], Loss: 0.4370\n",
            "Epoch [12/12], Step [40/180], Loss: 0.3796\n",
            "Epoch [12/12], Step [50/180], Loss: 0.5483\n",
            "Epoch [12/12], Step [60/180], Loss: 0.2387\n",
            "Epoch [12/12], Step [70/180], Loss: 0.4616\n",
            "Epoch [12/12], Step [80/180], Loss: 0.4113\n",
            "Epoch [12/12], Step [90/180], Loss: 0.6473\n",
            "Epoch [12/12], Step [100/180], Loss: 0.4264\n",
            "Epoch [12/12], Step [110/180], Loss: 0.4211\n",
            "Epoch [12/12], Step [120/180], Loss: 0.3129\n",
            "Epoch [12/12], Step [130/180], Loss: 0.2510\n",
            "Epoch [12/12], Step [140/180], Loss: 0.3129\n",
            "Epoch [12/12], Step [150/180], Loss: 0.1423\n",
            "Epoch [12/12], Step [160/180], Loss: 0.6344\n",
            "Epoch [12/12], Step [170/180], Loss: 0.3481\n",
            "Epoch [12/12], Step [180/180], Loss: 0.8803\n",
            "Finished Training\n"
          ]
        }
      ]
    },
    {
      "cell_type": "code",
      "source": [
        "with torch.no_grad():\n",
        "  n_correct = 0\n",
        "  n_incorrect = 0\n",
        "  n_samples = 0\n",
        "  n_class_correct = [0 for i in range(4)]\n",
        "  n_class_incorrect = [0 for i in range(4)]\n",
        "  n_class_predicted = [0 for i in range(4)]\n",
        "  n_class_samples = [0 for i in range(4)]\n",
        "\n",
        "\n",
        "  for images, labels in test_loader:\n",
        "    images = images.to(device)\n",
        "    labels = labels.to(device)\n",
        "    outputs = model(images)\n",
        "    # max returns (value ,index)\n",
        "    _, predicted = torch.max(outputs, 1)\n",
        "    n_samples += labels.size(0)\n",
        "    n_correct += (predicted == labels).sum().item()\n",
        "    n_incorrect += (predicted != labels).sum().item()\n",
        "    \n",
        "    for i in range(len(labels)):\n",
        "      label = labels[i]\n",
        "      pred = predicted[i]\n",
        "      if (label == pred):\n",
        "        n_class_correct[label] += 1\n",
        "      else:\n",
        "        n_class_incorrect[label] += 1\n",
        "      n_class_predicted[pred] += 1  \n",
        "      n_class_samples[label] += 1\n",
        "\n",
        "  acc = 100.0 * n_correct / n_samples\n",
        "  print(f'Accuracy of the network: {acc} %')"
      ],
      "metadata": {
        "colab": {
          "base_uri": "https://localhost:8080/"
        },
        "id": "xJ2mYYy2BWAd",
        "outputId": "9aa1fda8-c3f4-43ac-b974-397bba7a0a35"
      },
      "execution_count": 78,
      "outputs": [
        {
          "output_type": "stream",
          "name": "stdout",
          "text": [
            "Accuracy of the network: 83.81696428571429 %\n"
          ]
        }
      ]
    },
    {
      "cell_type": "code",
      "source": [
        "n_class_samples"
      ],
      "metadata": {
        "colab": {
          "base_uri": "https://localhost:8080/"
        },
        "id": "UrLYYH2ZXWO3",
        "outputId": "712f5d20-be7b-484b-9437-21634e5bb2af"
      },
      "execution_count": 79,
      "outputs": [
        {
          "output_type": "execute_result",
          "data": {
            "text/plain": [
              "[595, 144, 23, 134]"
            ]
          },
          "metadata": {},
          "execution_count": 79
        }
      ]
    },
    {
      "cell_type": "code",
      "source": [
        "n_class_correct"
      ],
      "metadata": {
        "colab": {
          "base_uri": "https://localhost:8080/"
        },
        "id": "BpTKaVnfXXZN",
        "outputId": "0a67cfd9-3be7-43bf-d741-02f48fba6718"
      },
      "execution_count": 80,
      "outputs": [
        {
          "output_type": "execute_result",
          "data": {
            "text/plain": [
              "[552, 65, 0, 134]"
            ]
          },
          "metadata": {},
          "execution_count": 80
        }
      ]
    },
    {
      "cell_type": "code",
      "source": [
        "n_class_predicted"
      ],
      "metadata": {
        "colab": {
          "base_uri": "https://localhost:8080/"
        },
        "id": "AauTLfl8XVFe",
        "outputId": "bbb10330-33c6-473b-c52b-9945350c73d0"
      },
      "execution_count": 81,
      "outputs": [
        {
          "output_type": "execute_result",
          "data": {
            "text/plain": [
              "[642, 120, 0, 134]"
            ]
          },
          "metadata": {},
          "execution_count": 81
        }
      ]
    },
    {
      "cell_type": "code",
      "source": [
        "# plotting the loss per batch graph\n",
        "\n",
        "plt.plot(loss_list)\n",
        "\n",
        "plt.xlabel('Num. of Batch')\n",
        "plt.ylabel('Loss (Cross Entropy)')\n",
        " \n",
        "plt.title('Convolutional Neural Networks - Loss vs Batch Iteration Graph')\n",
        " \n",
        "plt.show()"
      ],
      "metadata": {
        "colab": {
          "base_uri": "https://localhost:8080/",
          "height": 295
        },
        "id": "BYco-qVbBZuX",
        "outputId": "44ce4f68-2305-4909-8fdb-868ff289073c"
      },
      "execution_count": 82,
      "outputs": [
        {
          "output_type": "display_data",
          "data": {
            "image/png": "[encoded data removed]",
            "text/plain": [
              "<Figure size 432x288 with 1 Axes>"
            ]
          },
          "metadata": {
            "needs_background": "light"
          }
        }
      ]
    },
    {
      "cell_type": "code",
      "source": [
        "classes = ['benignware', 'malware', 'hackware', 'gray']\n",
        "total_pre = []\n",
        "total_rec = []\n",
        "\n",
        "for i in range(4):\n",
        "  acc = n_class_correct[i] / n_class_samples[i]\n",
        "  try:\n",
        "    pre = n_class_correct[i] / (n_class_correct[i] + (n_class_predicted[i]-n_class_correct[i]))\n",
        "  except ZeroDivisionError:\n",
        "    rec = 0\n",
        "  total_pre.append(pre)\n",
        "  try:\n",
        "    rec = n_class_correct[i] / n_class_predicted[i] \n",
        "  except ZeroDivisionError:\n",
        "    rec = 0\n",
        "  total_rec.append(rec) \n",
        "  '''\n",
        "  try:\n",
        "    f1 = ((2*total_pre.sum()*total_rec.sum())/(total_pre.sum()+total_rec.sum()))/4\n",
        "  except ZeroDivisionError:\n",
        "    f1 = 'undefined'\n",
        "  '''\n",
        "  f1 = (2*sum(total_pre)*sum(total_rec))/(sum(total_pre)+sum(total_rec))/4\n",
        "print(f'F-1 Score: {f1}')"
      ],
      "metadata": {
        "colab": {
          "base_uri": "https://localhost:8080/"
        },
        "id": "sJVwHmLcBbwt",
        "outputId": "c12f6313-f89a-4737-ae7b-92a7bb2ca1a2"
      },
      "execution_count": 83,
      "outputs": [
        {
          "output_type": "stream",
          "name": "stdout",
          "text": [
            "F-1 Score: 0.6612161732745462\n"
          ]
        }
      ]
    },
    {
      "cell_type": "code",
      "source": [
        "index = np.arange(0, 4)\n",
        "width = 0.2\n",
        "plt.figure(figsize = (10, 6))\n",
        "plt.title('Comparison for CNN - Correctly Classified with Predicted')\n",
        "\n",
        "plt.bar(index , n_class_correct, width, color='chocolate', label='Correctly Classified', alpha=0.75)\n",
        "plt.bar(index + width, n_class_predicted, width, color='saddlebrown', label='Predicted', alpha=0.75)\n",
        "  \n",
        "plt.xlabel('Classes')\n",
        "plt.ylabel('Sample Numbers')\n",
        "plt.xticks(index+width/2, classes)\n",
        "plt.legend()\n",
        "plt.show()"
      ],
      "metadata": {
        "colab": {
          "base_uri": "https://localhost:8080/",
          "height": 404
        },
        "id": "oMCyqOnOBeVV",
        "outputId": "129598ae-6382-45ad-94a9-780773bbb174"
      },
      "execution_count": 84,
      "outputs": [
        {
          "output_type": "display_data",
          "data": {
            "image/png": "[encoded data removed]",
            "text/plain": [
              "<Figure size 720x432 with 1 Axes>"
            ]
          },
          "metadata": {
            "needs_background": "light"
          }
        }
      ]
    },
    {
      "cell_type": "code",
      "source": [
        "# following LeNet-5\n",
        "class ConvNet1(nn.Module):\n",
        "    def __init__(self):\n",
        "        super(ConvNet1, self).__init__()\n",
        "        self.conv1 = nn.Conv2d(1, 6, 5) #in_channels, out_channels, filter (5X5)\n",
        "        self.maxpool = nn.MaxPool2d(2, 2)\n",
        "        self.conv2 = nn.Conv2d(6, 16, 5)\n",
        "        self.fc1 = nn.Linear(16 * 5 * 5, 120)\n",
        "        self.fc2 = nn.Linear(120, 84)\n",
        "        self.fc3 = nn.Linear(84, 4)\n",
        "\n",
        "        self.relu = nn.ReLU()\n",
        "        self.dropout = nn.Dropout()\n",
        "\n",
        "\n",
        "    def forward(self, x):\n",
        "                                # -> n, 1, 32, 32               \n",
        "        x = self.conv1(x)\n",
        "        x = self.dropout(x)\n",
        "        x = self.relu(x)\n",
        "        x = self.maxpool(x)                       \n",
        "                                # -> n, 6, 14, 14\n",
        "        x = self.conv2(x)\n",
        "        x = self.dropout(x)\n",
        "        x = self.relu(x)\n",
        "        x = self.maxpool(x)                       \n",
        "                                # -> n, 16, 5, 5\n",
        "        x = x.view(-1, 16*5*5)  # -> n, 400             \n",
        "        \n",
        "        x = self.fc1(x)\n",
        "        x = self.relu(x)                         \n",
        "                                # -> n, 120 \n",
        "        x = self.fc2(x)\n",
        "        x = self.relu(x)                         \n",
        "                                # -> n, 84\n",
        "        x = self.fc3(x)         \n",
        "                                # -> n, 4              \n",
        "        return x\n"
      ],
      "metadata": {
        "id": "fWXZmBFOBguX"
      },
      "execution_count": 85,
      "outputs": []
    },
    {
      "cell_type": "code",
      "source": [
        "model = ConvNet1()\n",
        "model.to(device)"
      ],
      "metadata": {
        "colab": {
          "base_uri": "https://localhost:8080/"
        },
        "id": "7vd-xzE7BjKt",
        "outputId": "e3073976-0c61-4b8d-e7bc-aa686ac07cba"
      },
      "execution_count": 98,
      "outputs": [
        {
          "output_type": "execute_result",
          "data": {
            "text/plain": [
              "ConvNet1(\n",
              "  (conv1): Conv2d(1, 6, kernel_size=(5, 5), stride=(1, 1))\n",
              "  (maxpool): MaxPool2d(kernel_size=2, stride=2, padding=0, dilation=1, ceil_mode=False)\n",
              "  (conv2): Conv2d(6, 16, kernel_size=(5, 5), stride=(1, 1))\n",
              "  (fc1): Linear(in_features=400, out_features=120, bias=True)\n",
              "  (fc2): Linear(in_features=120, out_features=84, bias=True)\n",
              "  (fc3): Linear(in_features=84, out_features=4, bias=True)\n",
              "  (relu): ReLU()\n",
              "  (dropout): Dropout(p=0.5, inplace=False)\n",
              ")"
            ]
          },
          "metadata": {},
          "execution_count": 98
        }
      ]
    },
    {
      "cell_type": "code",
      "source": [
        "criterion = nn.CrossEntropyLoss()\n",
        "optimizer = torch.optim.Adam(model.parameters(), lr=learning_rate)"
      ],
      "metadata": {
        "id": "dgnm-CMrBlIV"
      },
      "execution_count": 99,
      "outputs": []
    },
    {
      "cell_type": "code",
      "source": [
        "import math\n",
        "\n",
        "# calculating number of epochs\n",
        "num_epochs = num_iters / (len(train_index) / batch_size)\n",
        "num_epochs = int(math.ceil(num_epochs))\n",
        "loss_list = []\n",
        "\n",
        "n_total_steps = len(train_loader)\n",
        "for epoch in range(num_epochs):\n",
        "    for i, (images, labels) in enumerate(train_loader):\n",
        "        \n",
        "        images = images.to(device)\n",
        "        labels = labels.to(device)\n",
        "\n",
        "        # Forward pass\n",
        "        outputs = model(images)\n",
        "        loss = criterion(outputs, labels)\n",
        "\n",
        "        # Backward and optimize\n",
        "        optimizer.zero_grad()\n",
        "        loss.backward()\n",
        "        optimizer.step()\n",
        "\n",
        "        if (i+1) % 10 == 0:\n",
        "            print (f'Epoch [{epoch+1}/{num_epochs}], Step [{i+1}/{n_total_steps}], Loss: {loss.item():.4f}')\n",
        "            loss_list.append(loss.item())\n",
        "print('Finished Training')"
      ],
      "metadata": {
        "colab": {
          "base_uri": "https://localhost:8080/"
        },
        "id": "L9ybAWNcBm01",
        "outputId": "11da036e-4aa1-4946-acb0-cac9f9825d96"
      },
      "execution_count": 100,
      "outputs": [
        {
          "output_type": "stream",
          "name": "stdout",
          "text": [
            "Epoch [1/12], Step [10/180], Loss: 0.9957\n",
            "Epoch [1/12], Step [20/180], Loss: 0.3870\n",
            "Epoch [1/12], Step [30/180], Loss: 0.7381\n",
            "Epoch [1/12], Step [40/180], Loss: 0.5652\n",
            "Epoch [1/12], Step [50/180], Loss: 0.5866\n",
            "Epoch [1/12], Step [60/180], Loss: 0.6850\n",
            "Epoch [1/12], Step [70/180], Loss: 0.7815\n",
            "Epoch [1/12], Step [80/180], Loss: 0.9118\n",
            "Epoch [1/12], Step [90/180], Loss: 0.8356\n",
            "Epoch [1/12], Step [100/180], Loss: 0.2595\n",
            "Epoch [1/12], Step [110/180], Loss: 0.7481\n",
            "Epoch [1/12], Step [120/180], Loss: 0.5199\n",
            "Epoch [1/12], Step [130/180], Loss: 0.8687\n",
            "Epoch [1/12], Step [140/180], Loss: 0.3502\n",
            "Epoch [1/12], Step [150/180], Loss: 0.5862\n",
            "Epoch [1/12], Step [160/180], Loss: 0.6570\n",
            "Epoch [1/12], Step [170/180], Loss: 0.9525\n",
            "Epoch [1/12], Step [180/180], Loss: 0.9113\n",
            "Epoch [2/12], Step [10/180], Loss: 0.2097\n",
            "Epoch [2/12], Step [20/180], Loss: 0.5293\n",
            "Epoch [2/12], Step [30/180], Loss: 0.7583\n",
            "Epoch [2/12], Step [40/180], Loss: 0.3833\n",
            "Epoch [2/12], Step [50/180], Loss: 0.4138\n",
            "Epoch [2/12], Step [60/180], Loss: 0.6046\n",
            "Epoch [2/12], Step [70/180], Loss: 0.6568\n",
            "Epoch [2/12], Step [80/180], Loss: 0.3577\n",
            "Epoch [2/12], Step [90/180], Loss: 0.3504\n",
            "Epoch [2/12], Step [100/180], Loss: 0.4787\n",
            "Epoch [2/12], Step [110/180], Loss: 0.4471\n",
            "Epoch [2/12], Step [120/180], Loss: 0.2456\n",
            "Epoch [2/12], Step [130/180], Loss: 0.6416\n",
            "Epoch [2/12], Step [140/180], Loss: 1.0926\n",
            "Epoch [2/12], Step [150/180], Loss: 0.3102\n",
            "Epoch [2/12], Step [160/180], Loss: 0.3826\n",
            "Epoch [2/12], Step [170/180], Loss: 0.4782\n",
            "Epoch [2/12], Step [180/180], Loss: 0.1614\n",
            "Epoch [3/12], Step [10/180], Loss: 0.4266\n",
            "Epoch [3/12], Step [20/180], Loss: 0.4885\n",
            "Epoch [3/12], Step [30/180], Loss: 0.3444\n",
            "Epoch [3/12], Step [40/180], Loss: 0.2441\n",
            "Epoch [3/12], Step [50/180], Loss: 0.4907\n",
            "Epoch [3/12], Step [60/180], Loss: 0.3916\n",
            "Epoch [3/12], Step [70/180], Loss: 0.4945\n",
            "Epoch [3/12], Step [80/180], Loss: 0.5568\n",
            "Epoch [3/12], Step [90/180], Loss: 0.3161\n",
            "Epoch [3/12], Step [100/180], Loss: 0.4327\n",
            "Epoch [3/12], Step [110/180], Loss: 0.4854\n",
            "Epoch [3/12], Step [120/180], Loss: 0.4244\n",
            "Epoch [3/12], Step [130/180], Loss: 0.3849\n",
            "Epoch [3/12], Step [140/180], Loss: 0.8271\n",
            "Epoch [3/12], Step [150/180], Loss: 0.6668\n",
            "Epoch [3/12], Step [160/180], Loss: 0.1742\n",
            "Epoch [3/12], Step [170/180], Loss: 0.2850\n",
            "Epoch [3/12], Step [180/180], Loss: 0.5764\n",
            "Epoch [4/12], Step [10/180], Loss: 0.1303\n",
            "Epoch [4/12], Step [20/180], Loss: 0.5120\n",
            "Epoch [4/12], Step [30/180], Loss: 0.4017\n",
            "Epoch [4/12], Step [40/180], Loss: 0.6452\n",
            "Epoch [4/12], Step [50/180], Loss: 0.3813\n",
            "Epoch [4/12], Step [60/180], Loss: 0.4234\n",
            "Epoch [4/12], Step [70/180], Loss: 0.5097\n",
            "Epoch [4/12], Step [80/180], Loss: 0.2017\n",
            "Epoch [4/12], Step [90/180], Loss: 0.4768\n",
            "Epoch [4/12], Step [100/180], Loss: 0.3003\n",
            "Epoch [4/12], Step [110/180], Loss: 0.3859\n",
            "Epoch [4/12], Step [120/180], Loss: 0.2171\n",
            "Epoch [4/12], Step [130/180], Loss: 0.2743\n",
            "Epoch [4/12], Step [140/180], Loss: 0.4243\n",
            "Epoch [4/12], Step [150/180], Loss: 0.3426\n",
            "Epoch [4/12], Step [160/180], Loss: 0.4090\n",
            "Epoch [4/12], Step [170/180], Loss: 0.4838\n",
            "Epoch [4/12], Step [180/180], Loss: 0.2335\n",
            "Epoch [5/12], Step [10/180], Loss: 0.3357\n",
            "Epoch [5/12], Step [20/180], Loss: 0.2359\n",
            "Epoch [5/12], Step [30/180], Loss: 0.2374\n",
            "Epoch [5/12], Step [40/180], Loss: 0.6441\n",
            "Epoch [5/12], Step [50/180], Loss: 0.5280\n",
            "Epoch [5/12], Step [60/180], Loss: 0.4031\n",
            "Epoch [5/12], Step [70/180], Loss: 0.4447\n",
            "Epoch [5/12], Step [80/180], Loss: 0.5659\n",
            "Epoch [5/12], Step [90/180], Loss: 0.6903\n",
            "Epoch [5/12], Step [100/180], Loss: 0.1827\n",
            "Epoch [5/12], Step [110/180], Loss: 0.4512\n",
            "Epoch [5/12], Step [120/180], Loss: 0.1857\n",
            "Epoch [5/12], Step [130/180], Loss: 0.2198\n",
            "Epoch [5/12], Step [140/180], Loss: 0.3896\n",
            "Epoch [5/12], Step [150/180], Loss: 0.3638\n",
            "Epoch [5/12], Step [160/180], Loss: 0.3292\n",
            "Epoch [5/12], Step [170/180], Loss: 0.4073\n",
            "Epoch [5/12], Step [180/180], Loss: 0.2148\n",
            "Epoch [6/12], Step [10/180], Loss: 0.3412\n",
            "Epoch [6/12], Step [20/180], Loss: 0.1726\n",
            "Epoch [6/12], Step [30/180], Loss: 0.6166\n",
            "Epoch [6/12], Step [40/180], Loss: 0.3199\n",
            "Epoch [6/12], Step [50/180], Loss: 0.2368\n",
            "Epoch [6/12], Step [60/180], Loss: 0.2324\n",
            "Epoch [6/12], Step [70/180], Loss: 0.1885\n",
            "Epoch [6/12], Step [80/180], Loss: 0.3164\n",
            "Epoch [6/12], Step [90/180], Loss: 0.0993\n",
            "Epoch [6/12], Step [100/180], Loss: 0.2965\n",
            "Epoch [6/12], Step [110/180], Loss: 0.3331\n",
            "Epoch [6/12], Step [120/180], Loss: 0.2405\n",
            "Epoch [6/12], Step [130/180], Loss: 0.3138\n",
            "Epoch [6/12], Step [140/180], Loss: 0.3686\n",
            "Epoch [6/12], Step [150/180], Loss: 0.3930\n",
            "Epoch [6/12], Step [160/180], Loss: 0.0722\n",
            "Epoch [6/12], Step [170/180], Loss: 0.3008\n",
            "Epoch [6/12], Step [180/180], Loss: 0.3905\n",
            "Epoch [7/12], Step [10/180], Loss: 0.2008\n",
            "Epoch [7/12], Step [20/180], Loss: 0.2598\n",
            "Epoch [7/12], Step [30/180], Loss: 0.1678\n",
            "Epoch [7/12], Step [40/180], Loss: 0.2747\n",
            "Epoch [7/12], Step [50/180], Loss: 0.3081\n",
            "Epoch [7/12], Step [60/180], Loss: 0.1633\n",
            "Epoch [7/12], Step [70/180], Loss: 0.1954\n",
            "Epoch [7/12], Step [80/180], Loss: 0.2566\n",
            "Epoch [7/12], Step [90/180], Loss: 0.0519\n",
            "Epoch [7/12], Step [100/180], Loss: 0.2879\n",
            "Epoch [7/12], Step [110/180], Loss: 0.3089\n",
            "Epoch [7/12], Step [120/180], Loss: 0.3957\n",
            "Epoch [7/12], Step [130/180], Loss: 0.1724\n",
            "Epoch [7/12], Step [140/180], Loss: 0.1652\n",
            "Epoch [7/12], Step [150/180], Loss: 0.4851\n",
            "Epoch [7/12], Step [160/180], Loss: 0.5148\n",
            "Epoch [7/12], Step [170/180], Loss: 0.4177\n",
            "Epoch [7/12], Step [180/180], Loss: 0.3810\n",
            "Epoch [8/12], Step [10/180], Loss: 0.2819\n",
            "Epoch [8/12], Step [20/180], Loss: 0.2011\n",
            "Epoch [8/12], Step [30/180], Loss: 0.2592\n",
            "Epoch [8/12], Step [40/180], Loss: 0.3256\n",
            "Epoch [8/12], Step [50/180], Loss: 0.2613\n",
            "Epoch [8/12], Step [60/180], Loss: 0.2880\n",
            "Epoch [8/12], Step [70/180], Loss: 0.3606\n",
            "Epoch [8/12], Step [80/180], Loss: 0.3963\n",
            "Epoch [8/12], Step [90/180], Loss: 0.2137\n",
            "Epoch [8/12], Step [100/180], Loss: 0.4970\n",
            "Epoch [8/12], Step [110/180], Loss: 0.2436\n",
            "Epoch [8/12], Step [120/180], Loss: 0.2223\n",
            "Epoch [8/12], Step [130/180], Loss: 0.2026\n",
            "Epoch [8/12], Step [140/180], Loss: 0.3830\n",
            "Epoch [8/12], Step [150/180], Loss: 0.1718\n",
            "Epoch [8/12], Step [160/180], Loss: 0.5543\n",
            "Epoch [8/12], Step [170/180], Loss: 0.3447\n",
            "Epoch [8/12], Step [180/180], Loss: 0.0171\n",
            "Epoch [9/12], Step [10/180], Loss: 0.2508\n",
            "Epoch [9/12], Step [20/180], Loss: 0.1620\n",
            "Epoch [9/12], Step [30/180], Loss: 0.0933\n",
            "Epoch [9/12], Step [40/180], Loss: 0.0738\n",
            "Epoch [9/12], Step [50/180], Loss: 0.1259\n",
            "Epoch [9/12], Step [60/180], Loss: 0.1270\n",
            "Epoch [9/12], Step [70/180], Loss: 0.1708\n",
            "Epoch [9/12], Step [80/180], Loss: 0.2441\n",
            "Epoch [9/12], Step [90/180], Loss: 0.2280\n",
            "Epoch [9/12], Step [100/180], Loss: 0.3941\n",
            "Epoch [9/12], Step [110/180], Loss: 0.1244\n",
            "Epoch [9/12], Step [120/180], Loss: 0.4196\n",
            "Epoch [9/12], Step [130/180], Loss: 0.0633\n",
            "Epoch [9/12], Step [140/180], Loss: 0.3001\n",
            "Epoch [9/12], Step [150/180], Loss: 0.1569\n",
            "Epoch [9/12], Step [160/180], Loss: 0.3339\n",
            "Epoch [9/12], Step [170/180], Loss: 0.2829\n",
            "Epoch [9/12], Step [180/180], Loss: 0.2442\n",
            "Epoch [10/12], Step [10/180], Loss: 0.3130\n",
            "Epoch [10/12], Step [20/180], Loss: 0.5568\n",
            "Epoch [10/12], Step [30/180], Loss: 0.2208\n",
            "Epoch [10/12], Step [40/180], Loss: 0.2476\n",
            "Epoch [10/12], Step [50/180], Loss: 0.1953\n",
            "Epoch [10/12], Step [60/180], Loss: 0.2661\n",
            "Epoch [10/12], Step [70/180], Loss: 0.1574\n",
            "Epoch [10/12], Step [80/180], Loss: 0.3294\n",
            "Epoch [10/12], Step [90/180], Loss: 0.2157\n",
            "Epoch [10/12], Step [100/180], Loss: 0.0727\n",
            "Epoch [10/12], Step [110/180], Loss: 0.1806\n",
            "Epoch [10/12], Step [120/180], Loss: 0.0881\n",
            "Epoch [10/12], Step [130/180], Loss: 0.4039\n",
            "Epoch [10/12], Step [140/180], Loss: 0.2059\n",
            "Epoch [10/12], Step [150/180], Loss: 0.2836\n",
            "Epoch [10/12], Step [160/180], Loss: 0.4436\n",
            "Epoch [10/12], Step [170/180], Loss: 0.1451\n",
            "Epoch [10/12], Step [180/180], Loss: 0.1395\n",
            "Epoch [11/12], Step [10/180], Loss: 0.2625\n",
            "Epoch [11/12], Step [20/180], Loss: 0.1585\n",
            "Epoch [11/12], Step [30/180], Loss: 0.1158\n",
            "Epoch [11/12], Step [40/180], Loss: 0.1718\n",
            "Epoch [11/12], Step [50/180], Loss: 0.1237\n",
            "Epoch [11/12], Step [60/180], Loss: 0.2286\n",
            "Epoch [11/12], Step [70/180], Loss: 0.1514\n",
            "Epoch [11/12], Step [80/180], Loss: 0.1986\n",
            "Epoch [11/12], Step [90/180], Loss: 0.0715\n",
            "Epoch [11/12], Step [100/180], Loss: 0.2732\n",
            "Epoch [11/12], Step [110/180], Loss: 0.2726\n",
            "Epoch [11/12], Step [120/180], Loss: 0.0351\n",
            "Epoch [11/12], Step [130/180], Loss: 0.4355\n",
            "Epoch [11/12], Step [140/180], Loss: 0.2531\n",
            "Epoch [11/12], Step [150/180], Loss: 0.1608\n",
            "Epoch [11/12], Step [160/180], Loss: 0.1583\n",
            "Epoch [11/12], Step [170/180], Loss: 0.2147\n",
            "Epoch [11/12], Step [180/180], Loss: 0.1520\n",
            "Epoch [12/12], Step [10/180], Loss: 0.0876\n",
            "Epoch [12/12], Step [20/180], Loss: 0.2644\n",
            "Epoch [12/12], Step [30/180], Loss: 0.0373\n",
            "Epoch [12/12], Step [40/180], Loss: 0.2110\n",
            "Epoch [12/12], Step [50/180], Loss: 0.1377\n",
            "Epoch [12/12], Step [60/180], Loss: 0.2095\n",
            "Epoch [12/12], Step [70/180], Loss: 0.2580\n",
            "Epoch [12/12], Step [80/180], Loss: 0.1676\n",
            "Epoch [12/12], Step [90/180], Loss: 0.1658\n",
            "Epoch [12/12], Step [100/180], Loss: 0.0634\n",
            "Epoch [12/12], Step [110/180], Loss: 0.2108\n",
            "Epoch [12/12], Step [120/180], Loss: 0.2129\n",
            "Epoch [12/12], Step [130/180], Loss: 0.1798\n",
            "Epoch [12/12], Step [140/180], Loss: 0.2252\n",
            "Epoch [12/12], Step [150/180], Loss: 0.0763\n",
            "Epoch [12/12], Step [160/180], Loss: 0.1530\n",
            "Epoch [12/12], Step [170/180], Loss: 0.1359\n",
            "Epoch [12/12], Step [180/180], Loss: 0.0114\n",
            "Finished Training\n"
          ]
        }
      ]
    },
    {
      "cell_type": "code",
      "source": [
        "# plotting the loss per batch graph\n",
        "\n",
        "plt.plot(loss_list)\n",
        " \n",
        "\n",
        "plt.xlabel('Num. of Batch')\n",
        "plt.ylabel('Loss (Cross Entropy)')\n",
        " \n",
        "plt.title('Convolutional Neural Networks - Loss vs Batch Iteration Graph')\n",
        " \n",
        "plt.show()"
      ],
      "metadata": {
        "colab": {
          "base_uri": "https://localhost:8080/",
          "height": 295
        },
        "id": "NiNDcaAsBphY",
        "outputId": "938021a1-70ca-422a-92f1-903f9e81563c"
      },
      "execution_count": 101,
      "outputs": [
        {
          "output_type": "display_data",
          "data": {
            "image/png": "[encoded data removed]",
            "text/plain": [
              "<Figure size 432x288 with 1 Axes>"
            ]
          },
          "metadata": {
            "needs_background": "light"
          }
        }
      ]
    },
    {
      "cell_type": "code",
      "source": [
        "with torch.no_grad():\n",
        "  n_correct = 0\n",
        "  n_incorrect = 0\n",
        "  n_samples = 0\n",
        "  n_class_correct = [0 for i in range(4)]\n",
        "  n_class_incorrect = [0 for i in range(4)]\n",
        "  n_class_predicted = [0 for i in range(4)]\n",
        "  n_class_samples = [0 for i in range(4)]\n",
        "\n",
        "\n",
        "  for images, labels in test_loader:\n",
        "    images = images.to(device)\n",
        "    labels = labels.to(device)\n",
        "    outputs = model(images)\n",
        "    # max returns (value ,index)\n",
        "    _, predicted = torch.max(outputs, 1)\n",
        "    n_samples += labels.size(0)\n",
        "    n_correct += (predicted == labels).sum().item()\n",
        "    n_incorrect += (predicted != labels).sum().item()\n",
        "    \n",
        "    for i in range(len(labels)):\n",
        "      label = labels[i]\n",
        "      pred = predicted[i]\n",
        "      if (label == pred):\n",
        "        n_class_correct[label] += 1\n",
        "      n_class_predicted[pred] += 1  \n",
        "      n_class_samples[label] += 1\n",
        "\n",
        "  acc = 100.0 * n_correct / n_samples\n",
        "  print(f'Accuracy of the network: {acc} %')"
      ],
      "metadata": {
        "colab": {
          "base_uri": "https://localhost:8080/"
        },
        "id": "PrHJYupbBsNd",
        "outputId": "f4bdb6db-d6bd-4c8f-9565-70015c79ee2a"
      },
      "execution_count": 103,
      "outputs": [
        {
          "output_type": "stream",
          "name": "stdout",
          "text": [
            "Accuracy of the network: 92.96875 %\n"
          ]
        }
      ]
    },
    {
      "cell_type": "code",
      "source": [
        "n_class_samples"
      ],
      "metadata": {
        "colab": {
          "base_uri": "https://localhost:8080/"
        },
        "id": "rx5yn6TOaqDd",
        "outputId": "a1c83322-fd5d-4ab2-c36a-4b970b455945"
      },
      "execution_count": 106,
      "outputs": [
        {
          "output_type": "execute_result",
          "data": {
            "text/plain": [
              "[595, 144, 23, 134]"
            ]
          },
          "metadata": {},
          "execution_count": 106
        }
      ]
    },
    {
      "cell_type": "code",
      "source": [
        "n_class_correct"
      ],
      "metadata": {
        "colab": {
          "base_uri": "https://localhost:8080/"
        },
        "id": "-IhN-ARcatnc",
        "outputId": "07942f24-31c3-4818-b2d6-f9399ba79fc5"
      },
      "execution_count": 107,
      "outputs": [
        {
          "output_type": "execute_result",
          "data": {
            "text/plain": [
              "[577, 109, 13, 134]"
            ]
          },
          "metadata": {},
          "execution_count": 107
        }
      ]
    },
    {
      "cell_type": "code",
      "source": [
        "n_class_predicted"
      ],
      "metadata": {
        "colab": {
          "base_uri": "https://localhost:8080/"
        },
        "id": "gF9xnFyyavvN",
        "outputId": "5728c66d-eda2-4d72-bc29-6a35aea1a946"
      },
      "execution_count": 108,
      "outputs": [
        {
          "output_type": "execute_result",
          "data": {
            "text/plain": [
              "[622, 126, 14, 134]"
            ]
          },
          "metadata": {},
          "execution_count": 108
        }
      ]
    },
    {
      "cell_type": "code",
      "source": [
        "classes = ['benignware', 'malware', 'hackware', 'gray']\n",
        "total_pre = []\n",
        "total_rec = []\n",
        "\n",
        "for i in range(4):\n",
        "  acc = n_class_correct[i] / n_class_samples[i]\n",
        "  try:\n",
        "    pre = n_class_correct[i] / (n_class_correct[i] + (n_class_predicted[i]-n_class_correct[i]))\n",
        "  except ZeroDivisionError:\n",
        "    rec = 0\n",
        "  total_pre.append(pre)\n",
        "  try:\n",
        "    rec = n_class_correct[i] / n_class_predicted[i] \n",
        "  except ZeroDivisionError:\n",
        "    rec = 0\n",
        "  total_rec.append(rec) \n",
        "  '''\n",
        "  try:\n",
        "    f1 = ((2*total_pre.sum()*total_rec.sum())/(total_pre.sum()+total_rec.sum()))/4\n",
        "  except ZeroDivisionError:\n",
        "    f1 = 'undefined'\n",
        "  '''\n",
        "  f1 = (2*sum(total_pre)*sum(total_rec))/(sum(total_pre)+sum(total_rec))/4\n",
        "print(f'F-1 Score: {f1}')"
      ],
      "metadata": {
        "colab": {
          "base_uri": "https://localhost:8080/"
        },
        "id": "tG-cpJieBu82",
        "outputId": "70f3ac74-0236-482d-f79d-055712212ae8"
      },
      "execution_count": 104,
      "outputs": [
        {
          "output_type": "stream",
          "name": "stdout",
          "text": [
            "F-1 Score: 0.9303258816924411\n"
          ]
        }
      ]
    },
    {
      "cell_type": "code",
      "source": [
        "index = np.arange(0, 4)\n",
        "width = 0.2\n",
        "plt.figure(figsize = (10, 6))\n",
        "plt.title('Comparison for CNN - Correctly Classified with Predicted')\n",
        "\n",
        "plt.bar(index , n_class_correct, width, color='skyblue', label='Correctly Classified', alpha=0.75)\n",
        "plt.bar(index + width, n_class_predicted, width, color='steelblue', label='Predicted', alpha=0.75)\n",
        "  \n",
        "plt.xlabel('Classes')\n",
        "plt.ylabel('Sample Numbers')\n",
        "plt.xticks(index+width/2, classes)\n",
        "plt.legend()\n",
        "plt.show()"
      ],
      "metadata": {
        "colab": {
          "base_uri": "https://localhost:8080/",
          "height": 404
        },
        "id": "W0znES29Bx5n",
        "outputId": "c1196658-b083-4097-e7af-2f21d6ce832e"
      },
      "execution_count": 105,
      "outputs": [
        {
          "output_type": "display_data",
          "data": {
            "image/png": "[encoded data removed]",
            "text/plain": [
              "<Figure size 720x432 with 1 Axes>"
            ]
          },
          "metadata": {
            "needs_background": "light"
          }
        }
      ]
    },
    {
      "cell_type": "code",
      "source": [
        ""
      ],
      "metadata": {
        "id": "oEYq_CYRBzxV"
      },
      "execution_count": null,
      "outputs": []
    }
  ]
}