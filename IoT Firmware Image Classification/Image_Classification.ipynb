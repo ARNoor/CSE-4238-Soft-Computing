{
  "nbformat": 4,
  "nbformat_minor": 0,
  "metadata": {
    "colab": {
      "name": "Assignment 1 Soft Computing.ipynb",
      "provenance": [],
      "collapsed_sections": []
    },
    "kernelspec": {
      "name": "python3",
      "display_name": "Python 3"
    },
    "language_info": {
      "name": "python"
    },
    "accelerator": "GPU"
  },
  "cells": [
    {
      "cell_type": "markdown",
      "source": [
        "# Assignment 1\n",
        "Abrar Rafid Noor\n",
        "\n",
        "ID: 170204059\n",
        "\n",
        "Group: B1"
      ],
      "metadata": {
        "id": "mql0IuqZzTvj"
      }
    },
    {
      "cell_type": "code",
      "execution_count": null,
      "metadata": {
        "id": "ricp9Ed_-VNW"
      },
      "outputs": [],
      "source": [
        "# importing necessary libraries\n",
        "import numpy as np\n",
        "import pandas as pd\n",
        "\n",
        "import skimage\n",
        "from skimage.io import imread, imshow\n",
        "\n",
        "import torch\n",
        "from torch import nn\n",
        "import torch.optim as optim\n",
        "from torch.utils.data import Dataset\n",
        "from torch.utils.data.sampler import SubsetRandomSampler\n",
        "from torchvision import datasets, transforms, models\n",
        "from torch.utils.data import Dataset, DataLoader, random_split, WeightedRandomSampler\n",
        "\n",
        "\n",
        "import matplotlib\n",
        "import matplotlib.pyplot as plt\n",
        "import seaborn as sns\n",
        "from PIL import Image\n",
        "\n",
        "import warnings\n",
        "warnings.filterwarnings('ignore')\n",
        "\n",
        "%matplotlib inline "
      ]
    },
    {
      "cell_type": "code",
      "source": [
        "# mounting the google drive\n",
        "from google.colab import drive\n",
        "drive.mount('/content/drive/')"
      ],
      "metadata": {
        "colab": {
          "base_uri": "https://localhost:8080/"
        },
        "id": "IVH-rdmG-s13",
        "outputId": "df0d306b-8bbe-442f-ca16-c68ec46e3fd9"
      },
      "execution_count": null,
      "outputs": [
        {
          "output_type": "stream",
          "name": "stdout",
          "text": [
            "Mounted at /content/drive/\n"
          ]
        }
      ]
    },
    {
      "cell_type": "code",
      "source": [
        "# reading the upper three rows of the given csv file\n",
        "df = pd.read_csv('drive/MyDrive/IOT dataset/firmware.csv')\n",
        "df.head(3)"
      ],
      "metadata": {
        "colab": {
          "base_uri": "https://localhost:8080/",
          "height": 358
        },
        "id": "tqNDVLov-tUH",
        "outputId": "1095b6b7-4f84-4934-aeb8-a1ac9161a7cd"
      },
      "execution_count": null,
      "outputs": [
        {
          "output_type": "execute_result",
          "data": {
            "text/html": [
              "\n",
              "  <div id=\"df-a73b9e8c-8006-4423-bd75-83c9eba8a8d2\">\n",
              "    <div class=\"colab-df-container\">\n",
              "      <div>\n",
              "<style scoped>\n",
              "    .dataframe tbody tr th:only-of-type {\n",
              "        vertical-align: middle;\n",
              "    }\n",
              "\n",
              "    .dataframe tbody tr th {\n",
              "        vertical-align: top;\n",
              "    }\n",
              "\n",
              "    .dataframe thead th {\n",
              "        text-align: right;\n",
              "    }\n",
              "</style>\n",
              "<table border=\"1\" class=\"dataframe\">\n",
              "  <thead>\n",
              "    <tr style=\"text-align: right;\">\n",
              "      <th></th>\n",
              "      <th>filename</th>\n",
              "      <th>class</th>\n",
              "      <th>target</th>\n",
              "      <th>pixel1</th>\n",
              "      <th>pixel2</th>\n",
              "      <th>pixel3</th>\n",
              "      <th>pixel4</th>\n",
              "      <th>pixel5</th>\n",
              "      <th>pixel6</th>\n",
              "      <th>pixel7</th>\n",
              "      <th>pixel8</th>\n",
              "      <th>pixel9</th>\n",
              "      <th>pixel10</th>\n",
              "      <th>pixel11</th>\n",
              "      <th>pixel12</th>\n",
              "      <th>pixel13</th>\n",
              "      <th>pixel14</th>\n",
              "      <th>pixel15</th>\n",
              "      <th>pixel16</th>\n",
              "      <th>pixel17</th>\n",
              "      <th>pixel18</th>\n",
              "      <th>pixel19</th>\n",
              "      <th>pixel20</th>\n",
              "      <th>pixel21</th>\n",
              "      <th>pixel22</th>\n",
              "      <th>pixel23</th>\n",
              "      <th>pixel24</th>\n",
              "      <th>pixel25</th>\n",
              "      <th>pixel26</th>\n",
              "      <th>pixel27</th>\n",
              "      <th>pixel28</th>\n",
              "      <th>pixel29</th>\n",
              "      <th>pixel30</th>\n",
              "      <th>pixel31</th>\n",
              "      <th>pixel32</th>\n",
              "      <th>pixel33</th>\n",
              "      <th>pixel34</th>\n",
              "      <th>pixel35</th>\n",
              "      <th>pixel36</th>\n",
              "      <th>pixel37</th>\n",
              "      <th>...</th>\n",
              "      <th>pixel986</th>\n",
              "      <th>pixel987</th>\n",
              "      <th>pixel988</th>\n",
              "      <th>pixel989</th>\n",
              "      <th>pixel990</th>\n",
              "      <th>pixel991</th>\n",
              "      <th>pixel992</th>\n",
              "      <th>pixel993</th>\n",
              "      <th>pixel994</th>\n",
              "      <th>pixel995</th>\n",
              "      <th>pixel996</th>\n",
              "      <th>pixel997</th>\n",
              "      <th>pixel998</th>\n",
              "      <th>pixel999</th>\n",
              "      <th>pixel1000</th>\n",
              "      <th>pixel1001</th>\n",
              "      <th>pixel1002</th>\n",
              "      <th>pixel1003</th>\n",
              "      <th>pixel1004</th>\n",
              "      <th>pixel1005</th>\n",
              "      <th>pixel1006</th>\n",
              "      <th>pixel1007</th>\n",
              "      <th>pixel1008</th>\n",
              "      <th>pixel1009</th>\n",
              "      <th>pixel1010</th>\n",
              "      <th>pixel1011</th>\n",
              "      <th>pixel1012</th>\n",
              "      <th>pixel1013</th>\n",
              "      <th>pixel1014</th>\n",
              "      <th>pixel1015</th>\n",
              "      <th>pixel1016</th>\n",
              "      <th>pixel1017</th>\n",
              "      <th>pixel1018</th>\n",
              "      <th>pixel1019</th>\n",
              "      <th>pixel1020</th>\n",
              "      <th>pixel1021</th>\n",
              "      <th>pixel1022</th>\n",
              "      <th>pixel1023</th>\n",
              "      <th>pixel1024</th>\n",
              "      <th>Unnamed: 1027</th>\n",
              "    </tr>\n",
              "  </thead>\n",
              "  <tbody>\n",
              "    <tr>\n",
              "      <th>0</th>\n",
              "      <td>x86__64__lsb__unix-system-v__clang-3.8.0__O0__...</td>\n",
              "      <td>malware</td>\n",
              "      <td>1</td>\n",
              "      <td>85</td>\n",
              "      <td>17</td>\n",
              "      <td>34</td>\n",
              "      <td>34</td>\n",
              "      <td>0</td>\n",
              "      <td>17</td>\n",
              "      <td>17</td>\n",
              "      <td>0</td>\n",
              "      <td>0</td>\n",
              "      <td>0</td>\n",
              "      <td>0</td>\n",
              "      <td>0</td>\n",
              "      <td>0</td>\n",
              "      <td>0</td>\n",
              "      <td>0</td>\n",
              "      <td>0</td>\n",
              "      <td>0</td>\n",
              "      <td>0</td>\n",
              "      <td>0</td>\n",
              "      <td>0</td>\n",
              "      <td>17</td>\n",
              "      <td>0</td>\n",
              "      <td>0</td>\n",
              "      <td>0</td>\n",
              "      <td>238</td>\n",
              "      <td>51</td>\n",
              "      <td>0</td>\n",
              "      <td>0</td>\n",
              "      <td>0</td>\n",
              "      <td>0</td>\n",
              "      <td>0</td>\n",
              "      <td>0</td>\n",
              "      <td>0</td>\n",
              "      <td>0</td>\n",
              "      <td>0</td>\n",
              "      <td>0</td>\n",
              "      <td>0</td>\n",
              "      <td>...</td>\n",
              "      <td>0</td>\n",
              "      <td>0</td>\n",
              "      <td>0</td>\n",
              "      <td>34</td>\n",
              "      <td>0</td>\n",
              "      <td>0</td>\n",
              "      <td>0</td>\n",
              "      <td>0</td>\n",
              "      <td>0</td>\n",
              "      <td>0</td>\n",
              "      <td>0</td>\n",
              "      <td>0</td>\n",
              "      <td>0</td>\n",
              "      <td>0</td>\n",
              "      <td>0</td>\n",
              "      <td>0</td>\n",
              "      <td>0</td>\n",
              "      <td>0</td>\n",
              "      <td>0</td>\n",
              "      <td>0</td>\n",
              "      <td>0</td>\n",
              "      <td>0</td>\n",
              "      <td>0</td>\n",
              "      <td>255</td>\n",
              "      <td>0</td>\n",
              "      <td>0</td>\n",
              "      <td>0</td>\n",
              "      <td>34</td>\n",
              "      <td>0</td>\n",
              "      <td>0</td>\n",
              "      <td>0</td>\n",
              "      <td>0</td>\n",
              "      <td>0</td>\n",
              "      <td>0</td>\n",
              "      <td>0</td>\n",
              "      <td>0</td>\n",
              "      <td>0</td>\n",
              "      <td>0</td>\n",
              "      <td>0</td>\n",
              "      <td>NaN</td>\n",
              "    </tr>\n",
              "    <tr>\n",
              "      <th>1</th>\n",
              "      <td>x86__64__lsb__unix-system-v__clang-3.8.0__O0__...</td>\n",
              "      <td>malware</td>\n",
              "      <td>1</td>\n",
              "      <td>85</td>\n",
              "      <td>17</td>\n",
              "      <td>34</td>\n",
              "      <td>34</td>\n",
              "      <td>0</td>\n",
              "      <td>17</td>\n",
              "      <td>17</td>\n",
              "      <td>0</td>\n",
              "      <td>0</td>\n",
              "      <td>0</td>\n",
              "      <td>0</td>\n",
              "      <td>0</td>\n",
              "      <td>0</td>\n",
              "      <td>0</td>\n",
              "      <td>0</td>\n",
              "      <td>0</td>\n",
              "      <td>0</td>\n",
              "      <td>0</td>\n",
              "      <td>0</td>\n",
              "      <td>0</td>\n",
              "      <td>17</td>\n",
              "      <td>0</td>\n",
              "      <td>0</td>\n",
              "      <td>0</td>\n",
              "      <td>102</td>\n",
              "      <td>34</td>\n",
              "      <td>0</td>\n",
              "      <td>0</td>\n",
              "      <td>0</td>\n",
              "      <td>0</td>\n",
              "      <td>0</td>\n",
              "      <td>0</td>\n",
              "      <td>0</td>\n",
              "      <td>0</td>\n",
              "      <td>0</td>\n",
              "      <td>0</td>\n",
              "      <td>0</td>\n",
              "      <td>...</td>\n",
              "      <td>0</td>\n",
              "      <td>0</td>\n",
              "      <td>0</td>\n",
              "      <td>0</td>\n",
              "      <td>0</td>\n",
              "      <td>0</td>\n",
              "      <td>0</td>\n",
              "      <td>68</td>\n",
              "      <td>0</td>\n",
              "      <td>0</td>\n",
              "      <td>0</td>\n",
              "      <td>34</td>\n",
              "      <td>0</td>\n",
              "      <td>0</td>\n",
              "      <td>0</td>\n",
              "      <td>0</td>\n",
              "      <td>0</td>\n",
              "      <td>0</td>\n",
              "      <td>0</td>\n",
              "      <td>0</td>\n",
              "      <td>0</td>\n",
              "      <td>0</td>\n",
              "      <td>0</td>\n",
              "      <td>0</td>\n",
              "      <td>0</td>\n",
              "      <td>0</td>\n",
              "      <td>0</td>\n",
              "      <td>0</td>\n",
              "      <td>0</td>\n",
              "      <td>0</td>\n",
              "      <td>0</td>\n",
              "      <td>51</td>\n",
              "      <td>0</td>\n",
              "      <td>0</td>\n",
              "      <td>0</td>\n",
              "      <td>34</td>\n",
              "      <td>0</td>\n",
              "      <td>0</td>\n",
              "      <td>0</td>\n",
              "      <td>NaN</td>\n",
              "    </tr>\n",
              "    <tr>\n",
              "      <th>2</th>\n",
              "      <td>x86__64__lsb__unix-system-v__clang-3.8.0__O0__...</td>\n",
              "      <td>malware</td>\n",
              "      <td>1</td>\n",
              "      <td>85</td>\n",
              "      <td>17</td>\n",
              "      <td>34</td>\n",
              "      <td>34</td>\n",
              "      <td>0</td>\n",
              "      <td>17</td>\n",
              "      <td>17</td>\n",
              "      <td>0</td>\n",
              "      <td>0</td>\n",
              "      <td>0</td>\n",
              "      <td>0</td>\n",
              "      <td>0</td>\n",
              "      <td>0</td>\n",
              "      <td>0</td>\n",
              "      <td>0</td>\n",
              "      <td>0</td>\n",
              "      <td>0</td>\n",
              "      <td>0</td>\n",
              "      <td>0</td>\n",
              "      <td>0</td>\n",
              "      <td>17</td>\n",
              "      <td>0</td>\n",
              "      <td>0</td>\n",
              "      <td>0</td>\n",
              "      <td>238</td>\n",
              "      <td>51</td>\n",
              "      <td>0</td>\n",
              "      <td>0</td>\n",
              "      <td>0</td>\n",
              "      <td>0</td>\n",
              "      <td>0</td>\n",
              "      <td>0</td>\n",
              "      <td>0</td>\n",
              "      <td>0</td>\n",
              "      <td>0</td>\n",
              "      <td>0</td>\n",
              "      <td>0</td>\n",
              "      <td>...</td>\n",
              "      <td>0</td>\n",
              "      <td>0</td>\n",
              "      <td>0</td>\n",
              "      <td>34</td>\n",
              "      <td>0</td>\n",
              "      <td>0</td>\n",
              "      <td>0</td>\n",
              "      <td>0</td>\n",
              "      <td>0</td>\n",
              "      <td>0</td>\n",
              "      <td>0</td>\n",
              "      <td>0</td>\n",
              "      <td>0</td>\n",
              "      <td>0</td>\n",
              "      <td>0</td>\n",
              "      <td>0</td>\n",
              "      <td>0</td>\n",
              "      <td>0</td>\n",
              "      <td>0</td>\n",
              "      <td>0</td>\n",
              "      <td>0</td>\n",
              "      <td>0</td>\n",
              "      <td>0</td>\n",
              "      <td>255</td>\n",
              "      <td>0</td>\n",
              "      <td>0</td>\n",
              "      <td>0</td>\n",
              "      <td>34</td>\n",
              "      <td>0</td>\n",
              "      <td>0</td>\n",
              "      <td>0</td>\n",
              "      <td>0</td>\n",
              "      <td>0</td>\n",
              "      <td>0</td>\n",
              "      <td>0</td>\n",
              "      <td>0</td>\n",
              "      <td>0</td>\n",
              "      <td>0</td>\n",
              "      <td>0</td>\n",
              "      <td>NaN</td>\n",
              "    </tr>\n",
              "  </tbody>\n",
              "</table>\n",
              "<p>3 rows × 1028 columns</p>\n",
              "</div>\n",
              "      <button class=\"colab-df-convert\" onclick=\"convertToInteractive('df-a73b9e8c-8006-4423-bd75-83c9eba8a8d2')\"\n",
              "              title=\"Convert this dataframe to an interactive table.\"\n",
              "              style=\"display:none;\">\n",
              "        \n",
              "  <svg xmlns=\"http://www.w3.org/2000/svg\" height=\"24px\"viewBox=\"0 0 24 24\"\n",
              "       width=\"24px\">\n",
              "    <path d=\"M0 0h24v24H0V0z\" fill=\"none\"/>\n",
              "    <path d=\"M18.56 5.44l.94 2.06.94-2.06 2.06-.94-2.06-.94-.94-2.06-.94 2.06-2.06.94zm-11 1L8.5 8.5l.94-2.06 2.06-.94-2.06-.94L8.5 2.5l-.94 2.06-2.06.94zm10 10l.94 2.06.94-2.06 2.06-.94-2.06-.94-.94-2.06-.94 2.06-2.06.94z\"/><path d=\"M17.41 7.96l-1.37-1.37c-.4-.4-.92-.59-1.43-.59-.52 0-1.04.2-1.43.59L10.3 9.45l-7.72 7.72c-.78.78-.78 2.05 0 2.83L4 21.41c.39.39.9.59 1.41.59.51 0 1.02-.2 1.41-.59l7.78-7.78 2.81-2.81c.8-.78.8-2.07 0-2.86zM5.41 20L4 18.59l7.72-7.72 1.47 1.35L5.41 20z\"/>\n",
              "  </svg>\n",
              "      </button>\n",
              "      \n",
              "  <style>\n",
              "    .colab-df-container {\n",
              "      display:flex;\n",
              "      flex-wrap:wrap;\n",
              "      gap: 12px;\n",
              "    }\n",
              "\n",
              "    .colab-df-convert {\n",
              "      background-color: #E8F0FE;\n",
              "      border: none;\n",
              "      border-radius: 50%;\n",
              "      cursor: pointer;\n",
              "      display: none;\n",
              "      fill: #1967D2;\n",
              "      height: 32px;\n",
              "      padding: 0 0 0 0;\n",
              "      width: 32px;\n",
              "    }\n",
              "\n",
              "    .colab-df-convert:hover {\n",
              "      background-color: #E2EBFA;\n",
              "      box-shadow: 0px 1px 2px rgba(60, 64, 67, 0.3), 0px 1px 3px 1px rgba(60, 64, 67, 0.15);\n",
              "      fill: #174EA6;\n",
              "    }\n",
              "\n",
              "    [theme=dark] .colab-df-convert {\n",
              "      background-color: #3B4455;\n",
              "      fill: #D2E3FC;\n",
              "    }\n",
              "\n",
              "    [theme=dark] .colab-df-convert:hover {\n",
              "      background-color: #434B5C;\n",
              "      box-shadow: 0px 1px 3px 1px rgba(0, 0, 0, 0.15);\n",
              "      filter: drop-shadow(0px 1px 2px rgba(0, 0, 0, 0.3));\n",
              "      fill: #FFFFFF;\n",
              "    }\n",
              "  </style>\n",
              "\n",
              "      <script>\n",
              "        const buttonEl =\n",
              "          document.querySelector('#df-a73b9e8c-8006-4423-bd75-83c9eba8a8d2 button.colab-df-convert');\n",
              "        buttonEl.style.display =\n",
              "          google.colab.kernel.accessAllowed ? 'block' : 'none';\n",
              "\n",
              "        async function convertToInteractive(key) {\n",
              "          const element = document.querySelector('#df-a73b9e8c-8006-4423-bd75-83c9eba8a8d2');\n",
              "          const dataTable =\n",
              "            await google.colab.kernel.invokeFunction('convertToInteractive',\n",
              "                                                     [key], {});\n",
              "          if (!dataTable) return;\n",
              "\n",
              "          const docLinkHtml = 'Like what you see? Visit the ' +\n",
              "            '<a target=\"_blank\" href=https://colab.research.google.com/notebooks/data_table.ipynb>data table notebook</a>'\n",
              "            + ' to learn more about interactive tables.';\n",
              "          element.innerHTML = '';\n",
              "          dataTable['output_type'] = 'display_data';\n",
              "          await google.colab.output.renderOutput(dataTable, element);\n",
              "          const docLink = document.createElement('div');\n",
              "          docLink.innerHTML = docLinkHtml;\n",
              "          element.appendChild(docLink);\n",
              "        }\n",
              "      </script>\n",
              "    </div>\n",
              "  </div>\n",
              "  "
            ],
            "text/plain": [
              "                                            filename  ... Unnamed: 1027\n",
              "0  x86__64__lsb__unix-system-v__clang-3.8.0__O0__...  ...           NaN\n",
              "1  x86__64__lsb__unix-system-v__clang-3.8.0__O0__...  ...           NaN\n",
              "2  x86__64__lsb__unix-system-v__clang-3.8.0__O0__...  ...           NaN\n",
              "\n",
              "[3 rows x 1028 columns]"
            ]
          },
          "metadata": {},
          "execution_count": 3
        }
      ]
    },
    {
      "cell_type": "code",
      "source": [
        "ax = sns.countplot(x='class', data=df, palette=\"Set3\")\n",
        "df['class'].value_counts()"
      ],
      "metadata": {
        "colab": {
          "base_uri": "https://localhost:8080/",
          "height": 349
        },
        "id": "Dhq2rNB5-z8E",
        "outputId": "3fcfc273-6428-4b04-e2d0-5a4c4d7b8aad"
      },
      "execution_count": null,
      "outputs": [
        {
          "output_type": "execute_result",
          "data": {
            "text/plain": [
              "benignware    38073\n",
              "malware         711\n",
              "hackware        103\n",
              "Name: class, dtype: int64"
            ]
          },
          "metadata": {},
          "execution_count": 5
        },
        {
          "output_type": "display_data",
          "data": {
            "image/png": "[encoded data removed]",
            "text/plain": [
              "<Figure size 432x288 with 1 Axes>"
            ]
          },
          "metadata": {
            "needs_background": "light"
          }
        }
      ]
    },
    {
      "cell_type": "markdown",
      "source": [
        "All the images from folders *benignware*, *malware* and *hackware* have been put into **images** folder in the drive"
      ],
      "metadata": {
        "id": "x583fmL6F9c1"
      }
    },
    {
      "cell_type": "code",
      "source": [
        "'''SKIP THIS CELL IF THE CSV FILE HAS ALREADY BEEN CREATED'''\n",
        "# only taking the file names and their classes- whose images are available\n",
        "X = []\n",
        "y = []\n",
        "positions = []\n",
        "\n",
        "df_new = pd.DataFrame(columns=['filename', 'class'])\n",
        "\n",
        "pos = -1\n",
        "for image_name in df['filename']:\n",
        "  pos += 1\n",
        "  try: \n",
        "    img = imread('drive/MyDrive/cnn_dataset/images/'+image_name+'.jpg')\n",
        "    X.append(image_name+'.jpg')\n",
        "    positions.append(pos)\n",
        "    \n",
        "  except FileNotFoundError as not_found:\n",
        "    continue\n",
        "\n",
        "for i in positions:\n",
        "  y.append(df['class'][i])"
      ],
      "metadata": {
        "id": "smqSMa0--2ea"
      },
      "execution_count": null,
      "outputs": []
    },
    {
      "cell_type": "code",
      "source": [
        "'''SKIP THIS CELL IF THE CSV FILE HAS ALREADY BEEN CREATED'''\n",
        "# adding gray image filenames and class in our lists\n",
        "import os\n",
        "\n",
        "for filename in os.listdir('drive/MyDrive/cnn_dataset/gray'):\n",
        "    if filename.endswith(\"jpg\"):  \n",
        "        X.append(filename)\n",
        "        y.append('gray')"
      ],
      "metadata": {
        "id": "DrBWY7mz-7km"
      },
      "execution_count": null,
      "outputs": []
    },
    {
      "cell_type": "markdown",
      "source": [
        "All the *gray* images have been merged with the rest of the images and these are saved in a new folder named **images_all**"
      ],
      "metadata": {
        "id": "HcbYVsJNHJx_"
      }
    },
    {
      "cell_type": "code",
      "source": [
        "'''SKIP THIS CELL IF THE CSV FILE HAS ALREADY BEEN CREATED'''\n",
        "# creating a new dataframe with x and y\n",
        "df_new = pd.DataFrame(\n",
        "    {'file_name': X,\n",
        "     'class_name': y })"
      ],
      "metadata": {
        "id": "O_JtVGMZ-9Z2"
      },
      "execution_count": null,
      "outputs": []
    },
    {
      "cell_type": "code",
      "source": [
        "'''SKIP THIS CELL IF THE CSV FILE HAS ALREADY BEEN CREATED'''\n",
        "df_new['class_name'].value_counts()"
      ],
      "metadata": {
        "colab": {
          "base_uri": "https://localhost:8080/"
        },
        "id": "FwTDPu4P-_GY",
        "outputId": "b0ba5145-e046-4466-8313-2d4d3004339a"
      },
      "execution_count": null,
      "outputs": [
        {
          "output_type": "execute_result",
          "data": {
            "text/plain": [
              "benignware    2999\n",
              "malware        711\n",
              "gray           669\n",
              "hackware       103\n",
              "Name: class_name, dtype: int64"
            ]
          },
          "metadata": {},
          "execution_count": 9
        }
      ]
    },
    {
      "cell_type": "code",
      "source": [
        "'''SKIP THIS CELL IF THE CSV FILE HAS ALREADY BEEN CREATED'''\n",
        "# replacing the labels with numerical values\n",
        "df_new = df_new.replace('benignware', 0)\n",
        "df_new = df_new.replace('malware', 1)\n",
        "df_new = df_new.replace('hackware', 2)\n",
        "df_new = df_new.replace('gray', 3)\n",
        "df_new"
      ],
      "metadata": {
        "colab": {
          "base_uri": "https://localhost:8080/",
          "height": 423
        },
        "id": "dPxlbwo0-_rO",
        "outputId": "99d4b781-5ad1-4138-f891-f82a808a16bd"
      },
      "execution_count": null,
      "outputs": [
        {
          "output_type": "execute_result",
          "data": {
            "text/html": [
              "\n",
              "  <div id=\"df-979736f6-db88-4470-8f85-026db079f5df\">\n",
              "    <div class=\"colab-df-container\">\n",
              "      <div>\n",
              "<style scoped>\n",
              "    .dataframe tbody tr th:only-of-type {\n",
              "        vertical-align: middle;\n",
              "    }\n",
              "\n",
              "    .dataframe tbody tr th {\n",
              "        vertical-align: top;\n",
              "    }\n",
              "\n",
              "    .dataframe thead th {\n",
              "        text-align: right;\n",
              "    }\n",
              "</style>\n",
              "<table border=\"1\" class=\"dataframe\">\n",
              "  <thead>\n",
              "    <tr style=\"text-align: right;\">\n",
              "      <th></th>\n",
              "      <th>file_name</th>\n",
              "      <th>class_name</th>\n",
              "    </tr>\n",
              "  </thead>\n",
              "  <tbody>\n",
              "    <tr>\n",
              "      <th>0</th>\n",
              "      <td>x86__64__lsb__unix-system-v__clang-3.8.0__O0__...</td>\n",
              "      <td>1</td>\n",
              "    </tr>\n",
              "    <tr>\n",
              "      <th>1</th>\n",
              "      <td>x86__64__lsb__unix-system-v__clang-3.8.0__O0__...</td>\n",
              "      <td>1</td>\n",
              "    </tr>\n",
              "    <tr>\n",
              "      <th>2</th>\n",
              "      <td>x86__64__lsb__unix-system-v__clang-3.8.0__O0__...</td>\n",
              "      <td>1</td>\n",
              "    </tr>\n",
              "    <tr>\n",
              "      <th>3</th>\n",
              "      <td>x86__64__lsb__unix-system-v__clang-3.8.0__O0__...</td>\n",
              "      <td>1</td>\n",
              "    </tr>\n",
              "    <tr>\n",
              "      <th>4</th>\n",
              "      <td>x86__64__lsb__unix-system-v__clang-3.8.0__O0__...</td>\n",
              "      <td>1</td>\n",
              "    </tr>\n",
              "    <tr>\n",
              "      <th>...</th>\n",
              "      <td>...</td>\n",
              "      <td>...</td>\n",
              "    </tr>\n",
              "    <tr>\n",
              "      <th>4477</th>\n",
              "      <td>lightslategrey.jpg</td>\n",
              "      <td>3</td>\n",
              "    </tr>\n",
              "    <tr>\n",
              "      <th>4478</th>\n",
              "      <td>mediumorchid.jpg</td>\n",
              "      <td>3</td>\n",
              "    </tr>\n",
              "    <tr>\n",
              "      <th>4479</th>\n",
              "      <td>burlywood3.jpg</td>\n",
              "      <td>3</td>\n",
              "    </tr>\n",
              "    <tr>\n",
              "      <th>4480</th>\n",
              "      <td>paleturquoise1.jpg</td>\n",
              "      <td>3</td>\n",
              "    </tr>\n",
              "    <tr>\n",
              "      <th>4481</th>\n",
              "      <td>grey54.jpg</td>\n",
              "      <td>3</td>\n",
              "    </tr>\n",
              "  </tbody>\n",
              "</table>\n",
              "<p>4482 rows × 2 columns</p>\n",
              "</div>\n",
              "      <button class=\"colab-df-convert\" onclick=\"convertToInteractive('df-979736f6-db88-4470-8f85-026db079f5df')\"\n",
              "              title=\"Convert this dataframe to an interactive table.\"\n",
              "              style=\"display:none;\">\n",
              "        \n",
              "  <svg xmlns=\"http://www.w3.org/2000/svg\" height=\"24px\"viewBox=\"0 0 24 24\"\n",
              "       width=\"24px\">\n",
              "    <path d=\"M0 0h24v24H0V0z\" fill=\"none\"/>\n",
              "    <path d=\"M18.56 5.44l.94 2.06.94-2.06 2.06-.94-2.06-.94-.94-2.06-.94 2.06-2.06.94zm-11 1L8.5 8.5l.94-2.06 2.06-.94-2.06-.94L8.5 2.5l-.94 2.06-2.06.94zm10 10l.94 2.06.94-2.06 2.06-.94-2.06-.94-.94-2.06-.94 2.06-2.06.94z\"/><path d=\"M17.41 7.96l-1.37-1.37c-.4-.4-.92-.59-1.43-.59-.52 0-1.04.2-1.43.59L10.3 9.45l-7.72 7.72c-.78.78-.78 2.05 0 2.83L4 21.41c.39.39.9.59 1.41.59.51 0 1.02-.2 1.41-.59l7.78-7.78 2.81-2.81c.8-.78.8-2.07 0-2.86zM5.41 20L4 18.59l7.72-7.72 1.47 1.35L5.41 20z\"/>\n",
              "  </svg>\n",
              "      </button>\n",
              "      \n",
              "  <style>\n",
              "    .colab-df-container {\n",
              "      display:flex;\n",
              "      flex-wrap:wrap;\n",
              "      gap: 12px;\n",
              "    }\n",
              "\n",
              "    .colab-df-convert {\n",
              "      background-color: #E8F0FE;\n",
              "      border: none;\n",
              "      border-radius: 50%;\n",
              "      cursor: pointer;\n",
              "      display: none;\n",
              "      fill: #1967D2;\n",
              "      height: 32px;\n",
              "      padding: 0 0 0 0;\n",
              "      width: 32px;\n",
              "    }\n",
              "\n",
              "    .colab-df-convert:hover {\n",
              "      background-color: #E2EBFA;\n",
              "      box-shadow: 0px 1px 2px rgba(60, 64, 67, 0.3), 0px 1px 3px 1px rgba(60, 64, 67, 0.15);\n",
              "      fill: #174EA6;\n",
              "    }\n",
              "\n",
              "    [theme=dark] .colab-df-convert {\n",
              "      background-color: #3B4455;\n",
              "      fill: #D2E3FC;\n",
              "    }\n",
              "\n",
              "    [theme=dark] .colab-df-convert:hover {\n",
              "      background-color: #434B5C;\n",
              "      box-shadow: 0px 1px 3px 1px rgba(0, 0, 0, 0.15);\n",
              "      filter: drop-shadow(0px 1px 2px rgba(0, 0, 0, 0.3));\n",
              "      fill: #FFFFFF;\n",
              "    }\n",
              "  </style>\n",
              "\n",
              "      <script>\n",
              "        const buttonEl =\n",
              "          document.querySelector('#df-979736f6-db88-4470-8f85-026db079f5df button.colab-df-convert');\n",
              "        buttonEl.style.display =\n",
              "          google.colab.kernel.accessAllowed ? 'block' : 'none';\n",
              "\n",
              "        async function convertToInteractive(key) {\n",
              "          const element = document.querySelector('#df-979736f6-db88-4470-8f85-026db079f5df');\n",
              "          const dataTable =\n",
              "            await google.colab.kernel.invokeFunction('convertToInteractive',\n",
              "                                                     [key], {});\n",
              "          if (!dataTable) return;\n",
              "\n",
              "          const docLinkHtml = 'Like what you see? Visit the ' +\n",
              "            '<a target=\"_blank\" href=https://colab.research.google.com/notebooks/data_table.ipynb>data table notebook</a>'\n",
              "            + ' to learn more about interactive tables.';\n",
              "          element.innerHTML = '';\n",
              "          dataTable['output_type'] = 'display_data';\n",
              "          await google.colab.output.renderOutput(dataTable, element);\n",
              "          const docLink = document.createElement('div');\n",
              "          docLink.innerHTML = docLinkHtml;\n",
              "          element.appendChild(docLink);\n",
              "        }\n",
              "      </script>\n",
              "    </div>\n",
              "  </div>\n",
              "  "
            ],
            "text/plain": [
              "                                              file_name  class_name\n",
              "0     x86__64__lsb__unix-system-v__clang-3.8.0__O0__...           1\n",
              "1     x86__64__lsb__unix-system-v__clang-3.8.0__O0__...           1\n",
              "2     x86__64__lsb__unix-system-v__clang-3.8.0__O0__...           1\n",
              "3     x86__64__lsb__unix-system-v__clang-3.8.0__O0__...           1\n",
              "4     x86__64__lsb__unix-system-v__clang-3.8.0__O0__...           1\n",
              "...                                                 ...         ...\n",
              "4477                                 lightslategrey.jpg           3\n",
              "4478                                   mediumorchid.jpg           3\n",
              "4479                                     burlywood3.jpg           3\n",
              "4480                                 paleturquoise1.jpg           3\n",
              "4481                                         grey54.jpg           3\n",
              "\n",
              "[4482 rows x 2 columns]"
            ]
          },
          "metadata": {},
          "execution_count": 10
        }
      ]
    },
    {
      "cell_type": "code",
      "source": [
        "'''SKIP THIS CELL IF THE CSV FILE HAS ALREADY BEEN CREATED'''\n",
        "# creating the new csv file\n",
        "df_new.to_csv('modified_dataset.csv')\n",
        "!cp modified_dataset.csv \"drive/My Drive/cnn_dataset\""
      ],
      "metadata": {
        "id": "PwWK_7m4_CrO"
      },
      "execution_count": null,
      "outputs": []
    },
    {
      "cell_type": "code",
      "source": [
        "# placing the manual_seed value as my student id\n",
        "torch.manual_seed(170204059)\n",
        "np.random.seed(170204059)"
      ],
      "metadata": {
        "id": "deMee0vt_Efu"
      },
      "execution_count": null,
      "outputs": []
    },
    {
      "cell_type": "code",
      "source": [
        "df_new = pd.read_csv('drive/My Drive/cnn_dataset/modified_dataset.csv')\n",
        "df_new.head(3)"
      ],
      "metadata": {
        "colab": {
          "base_uri": "https://localhost:8080/",
          "height": 143
        },
        "id": "3pJeSaTC_GUe",
        "outputId": "c90f148c-1848-4564-ec89-5c47f3fa4cb9"
      },
      "execution_count": null,
      "outputs": [
        {
          "output_type": "execute_result",
          "data": {
            "text/html": [
              "\n",
              "  <div id=\"df-8e272005-30a3-4d0a-9cd8-6453cd81e2c3\">\n",
              "    <div class=\"colab-df-container\">\n",
              "      <div>\n",
              "<style scoped>\n",
              "    .dataframe tbody tr th:only-of-type {\n",
              "        vertical-align: middle;\n",
              "    }\n",
              "\n",
              "    .dataframe tbody tr th {\n",
              "        vertical-align: top;\n",
              "    }\n",
              "\n",
              "    .dataframe thead th {\n",
              "        text-align: right;\n",
              "    }\n",
              "</style>\n",
              "<table border=\"1\" class=\"dataframe\">\n",
              "  <thead>\n",
              "    <tr style=\"text-align: right;\">\n",
              "      <th></th>\n",
              "      <th>Unnamed: 0</th>\n",
              "      <th>file_name</th>\n",
              "      <th>class_name</th>\n",
              "    </tr>\n",
              "  </thead>\n",
              "  <tbody>\n",
              "    <tr>\n",
              "      <th>0</th>\n",
              "      <td>0</td>\n",
              "      <td>x86__64__lsb__unix-system-v__clang-3.8.0__O0__...</td>\n",
              "      <td>1</td>\n",
              "    </tr>\n",
              "    <tr>\n",
              "      <th>1</th>\n",
              "      <td>1</td>\n",
              "      <td>x86__64__lsb__unix-system-v__clang-3.8.0__O0__...</td>\n",
              "      <td>1</td>\n",
              "    </tr>\n",
              "    <tr>\n",
              "      <th>2</th>\n",
              "      <td>2</td>\n",
              "      <td>x86__64__lsb__unix-system-v__clang-3.8.0__O0__...</td>\n",
              "      <td>1</td>\n",
              "    </tr>\n",
              "  </tbody>\n",
              "</table>\n",
              "</div>\n",
              "      <button class=\"colab-df-convert\" onclick=\"convertToInteractive('df-8e272005-30a3-4d0a-9cd8-6453cd81e2c3')\"\n",
              "              title=\"Convert this dataframe to an interactive table.\"\n",
              "              style=\"display:none;\">\n",
              "        \n",
              "  <svg xmlns=\"http://www.w3.org/2000/svg\" height=\"24px\"viewBox=\"0 0 24 24\"\n",
              "       width=\"24px\">\n",
              "    <path d=\"M0 0h24v24H0V0z\" fill=\"none\"/>\n",
              "    <path d=\"M18.56 5.44l.94 2.06.94-2.06 2.06-.94-2.06-.94-.94-2.06-.94 2.06-2.06.94zm-11 1L8.5 8.5l.94-2.06 2.06-.94-2.06-.94L8.5 2.5l-.94 2.06-2.06.94zm10 10l.94 2.06.94-2.06 2.06-.94-2.06-.94-.94-2.06-.94 2.06-2.06.94z\"/><path d=\"M17.41 7.96l-1.37-1.37c-.4-.4-.92-.59-1.43-.59-.52 0-1.04.2-1.43.59L10.3 9.45l-7.72 7.72c-.78.78-.78 2.05 0 2.83L4 21.41c.39.39.9.59 1.41.59.51 0 1.02-.2 1.41-.59l7.78-7.78 2.81-2.81c.8-.78.8-2.07 0-2.86zM5.41 20L4 18.59l7.72-7.72 1.47 1.35L5.41 20z\"/>\n",
              "  </svg>\n",
              "      </button>\n",
              "      \n",
              "  <style>\n",
              "    .colab-df-container {\n",
              "      display:flex;\n",
              "      flex-wrap:wrap;\n",
              "      gap: 12px;\n",
              "    }\n",
              "\n",
              "    .colab-df-convert {\n",
              "      background-color: #E8F0FE;\n",
              "      border: none;\n",
              "      border-radius: 50%;\n",
              "      cursor: pointer;\n",
              "      display: none;\n",
              "      fill: #1967D2;\n",
              "      height: 32px;\n",
              "      padding: 0 0 0 0;\n",
              "      width: 32px;\n",
              "    }\n",
              "\n",
              "    .colab-df-convert:hover {\n",
              "      background-color: #E2EBFA;\n",
              "      box-shadow: 0px 1px 2px rgba(60, 64, 67, 0.3), 0px 1px 3px 1px rgba(60, 64, 67, 0.15);\n",
              "      fill: #174EA6;\n",
              "    }\n",
              "\n",
              "    [theme=dark] .colab-df-convert {\n",
              "      background-color: #3B4455;\n",
              "      fill: #D2E3FC;\n",
              "    }\n",
              "\n",
              "    [theme=dark] .colab-df-convert:hover {\n",
              "      background-color: #434B5C;\n",
              "      box-shadow: 0px 1px 3px 1px rgba(0, 0, 0, 0.15);\n",
              "      filter: drop-shadow(0px 1px 2px rgba(0, 0, 0, 0.3));\n",
              "      fill: #FFFFFF;\n",
              "    }\n",
              "  </style>\n",
              "\n",
              "      <script>\n",
              "        const buttonEl =\n",
              "          document.querySelector('#df-8e272005-30a3-4d0a-9cd8-6453cd81e2c3 button.colab-df-convert');\n",
              "        buttonEl.style.display =\n",
              "          google.colab.kernel.accessAllowed ? 'block' : 'none';\n",
              "\n",
              "        async function convertToInteractive(key) {\n",
              "          const element = document.querySelector('#df-8e272005-30a3-4d0a-9cd8-6453cd81e2c3');\n",
              "          const dataTable =\n",
              "            await google.colab.kernel.invokeFunction('convertToInteractive',\n",
              "                                                     [key], {});\n",
              "          if (!dataTable) return;\n",
              "\n",
              "          const docLinkHtml = 'Like what you see? Visit the ' +\n",
              "            '<a target=\"_blank\" href=https://colab.research.google.com/notebooks/data_table.ipynb>data table notebook</a>'\n",
              "            + ' to learn more about interactive tables.';\n",
              "          element.innerHTML = '';\n",
              "          dataTable['output_type'] = 'display_data';\n",
              "          await google.colab.output.renderOutput(dataTable, element);\n",
              "          const docLink = document.createElement('div');\n",
              "          docLink.innerHTML = docLinkHtml;\n",
              "          element.appendChild(docLink);\n",
              "        }\n",
              "      </script>\n",
              "    </div>\n",
              "  </div>\n",
              "  "
            ],
            "text/plain": [
              "   Unnamed: 0                                          file_name  class_name\n",
              "0           0  x86__64__lsb__unix-system-v__clang-3.8.0__O0__...           1\n",
              "1           1  x86__64__lsb__unix-system-v__clang-3.8.0__O0__...           1\n",
              "2           2  x86__64__lsb__unix-system-v__clang-3.8.0__O0__...           1"
            ]
          },
          "metadata": {},
          "execution_count": 7
        }
      ]
    },
    {
      "cell_type": "code",
      "source": [
        "# removing 'Unnamed: 0' column from our dataframe\n",
        "df_new = df_new.iloc[:, 1:]\n",
        "df_new.head(3)"
      ],
      "metadata": {
        "colab": {
          "base_uri": "https://localhost:8080/",
          "height": 143
        },
        "id": "4slvgqRQ_H6_",
        "outputId": "f66d6170-b3f6-457b-d250-e8ce7b8963be"
      },
      "execution_count": null,
      "outputs": [
        {
          "output_type": "execute_result",
          "data": {
            "text/html": [
              "\n",
              "  <div id=\"df-6b1c266c-55c3-44b5-9ee7-ea6942a95dc7\">\n",
              "    <div class=\"colab-df-container\">\n",
              "      <div>\n",
              "<style scoped>\n",
              "    .dataframe tbody tr th:only-of-type {\n",
              "        vertical-align: middle;\n",
              "    }\n",
              "\n",
              "    .dataframe tbody tr th {\n",
              "        vertical-align: top;\n",
              "    }\n",
              "\n",
              "    .dataframe thead th {\n",
              "        text-align: right;\n",
              "    }\n",
              "</style>\n",
              "<table border=\"1\" class=\"dataframe\">\n",
              "  <thead>\n",
              "    <tr style=\"text-align: right;\">\n",
              "      <th></th>\n",
              "      <th>file_name</th>\n",
              "      <th>class_name</th>\n",
              "    </tr>\n",
              "  </thead>\n",
              "  <tbody>\n",
              "    <tr>\n",
              "      <th>0</th>\n",
              "      <td>x86__64__lsb__unix-system-v__clang-3.8.0__O0__...</td>\n",
              "      <td>1</td>\n",
              "    </tr>\n",
              "    <tr>\n",
              "      <th>1</th>\n",
              "      <td>x86__64__lsb__unix-system-v__clang-3.8.0__O0__...</td>\n",
              "      <td>1</td>\n",
              "    </tr>\n",
              "    <tr>\n",
              "      <th>2</th>\n",
              "      <td>x86__64__lsb__unix-system-v__clang-3.8.0__O0__...</td>\n",
              "      <td>1</td>\n",
              "    </tr>\n",
              "  </tbody>\n",
              "</table>\n",
              "</div>\n",
              "      <button class=\"colab-df-convert\" onclick=\"convertToInteractive('df-6b1c266c-55c3-44b5-9ee7-ea6942a95dc7')\"\n",
              "              title=\"Convert this dataframe to an interactive table.\"\n",
              "              style=\"display:none;\">\n",
              "        \n",
              "  <svg xmlns=\"http://www.w3.org/2000/svg\" height=\"24px\"viewBox=\"0 0 24 24\"\n",
              "       width=\"24px\">\n",
              "    <path d=\"M0 0h24v24H0V0z\" fill=\"none\"/>\n",
              "    <path d=\"M18.56 5.44l.94 2.06.94-2.06 2.06-.94-2.06-.94-.94-2.06-.94 2.06-2.06.94zm-11 1L8.5 8.5l.94-2.06 2.06-.94-2.06-.94L8.5 2.5l-.94 2.06-2.06.94zm10 10l.94 2.06.94-2.06 2.06-.94-2.06-.94-.94-2.06-.94 2.06-2.06.94z\"/><path d=\"M17.41 7.96l-1.37-1.37c-.4-.4-.92-.59-1.43-.59-.52 0-1.04.2-1.43.59L10.3 9.45l-7.72 7.72c-.78.78-.78 2.05 0 2.83L4 21.41c.39.39.9.59 1.41.59.51 0 1.02-.2 1.41-.59l7.78-7.78 2.81-2.81c.8-.78.8-2.07 0-2.86zM5.41 20L4 18.59l7.72-7.72 1.47 1.35L5.41 20z\"/>\n",
              "  </svg>\n",
              "      </button>\n",
              "      \n",
              "  <style>\n",
              "    .colab-df-container {\n",
              "      display:flex;\n",
              "      flex-wrap:wrap;\n",
              "      gap: 12px;\n",
              "    }\n",
              "\n",
              "    .colab-df-convert {\n",
              "      background-color: #E8F0FE;\n",
              "      border: none;\n",
              "      border-radius: 50%;\n",
              "      cursor: pointer;\n",
              "      display: none;\n",
              "      fill: #1967D2;\n",
              "      height: 32px;\n",
              "      padding: 0 0 0 0;\n",
              "      width: 32px;\n",
              "    }\n",
              "\n",
              "    .colab-df-convert:hover {\n",
              "      background-color: #E2EBFA;\n",
              "      box-shadow: 0px 1px 2px rgba(60, 64, 67, 0.3), 0px 1px 3px 1px rgba(60, 64, 67, 0.15);\n",
              "      fill: #174EA6;\n",
              "    }\n",
              "\n",
              "    [theme=dark] .colab-df-convert {\n",
              "      background-color: #3B4455;\n",
              "      fill: #D2E3FC;\n",
              "    }\n",
              "\n",
              "    [theme=dark] .colab-df-convert:hover {\n",
              "      background-color: #434B5C;\n",
              "      box-shadow: 0px 1px 3px 1px rgba(0, 0, 0, 0.15);\n",
              "      filter: drop-shadow(0px 1px 2px rgba(0, 0, 0, 0.3));\n",
              "      fill: #FFFFFF;\n",
              "    }\n",
              "  </style>\n",
              "\n",
              "      <script>\n",
              "        const buttonEl =\n",
              "          document.querySelector('#df-6b1c266c-55c3-44b5-9ee7-ea6942a95dc7 button.colab-df-convert');\n",
              "        buttonEl.style.display =\n",
              "          google.colab.kernel.accessAllowed ? 'block' : 'none';\n",
              "\n",
              "        async function convertToInteractive(key) {\n",
              "          const element = document.querySelector('#df-6b1c266c-55c3-44b5-9ee7-ea6942a95dc7');\n",
              "          const dataTable =\n",
              "            await google.colab.kernel.invokeFunction('convertToInteractive',\n",
              "                                                     [key], {});\n",
              "          if (!dataTable) return;\n",
              "\n",
              "          const docLinkHtml = 'Like what you see? Visit the ' +\n",
              "            '<a target=\"_blank\" href=https://colab.research.google.com/notebooks/data_table.ipynb>data table notebook</a>'\n",
              "            + ' to learn more about interactive tables.';\n",
              "          element.innerHTML = '';\n",
              "          dataTable['output_type'] = 'display_data';\n",
              "          await google.colab.output.renderOutput(dataTable, element);\n",
              "          const docLink = document.createElement('div');\n",
              "          docLink.innerHTML = docLinkHtml;\n",
              "          element.appendChild(docLink);\n",
              "        }\n",
              "      </script>\n",
              "    </div>\n",
              "  </div>\n",
              "  "
            ],
            "text/plain": [
              "                                           file_name  class_name\n",
              "0  x86__64__lsb__unix-system-v__clang-3.8.0__O0__...           1\n",
              "1  x86__64__lsb__unix-system-v__clang-3.8.0__O0__...           1\n",
              "2  x86__64__lsb__unix-system-v__clang-3.8.0__O0__...           1"
            ]
          },
          "metadata": {},
          "execution_count": 8
        }
      ]
    },
    {
      "cell_type": "code",
      "source": [
        "df_new.info()"
      ],
      "metadata": {
        "colab": {
          "base_uri": "https://localhost:8080/"
        },
        "id": "BbBCyes9_J8m",
        "outputId": "38c84391-1d82-4ef0-e1d2-fca68d37257b"
      },
      "execution_count": null,
      "outputs": [
        {
          "output_type": "stream",
          "name": "stdout",
          "text": [
            "<class 'pandas.core.frame.DataFrame'>\n",
            "RangeIndex: 4482 entries, 0 to 4481\n",
            "Data columns (total 2 columns):\n",
            " #   Column      Non-Null Count  Dtype \n",
            "---  ------      --------------  ----- \n",
            " 0   file_name   4482 non-null   object\n",
            " 1   class_name  4482 non-null   int64 \n",
            "dtypes: int64(1), object(1)\n",
            "memory usage: 70.2+ KB\n"
          ]
        }
      ]
    },
    {
      "cell_type": "code",
      "source": [
        "# creating the Dataset class\n",
        "class Dataset(Dataset):\n",
        "    def __init__(self, df, root, transform=None):\n",
        "        self.data = df\n",
        "        self.root = root\n",
        "        self.transform = transform\n",
        "        \n",
        "    def __len__(self):\n",
        "        return len(self.data)\n",
        "    \n",
        "    def __getitem__(self, index):\n",
        "        item = self.data.iloc[index]\n",
        "        \n",
        "        path = self.root + \"/\" + item[0]\n",
        "        image = Image.open(path).convert('L') # L for gray-scale\n",
        "        label = item[1]\n",
        "        \n",
        "        if self.transform is not None:\n",
        "            image = self.transform(image)\n",
        "        return image, label"
      ],
      "metadata": {
        "id": "BHCf9IrZ_L-2"
      },
      "execution_count": null,
      "outputs": []
    },
    {
      "cell_type": "code",
      "source": [
        "# setting up mean and std for 1 channel images\n",
        "mean = [0.5,]\n",
        "std =  [0.5,]\n",
        "\n",
        "transform = transforms.Compose([\n",
        "    transforms.Resize((32,32)),\n",
        "    transforms.ToTensor(),\n",
        "    transforms.Normalize(mean, std)\n",
        "])\n",
        "\n",
        "#Instantiate the Dataset Class\n",
        "dataset  = Dataset(df_new, 'drive/MyDrive/cnn_dataset/images_all.zip (Unzipped Files)/images_all', transform)\n",
        "\n",
        "print(\"Total Samples: \", len(dataset))"
      ],
      "metadata": {
        "colab": {
          "base_uri": "https://localhost:8080/"
        },
        "id": "OhC1fheE_OOm",
        "outputId": "4cb54f4c-4dc0-47f7-ddac-722cf4ccd873"
      },
      "execution_count": null,
      "outputs": [
        {
          "output_type": "stream",
          "name": "stdout",
          "text": [
            "Total Samples:  4482\n"
          ]
        }
      ]
    },
    {
      "cell_type": "code",
      "source": [
        "# batch size and test size are set per assignemnt instruction\n",
        "batch_size = 20\n",
        "test_size = 0.2\n",
        "\n",
        "# shuffling the indices of the dataset\n",
        "indices = list(range(len(dataset)))\n",
        "np.random.shuffle(indices)\n",
        "\n",
        "# setting the split position of the dataset\n",
        "split = int(np.floor(test_size * len(dataset)))\n",
        "train_index, test_index = indices[split:], indices[:split]\n",
        "\n",
        "# defining the sampler\n",
        "train_sampler = SubsetRandomSampler(train_index)\n",
        "test_sampler = SubsetRandomSampler(test_index)\n",
        "\n",
        "# preparing the loaders; the dataset is already shuffled \n",
        "train_loader = torch.utils.data.DataLoader(\n",
        "    dataset, batch_size = batch_size, sampler=train_sampler, shuffle=False)\n",
        "\n",
        "test_loader = torch.utils.data.DataLoader(\n",
        "    dataset, batch_size = batch_size, sampler=test_sampler, shuffle=False)\n",
        "\n",
        "print(f\"Total train dataloader: {len(train_loader)}\")\n",
        "print(f\"Total test dataloader: {len(test_loader)}\")"
      ],
      "metadata": {
        "colab": {
          "base_uri": "https://localhost:8080/"
        },
        "id": "uk9Wrne7_UBG",
        "outputId": "f5c10aa5-4743-4a8d-994c-a4bb7ba2caca"
      },
      "execution_count": null,
      "outputs": [
        {
          "output_type": "stream",
          "name": "stdout",
          "text": [
            "Total train dataloader: 180\n",
            "Total test dataloader: 45\n"
          ]
        }
      ]
    },
    {
      "cell_type": "code",
      "source": [
        "# the first four images of the dataset\n",
        "fig,ax = plt.subplots(nrows=1,ncols=4,figsize=(15,15))\n",
        "for i in range(0,4):\n",
        "    ax[i].imshow(dataset[i][0].numpy().reshape(32, 32), cmap='gray')\n",
        "    ax[i].axis('off')"
      ],
      "metadata": {
        "colab": {
          "base_uri": "https://localhost:8080/",
          "height": 213
        },
        "id": "qwbo3xw9_XCx",
        "outputId": "9a550b31-ad29-448a-e084-7d6d6d0b739b"
      },
      "execution_count": null,
      "outputs": [
        {
          "output_type": "display_data",
          "data": {
            "image/png": "[encoded data removed]",
            "text/plain": [
              "<Figure size 1080x1080 with 4 Axes>"
            ]
          },
          "metadata": {
            "needs_background": "light"
          }
        }
      ]
    },
    {
      "cell_type": "code",
      "source": [
        "# defining Hyperparameters\n",
        "# batch_size has been already defined\n",
        "\n",
        "num_iters = 2000\n",
        "input_dim = 32*32 \n",
        "output_dim = 4\n",
        "learning_rate = 0.001\n",
        "\n",
        "# Device\n",
        "device = torch.device(\"cuda\" if torch.cuda.is_available() else \"cpu\")\n",
        "print(device)"
      ],
      "metadata": {
        "colab": {
          "base_uri": "https://localhost:8080/"
        },
        "id": "aG0OAT2R_ZXt",
        "outputId": "2ad49d33-f6cf-4b43-8240-c9b6303d3475"
      },
      "execution_count": null,
      "outputs": [
        {
          "output_type": "stream",
          "name": "stdout",
          "text": [
            "cuda\n"
          ]
        }
      ]
    },
    {
      "cell_type": "code",
      "source": [
        "class NeuralNetwork(nn.Module):\n",
        "    def __init__(self, input_dim):\n",
        "        super(NeuralNetwork, self).__init__()\n",
        "        self.layer_1 = nn.Linear(input_dim, 100) \n",
        "        self.layer_2 = nn.Linear(100, 100) \n",
        "        self.layer_3 = nn.Linear(100, 100)   \n",
        "        self.layer_4 = nn.Linear(100, 100)  \n",
        "        self.layer_5 = nn.Linear(100, 100) \n",
        "        self.layer_6 = nn.Linear(100, 4)   \n",
        "        self.relu = nn.ReLU()\n",
        "        self.dropout = nn.Dropout()\n",
        "        \n",
        "\n",
        "    def forward(self, x):\n",
        "\n",
        "        x = self.layer_1(x)\n",
        "        x = self.dropout(x)\n",
        "        x = self.relu(x)\n",
        "\n",
        "        x = self.layer_2(x)\n",
        "        x = self.dropout(x)\n",
        "        x = self.relu(x)\n",
        "\n",
        "        x = self.layer_3(x)\n",
        "        x = self.dropout(x)\n",
        "        x = self.relu(x)\n",
        "\n",
        "        x = self.layer_4(x)\n",
        "        x = self.dropout(x)\n",
        "        x = self.relu(x)\n",
        "\n",
        "        x = self.layer_5(x)\n",
        "        x = self.dropout(x)\n",
        "        x = self.relu(x)\n",
        "        \n",
        "        logits  = self.layer_6(x)\n",
        "        return logits"
      ],
      "metadata": {
        "id": "seUx22Us_aBo"
      },
      "execution_count": null,
      "outputs": []
    },
    {
      "cell_type": "code",
      "source": [
        "model = NeuralNetwork(input_dim)\n",
        "model.to(device)"
      ],
      "metadata": {
        "colab": {
          "base_uri": "https://localhost:8080/"
        },
        "id": "tuwyVxWz_cd-",
        "outputId": "0adf1e12-66da-43dd-ed86-575ad560126f"
      },
      "execution_count": null,
      "outputs": [
        {
          "output_type": "execute_result",
          "data": {
            "text/plain": [
              "NeuralNetwork(\n",
              "  (layer_1): Linear(in_features=1024, out_features=100, bias=True)\n",
              "  (layer_2): Linear(in_features=100, out_features=100, bias=True)\n",
              "  (layer_3): Linear(in_features=100, out_features=100, bias=True)\n",
              "  (layer_4): Linear(in_features=100, out_features=100, bias=True)\n",
              "  (layer_5): Linear(in_features=100, out_features=100, bias=True)\n",
              "  (layer_6): Linear(in_features=100, out_features=4, bias=True)\n",
              "  (relu): ReLU()\n",
              "  (dropout): Dropout(p=0.5, inplace=False)\n",
              ")"
            ]
          },
          "metadata": {},
          "execution_count": 14
        }
      ]
    },
    {
      "cell_type": "code",
      "source": [
        "# optimizers\n",
        "criterion = nn.CrossEntropyLoss()\n",
        "optimizer = torch.optim.Adam(model.parameters(), lr=learning_rate)"
      ],
      "metadata": {
        "id": "a65vSenO_el1"
      },
      "execution_count": null,
      "outputs": []
    },
    {
      "cell_type": "code",
      "source": [
        "import math\n",
        "\n",
        "# calculating number of epochs\n",
        "num_epochs = num_iters / (len(train_index) / batch_size)\n",
        "num_epochs = int(math.ceil(num_epochs))\n",
        "loss_list = []\n",
        "\n",
        "n_total_steps = len(train_loader)\n",
        "\n",
        "iter = 0\n",
        "for epoch in range(num_epochs):\n",
        "  for i, (images, labels) in enumerate(train_loader):\n",
        "\n",
        "    images = images.view(-1, 32*32).to(device)\n",
        "    labels = labels.to(device)\n",
        "\n",
        "    # clearing gradients with respect to parameters\n",
        "    optimizer.zero_grad()\n",
        "\n",
        "    # forward pass \n",
        "    outputs = model(images) \n",
        "\n",
        "    # calculating loss\n",
        "    loss = criterion(outputs, labels)\n",
        "\n",
        "    # getting gradients with respect to parameters\n",
        "    loss.backward()\n",
        "\n",
        "    # updating the parameters\n",
        "    optimizer.step()      \n",
        "    \n",
        "    if (i+1) % 30 == 0:\n",
        "      print (f'Epoch [{epoch+1}/{num_epochs}], Step [{i+1}/{n_total_steps}], Loss: {loss.item():.4f}')\n",
        "      loss_list.append(loss.item())\n",
        "\n",
        "print('Finished Training')"
      ],
      "metadata": {
        "colab": {
          "base_uri": "https://localhost:8080/"
        },
        "id": "lVfomrh__ggP",
        "outputId": "eb98541d-7f56-410a-f9e8-b4d0e47c84b6"
      },
      "execution_count": null,
      "outputs": [
        {
          "output_type": "stream",
          "name": "stdout",
          "text": [
            "Epoch [1/12], Step [30/180], Loss: 0.9918\n",
            "Epoch [1/12], Step [60/180], Loss: 1.0348\n",
            "Epoch [1/12], Step [90/180], Loss: 0.7672\n",
            "Epoch [1/12], Step [120/180], Loss: 0.8226\n",
            "Epoch [1/12], Step [150/180], Loss: 0.9571\n",
            "Epoch [1/12], Step [180/180], Loss: 0.3033\n",
            "Epoch [2/12], Step [30/180], Loss: 1.1539\n",
            "Epoch [2/12], Step [60/180], Loss: 0.8739\n",
            "Epoch [2/12], Step [90/180], Loss: 0.7785\n",
            "Epoch [2/12], Step [120/180], Loss: 0.7981\n",
            "Epoch [2/12], Step [150/180], Loss: 0.4836\n",
            "Epoch [2/12], Step [180/180], Loss: 0.7548\n",
            "Epoch [3/12], Step [30/180], Loss: 0.8782\n",
            "Epoch [3/12], Step [60/180], Loss: 0.5451\n",
            "Epoch [3/12], Step [90/180], Loss: 0.8123\n",
            "Epoch [3/12], Step [120/180], Loss: 0.9011\n",
            "Epoch [3/12], Step [150/180], Loss: 0.6257\n",
            "Epoch [3/12], Step [180/180], Loss: 0.2379\n",
            "Epoch [4/12], Step [30/180], Loss: 0.6727\n",
            "Epoch [4/12], Step [60/180], Loss: 0.6153\n",
            "Epoch [4/12], Step [90/180], Loss: 1.0046\n",
            "Epoch [4/12], Step [120/180], Loss: 0.7083\n",
            "Epoch [4/12], Step [150/180], Loss: 0.6539\n",
            "Epoch [4/12], Step [180/180], Loss: 0.2483\n",
            "Epoch [5/12], Step [30/180], Loss: 0.8074\n",
            "Epoch [5/12], Step [60/180], Loss: 0.7707\n",
            "Epoch [5/12], Step [90/180], Loss: 0.9122\n",
            "Epoch [5/12], Step [120/180], Loss: 0.6157\n",
            "Epoch [5/12], Step [150/180], Loss: 0.3389\n",
            "Epoch [5/12], Step [180/180], Loss: 0.3447\n",
            "Epoch [6/12], Step [30/180], Loss: 0.5044\n",
            "Epoch [6/12], Step [60/180], Loss: 0.7785\n",
            "Epoch [6/12], Step [90/180], Loss: 0.3374\n",
            "Epoch [6/12], Step [120/180], Loss: 0.4827\n",
            "Epoch [6/12], Step [150/180], Loss: 0.7766\n",
            "Epoch [6/12], Step [180/180], Loss: 0.5405\n",
            "Epoch [7/12], Step [30/180], Loss: 0.4342\n",
            "Epoch [7/12], Step [60/180], Loss: 0.4789\n",
            "Epoch [7/12], Step [90/180], Loss: 0.5103\n",
            "Epoch [7/12], Step [120/180], Loss: 0.5875\n",
            "Epoch [7/12], Step [150/180], Loss: 1.0702\n",
            "Epoch [7/12], Step [180/180], Loss: 1.7948\n",
            "Epoch [8/12], Step [30/180], Loss: 0.5853\n",
            "Epoch [8/12], Step [60/180], Loss: 0.6117\n",
            "Epoch [8/12], Step [90/180], Loss: 0.5312\n",
            "Epoch [8/12], Step [120/180], Loss: 0.7196\n",
            "Epoch [8/12], Step [150/180], Loss: 0.5893\n",
            "Epoch [8/12], Step [180/180], Loss: 0.4337\n",
            "Epoch [9/12], Step [30/180], Loss: 0.3650\n",
            "Epoch [9/12], Step [60/180], Loss: 0.5238\n",
            "Epoch [9/12], Step [90/180], Loss: 0.7965\n",
            "Epoch [9/12], Step [120/180], Loss: 0.4277\n",
            "Epoch [9/12], Step [150/180], Loss: 0.4732\n",
            "Epoch [9/12], Step [180/180], Loss: 0.3959\n",
            "Epoch [10/12], Step [30/180], Loss: 0.2564\n",
            "Epoch [10/12], Step [60/180], Loss: 0.4814\n",
            "Epoch [10/12], Step [90/180], Loss: 0.7614\n",
            "Epoch [10/12], Step [120/180], Loss: 0.3291\n",
            "Epoch [10/12], Step [150/180], Loss: 0.6006\n",
            "Epoch [10/12], Step [180/180], Loss: 0.5834\n",
            "Epoch [11/12], Step [30/180], Loss: 0.7439\n",
            "Epoch [11/12], Step [60/180], Loss: 0.6904\n",
            "Epoch [11/12], Step [90/180], Loss: 0.4756\n",
            "Epoch [11/12], Step [120/180], Loss: 0.4225\n",
            "Epoch [11/12], Step [150/180], Loss: 0.3855\n",
            "Epoch [11/12], Step [180/180], Loss: 0.2332\n",
            "Epoch [12/12], Step [30/180], Loss: 0.7590\n",
            "Epoch [12/12], Step [60/180], Loss: 0.5580\n",
            "Epoch [12/12], Step [90/180], Loss: 0.4264\n",
            "Epoch [12/12], Step [120/180], Loss: 0.3360\n",
            "Epoch [12/12], Step [150/180], Loss: 0.9154\n",
            "Epoch [12/12], Step [180/180], Loss: 0.7289\n",
            "Finished Training\n"
          ]
        }
      ]
    },
    {
      "cell_type": "code",
      "source": [
        "# plotting the loss per batch graph\n",
        "plt.plot(loss_list)\n",
        "\n",
        "plt.xlabel('Num. of Batch (every 30)')\n",
        "plt.ylabel('Loss (Cross Entropy)')\n",
        " \n",
        "plt.title('Neural Networks - Loss vs Batch Iteration Graph')\n",
        " \n",
        "plt.show()"
      ],
      "metadata": {
        "colab": {
          "base_uri": "https://localhost:8080/",
          "height": 295
        },
        "id": "fi73uUSU_ite",
        "outputId": "d7315e1c-680c-4ab0-9df8-645b2d4af4e9"
      },
      "execution_count": null,
      "outputs": [
        {
          "output_type": "display_data",
          "data": {
            "image/png": "[encoded data removed]",
            "text/plain": [
              "<Figure size 432x288 with 1 Axes>"
            ]
          },
          "metadata": {
            "needs_background": "light"
          }
        }
      ]
    },
    {
      "cell_type": "code",
      "source": [
        "with torch.no_grad():\n",
        "  n_correct = 0\n",
        "  n_incorrect = 0\n",
        "  n_samples = 0\n",
        "  n_class_correct = [0 for i in range(4)]\n",
        "  n_class_incorrect = [0 for i in range(4)]\n",
        "  n_class_predicted = [0 for i in range(4)]\n",
        "  n_class_samples = [0 for i in range(4)]\n",
        "\n",
        "\n",
        "  for images, labels in test_loader:\n",
        "    images = images.view(-1, 32*32).to(device)\n",
        "    labels = labels.to(device)\n",
        "    outputs = model(images)\n",
        "    # max returns (value ,index)\n",
        "    _, predicted = torch.max(outputs, 1)\n",
        "    n_samples += labels.size(0)\n",
        "    n_correct += (predicted == labels).sum().item()\n",
        "    n_incorrect += (predicted != labels).sum().item()\n",
        "    \n",
        "    for i in range(len(labels)):\n",
        "      label = labels[i]\n",
        "      pred = predicted[i]\n",
        "      if (label == pred):\n",
        "        n_class_correct[label] += 1\n",
        "      else:\n",
        "        n_class_incorrect[label] += 1\n",
        "      n_class_predicted[pred] += 1  \n",
        "      n_class_samples[label] += 1\n",
        "\n",
        "  print('Testing Completed!')"
      ],
      "metadata": {
        "colab": {
          "base_uri": "https://localhost:8080/"
        },
        "id": "DsgXxl3T_lA2",
        "outputId": "749501b3-4eb0-4dc9-df69-fcbb9f7a2a85"
      },
      "execution_count": null,
      "outputs": [
        {
          "output_type": "stream",
          "name": "stdout",
          "text": [
            "Testing Completed!\n"
          ]
        }
      ]
    },
    {
      "cell_type": "code",
      "source": [
        "n_class_samples"
      ],
      "metadata": {
        "colab": {
          "base_uri": "https://localhost:8080/"
        },
        "id": "8DYHTEQyXHWW",
        "outputId": "e6f4c4aa-419b-44f3-8b27-2c7165ff58df"
      },
      "execution_count": null,
      "outputs": [
        {
          "output_type": "execute_result",
          "data": {
            "text/plain": [
              "[595, 144, 23, 134]"
            ]
          },
          "metadata": {},
          "execution_count": 19
        }
      ]
    },
    {
      "cell_type": "code",
      "source": [
        "n_class_correct "
      ],
      "metadata": {
        "colab": {
          "base_uri": "https://localhost:8080/"
        },
        "id": "aLyK9o00XJ1-",
        "outputId": "39405d00-9f91-4810-e31f-176432530348"
      },
      "execution_count": null,
      "outputs": [
        {
          "output_type": "execute_result",
          "data": {
            "text/plain": [
              "[592, 0, 0, 130]"
            ]
          },
          "metadata": {},
          "execution_count": 20
        }
      ]
    },
    {
      "cell_type": "code",
      "source": [
        "n_class_predicted"
      ],
      "metadata": {
        "colab": {
          "base_uri": "https://localhost:8080/"
        },
        "id": "5CgvfiFCXL3G",
        "outputId": "b32d8a6f-9326-4c7d-e137-951c8bea3dc3"
      },
      "execution_count": null,
      "outputs": [
        {
          "output_type": "execute_result",
          "data": {
            "text/plain": [
              "[763, 0, 0, 133]"
            ]
          },
          "metadata": {},
          "execution_count": 21
        }
      ]
    },
    {
      "cell_type": "code",
      "source": [
        "classes = ['benignware', 'malware', 'hackware', 'gray']\n",
        "total_pre = []\n",
        "total_rec = []\n",
        "\n",
        "for i in range(4):\n",
        "  try:\n",
        "    pre = n_class_correct[i] / n_class_predicted[i]\n",
        "  except ZeroDivisionError:\n",
        "    pre = 0\n",
        "  total_pre.append(pre)\n",
        "  try:\n",
        "    rec = n_class_correct[i] / n_class_samples[i] \n",
        "  except ZeroDivisionError:\n",
        "    rec = 0\n",
        "  total_rec.append(rec) \n",
        "  '''\n",
        "  try:\n",
        "    f1 = ((2*total_pre.sum()*total_rec.sum())/(total_pre.sum()+total_rec.sum()))/4\n",
        "  except ZeroDivisionError:\n",
        "    f1 = 'undefined'\n",
        "  '''\n",
        "  f1 = (2*sum(total_pre)*sum(total_rec))/(sum(total_pre)+sum(total_rec))/4\n",
        "print(f'F-1 Score: {f1}')"
      ],
      "metadata": {
        "colab": {
          "base_uri": "https://localhost:8080/"
        },
        "id": "RHFI3BYf_nxN",
        "outputId": "dbd07cd4-9f06-4a5c-eb37-59862c9bec00"
      },
      "execution_count": null,
      "outputs": [
        {
          "output_type": "stream",
          "name": "stdout",
          "text": [
            "F-1 Score: 0.46329673738675287\n"
          ]
        }
      ]
    },
    {
      "cell_type": "code",
      "source": [
        "index = np.arange(0, 4)\n",
        "width = 0.2\n",
        "plt.figure(figsize = (10, 6))\n",
        "plt.title('Comparison for NN - Correctly Classified with Predicted')\n",
        "\n",
        "plt.bar(index , n_class_correct, width, color='mediumpurple', label='Correctly Classified', alpha=0.75)\n",
        "plt.bar(index + width, n_class_predicted, width, color='indigo', label='Predicted', alpha=0.75)\n",
        "  \n",
        "plt.xlabel('Classes')\n",
        "plt.ylabel('Sample Numbers')\n",
        "plt.xticks(index+width/2, classes)\n",
        "plt.legend()\n",
        "plt.show()"
      ],
      "metadata": {
        "colab": {
          "base_uri": "https://localhost:8080/",
          "height": 404
        },
        "id": "0-rvdlGZ_qf-",
        "outputId": "8b796da3-d279-4241-a5aa-fda75f8dd96c"
      },
      "execution_count": null,
      "outputs": [
        {
          "output_type": "display_data",
          "data": {
            "image/png": "[encoded data removed]",
            "text/plain": [
              "<Figure size 720x432 with 1 Axes>"
            ]
          },
          "metadata": {
            "needs_background": "light"
          }
        }
      ]
    },
    {
      "cell_type": "code",
      "source": [
        "class ConvNet1(nn.Module):\n",
        "    def __init__(self):\n",
        "        super(ConvNet1, self).__init__()\n",
        "        self.conv1 = nn.Conv2d(1, 6, 3) #in_channels, out_channels, filter (3X3)\n",
        "        self.maxpool = nn.MaxPool2d(2, 2)\n",
        "        self.conv2 = nn.Conv2d(6, 16, 3)\n",
        "        self.conv3 = nn.Conv2d(16, 30, 3)\n",
        "        self.fc1 = nn.Linear(30 * 2 * 2, 60)\n",
        "        self.fc2 = nn.Linear(60, 30)\n",
        "        self.fc3 = nn.Linear(30, 15)\n",
        "        self.fc4 = nn.Linear(15, 4)\n",
        "\n",
        "        self.relu = nn.ReLU()\n",
        "        self.dropout = nn.Dropout()\n",
        "\n",
        "\n",
        "    def forward(self, x):       #input, channel, width, height \n",
        "                                # -> n, 1, 32, 32               \n",
        "        x = self.conv1(x)\n",
        "        x = self.dropout(x)\n",
        "        x = self.relu(x)\n",
        "        x = self.maxpool(x)                       \n",
        "                                # -> n, 6, 15, 15\n",
        "        x = self.conv2(x)\n",
        "        x = self.dropout(x)\n",
        "        x = self.relu(x)\n",
        "        x = self.maxpool(x)                       \n",
        "                                # -> n, 16, 6, 6\n",
        "        x = self.conv3(x)\n",
        "        x = self.dropout(x)\n",
        "        x = self.relu(x)\n",
        "        x = self.maxpool(x) \n",
        "                                # -> n, 30, 2, 2 \n",
        "        x = x.view(-1, 30*2*2)              \n",
        "                                # -> n, 120 \n",
        "        x = self.fc1(x)\n",
        "        x = self.relu(x)                         \n",
        "                                # -> n, 60 \n",
        "        x = self.fc2(x)\n",
        "        x = self.relu(x)                         \n",
        "                                # -> n, 30\n",
        "        x = self.fc3(x)         \n",
        "        x = self.relu(x)\n",
        "                                # -> n, 15\n",
        "        x = self.fc4(x)                         \n",
        "                                # -> n, 4\n",
        "                                              \n",
        "        return x"
      ],
      "metadata": {
        "id": "H9cD95hi_sV-"
      },
      "execution_count": null,
      "outputs": []
    },
    {
      "cell_type": "code",
      "source": [
        "model = ConvNet1()\n",
        "model.to(device)"
      ],
      "metadata": {
        "colab": {
          "base_uri": "https://localhost:8080/"
        },
        "id": "nv5BBJptBPuV",
        "outputId": "014abf8f-4eee-4214-8293-308c9da650c9"
      },
      "execution_count": null,
      "outputs": [
        {
          "output_type": "execute_result",
          "data": {
            "text/plain": [
              "ConvNet1(\n",
              "  (conv1): Conv2d(1, 6, kernel_size=(3, 3), stride=(1, 1))\n",
              "  (maxpool): MaxPool2d(kernel_size=2, stride=2, padding=0, dilation=1, ceil_mode=False)\n",
              "  (conv2): Conv2d(6, 16, kernel_size=(3, 3), stride=(1, 1))\n",
              "  (conv3): Conv2d(16, 30, kernel_size=(3, 3), stride=(1, 1))\n",
              "  (fc1): Linear(in_features=120, out_features=60, bias=True)\n",
              "  (fc2): Linear(in_features=60, out_features=30, bias=True)\n",
              "  (fc3): Linear(in_features=30, out_features=15, bias=True)\n",
              "  (fc4): Linear(in_features=15, out_features=4, bias=True)\n",
              "  (relu): ReLU()\n",
              "  (dropout): Dropout(p=0.5, inplace=False)\n",
              ")"
            ]
          },
          "metadata": {},
          "execution_count": 5
        }
      ]
    },
    {
      "cell_type": "code",
      "source": [
        "criterion = nn.CrossEntropyLoss()\n",
        "optimizer = torch.optim.Adam(model.parameters(), lr=learning_rate)"
      ],
      "metadata": {
        "id": "R3tjP214BRf1"
      },
      "execution_count": null,
      "outputs": []
    },
    {
      "cell_type": "code",
      "source": [
        "import math\n",
        "\n",
        "# calculating number of epochs\n",
        "num_epochs = num_iters / (len(train_index) / batch_size)\n",
        "num_epochs = int(math.ceil(num_epochs))\n",
        "loss_list = []\n",
        "\n",
        "n_total_steps = len(train_loader)\n",
        "for epoch in range(num_epochs):\n",
        "    for i, (images, labels) in enumerate(train_loader):\n",
        "        images = images.to(device)\n",
        "        labels = labels.to(device)\n",
        "\n",
        "        # Forward pass\n",
        "        outputs = model(images)\n",
        "        loss = criterion(outputs, labels)\n",
        "\n",
        "        # Backward and optimize\n",
        "        optimizer.zero_grad()\n",
        "        loss.backward()\n",
        "        optimizer.step()\n",
        "\n",
        "        if (i+1) % 30 == 0:\n",
        "            print (f'Epoch [{epoch+1}/{num_epochs}], Step [{i+1}/{n_total_steps}], Loss: {loss.item():.4f}')\n",
        "            loss_list.append(loss.item())\n",
        "print('Finished Training')"
      ],
      "metadata": {
        "colab": {
          "base_uri": "https://localhost:8080/"
        },
        "id": "gO-F1cDrBTWk",
        "outputId": "10a96860-f468-4d53-b4a9-c803511532c0"
      },
      "execution_count": null,
      "outputs": [
        {
          "output_type": "stream",
          "name": "stdout",
          "text": [
            "Epoch [1/12], Step [30/180], Loss: 0.7265\n",
            "Epoch [1/12], Step [60/180], Loss: 0.7321\n",
            "Epoch [1/12], Step [90/180], Loss: 0.4515\n",
            "Epoch [1/12], Step [120/180], Loss: 0.3121\n",
            "Epoch [1/12], Step [150/180], Loss: 0.9296\n",
            "Epoch [1/12], Step [180/180], Loss: 0.6642\n",
            "Epoch [2/12], Step [30/180], Loss: 0.3251\n",
            "Epoch [2/12], Step [60/180], Loss: 0.5835\n",
            "Epoch [2/12], Step [90/180], Loss: 0.5207\n",
            "Epoch [2/12], Step [120/180], Loss: 0.4848\n",
            "Epoch [2/12], Step [150/180], Loss: 0.3840\n",
            "Epoch [2/12], Step [180/180], Loss: 0.7034\n",
            "Epoch [3/12], Step [30/180], Loss: 0.3918\n",
            "Epoch [3/12], Step [60/180], Loss: 0.3921\n",
            "Epoch [3/12], Step [90/180], Loss: 0.3212\n",
            "Epoch [3/12], Step [120/180], Loss: 0.6146\n",
            "Epoch [3/12], Step [150/180], Loss: 0.4761\n",
            "Epoch [3/12], Step [180/180], Loss: 0.2585\n",
            "Epoch [4/12], Step [30/180], Loss: 0.4928\n",
            "Epoch [4/12], Step [60/180], Loss: 0.6848\n",
            "Epoch [4/12], Step [90/180], Loss: 0.7008\n",
            "Epoch [4/12], Step [120/180], Loss: 0.5589\n",
            "Epoch [4/12], Step [150/180], Loss: 0.5870\n",
            "Epoch [4/12], Step [180/180], Loss: 0.4885\n",
            "Epoch [5/12], Step [30/180], Loss: 0.2774\n",
            "Epoch [5/12], Step [60/180], Loss: 0.3955\n",
            "Epoch [5/12], Step [90/180], Loss: 0.5260\n",
            "Epoch [5/12], Step [120/180], Loss: 0.4025\n",
            "Epoch [5/12], Step [150/180], Loss: 0.3471\n",
            "Epoch [5/12], Step [180/180], Loss: 1.0506\n",
            "Epoch [6/12], Step [30/180], Loss: 0.8165\n",
            "Epoch [6/12], Step [60/180], Loss: 0.4386\n",
            "Epoch [6/12], Step [90/180], Loss: 0.4112\n",
            "Epoch [6/12], Step [120/180], Loss: 0.4740\n",
            "Epoch [6/12], Step [150/180], Loss: 0.3159\n",
            "Epoch [6/12], Step [180/180], Loss: 0.1903\n",
            "Epoch [7/12], Step [30/180], Loss: 0.5924\n",
            "Epoch [7/12], Step [60/180], Loss: 0.7124\n",
            "Epoch [7/12], Step [90/180], Loss: 0.7394\n",
            "Epoch [7/12], Step [120/180], Loss: 0.4201\n",
            "Epoch [7/12], Step [150/180], Loss: 0.6109\n",
            "Epoch [7/12], Step [180/180], Loss: 0.1995\n",
            "Epoch [8/12], Step [30/180], Loss: 0.6595\n",
            "Epoch [8/12], Step [60/180], Loss: 0.4092\n",
            "Epoch [8/12], Step [90/180], Loss: 0.3410\n",
            "Epoch [8/12], Step [120/180], Loss: 0.3889\n",
            "Epoch [8/12], Step [150/180], Loss: 0.5876\n",
            "Epoch [8/12], Step [180/180], Loss: 0.5880\n",
            "Epoch [9/12], Step [30/180], Loss: 0.3494\n",
            "Epoch [9/12], Step [60/180], Loss: 0.7733\n",
            "Epoch [9/12], Step [90/180], Loss: 0.4465\n",
            "Epoch [9/12], Step [120/180], Loss: 0.3903\n",
            "Epoch [9/12], Step [150/180], Loss: 0.3221\n",
            "Epoch [9/12], Step [180/180], Loss: 0.5559\n",
            "Epoch [10/12], Step [30/180], Loss: 0.5793\n",
            "Epoch [10/12], Step [60/180], Loss: 0.4133\n",
            "Epoch [10/12], Step [90/180], Loss: 0.6305\n",
            "Epoch [10/12], Step [120/180], Loss: 0.4082\n",
            "Epoch [10/12], Step [150/180], Loss: 0.3748\n",
            "Epoch [10/12], Step [180/180], Loss: 0.2345\n",
            "Epoch [11/12], Step [30/180], Loss: 0.2744\n",
            "Epoch [11/12], Step [60/180], Loss: 0.6559\n",
            "Epoch [11/12], Step [90/180], Loss: 0.2105\n",
            "Epoch [11/12], Step [120/180], Loss: 0.3178\n",
            "Epoch [11/12], Step [150/180], Loss: 0.5881\n",
            "Epoch [11/12], Step [180/180], Loss: 1.0730\n",
            "Epoch [12/12], Step [30/180], Loss: 0.4371\n",
            "Epoch [12/12], Step [60/180], Loss: 0.2485\n",
            "Epoch [12/12], Step [90/180], Loss: 0.8269\n",
            "Epoch [12/12], Step [120/180], Loss: 0.2222\n",
            "Epoch [12/12], Step [150/180], Loss: 0.1746\n",
            "Epoch [12/12], Step [180/180], Loss: 0.8149\n",
            "Finished Training\n"
          ]
        }
      ]
    },
    {
      "cell_type": "code",
      "source": [
        "with torch.no_grad():\n",
        "  n_correct = 0\n",
        "  n_incorrect = 0\n",
        "  n_samples = 0\n",
        "  n_class_correct = [0 for i in range(4)]\n",
        "  n_class_incorrect = [0 for i in range(4)]\n",
        "  n_class_predicted = [0 for i in range(4)]\n",
        "  n_class_samples = [0 for i in range(4)]\n",
        "\n",
        "\n",
        "  for images, labels in test_loader:\n",
        "    images = images.to(device)\n",
        "    labels = labels.to(device)\n",
        "    outputs = model(images)\n",
        "    # max returns (value ,index)\n",
        "    _, predicted = torch.max(outputs, 1)\n",
        "    n_samples += labels.size(0)\n",
        "    n_correct += (predicted == labels).sum().item()\n",
        "    n_incorrect += (predicted != labels).sum().item()\n",
        "    \n",
        "    for i in range(len(labels)):\n",
        "      label = labels[i]\n",
        "      pred = predicted[i]\n",
        "      if (label == pred):\n",
        "        n_class_correct[label] += 1\n",
        "      else:\n",
        "        n_class_incorrect[label] += 1\n",
        "      n_class_predicted[pred] += 1  \n",
        "      n_class_samples[label] += 1\n",
        "\n",
        "  print('Testing Completed!')"
      ],
      "metadata": {
        "colab": {
          "base_uri": "https://localhost:8080/"
        },
        "id": "xJ2mYYy2BWAd",
        "outputId": "63d76c62-2315-4947-a3e8-36248e772d6e"
      },
      "execution_count": null,
      "outputs": [
        {
          "output_type": "stream",
          "name": "stdout",
          "text": [
            "Testing Completed!\n"
          ]
        }
      ]
    },
    {
      "cell_type": "code",
      "source": [
        "n_class_samples"
      ],
      "metadata": {
        "colab": {
          "base_uri": "https://localhost:8080/"
        },
        "id": "UrLYYH2ZXWO3",
        "outputId": "0cf67db3-2a44-4e10-c95d-a7c985f493cc"
      },
      "execution_count": null,
      "outputs": [
        {
          "output_type": "execute_result",
          "data": {
            "text/plain": [
              "[595, 144, 23, 134]"
            ]
          },
          "metadata": {},
          "execution_count": 29
        }
      ]
    },
    {
      "cell_type": "code",
      "source": [
        "n_class_correct"
      ],
      "metadata": {
        "colab": {
          "base_uri": "https://localhost:8080/"
        },
        "id": "BpTKaVnfXXZN",
        "outputId": "66619baa-d778-4656-c46e-322d8e36a2fc"
      },
      "execution_count": null,
      "outputs": [
        {
          "output_type": "execute_result",
          "data": {
            "text/plain": [
              "[579, 31, 0, 134]"
            ]
          },
          "metadata": {},
          "execution_count": 30
        }
      ]
    },
    {
      "cell_type": "code",
      "source": [
        "n_class_predicted"
      ],
      "metadata": {
        "colab": {
          "base_uri": "https://localhost:8080/"
        },
        "id": "AauTLfl8XVFe",
        "outputId": "852b3517-7902-417f-c1f6-6bccffcfabd5"
      },
      "execution_count": null,
      "outputs": [
        {
          "output_type": "execute_result",
          "data": {
            "text/plain": [
              "[708, 54, 0, 134]"
            ]
          },
          "metadata": {},
          "execution_count": 31
        }
      ]
    },
    {
      "cell_type": "code",
      "source": [
        "# plotting the loss per batch graph\n",
        "\n",
        "plt.plot(loss_list)\n",
        "\n",
        "plt.xlabel('Num. of Batch (every 30)')\n",
        "plt.ylabel('Loss (Cross Entropy)')\n",
        " \n",
        "plt.title('Convolutional Neural Networks - Loss vs Batch Iteration Graph')\n",
        " \n",
        "plt.show()"
      ],
      "metadata": {
        "colab": {
          "base_uri": "https://localhost:8080/",
          "height": 295
        },
        "id": "BYco-qVbBZuX",
        "outputId": "af150b24-ddce-4506-980c-dc09428935ab"
      },
      "execution_count": null,
      "outputs": [
        {
          "output_type": "display_data",
          "data": {
            "image/png": "[encoded data removed]",
            "text/plain": [
              "<Figure size 432x288 with 1 Axes>"
            ]
          },
          "metadata": {
            "needs_background": "light"
          }
        }
      ]
    },
    {
      "cell_type": "code",
      "source": [
        "classes = ['benignware', 'malware', 'hackware', 'gray']\n",
        "total_pre = []\n",
        "total_rec = []\n",
        "\n",
        "for i in range(4):\n",
        "  try:\n",
        "    pre = n_class_correct[i] / n_class_predicted[i]\n",
        "  except ZeroDivisionError:\n",
        "    pre = 0\n",
        "  total_pre.append(pre)\n",
        "  try:\n",
        "    rec = n_class_correct[i] / n_class_samples[i]\n",
        "  except ZeroDivisionError:\n",
        "    rec = 0\n",
        "  total_rec.append(rec) \n",
        "  '''\n",
        "  try:\n",
        "    f1 = ((2*total_pre.sum()*total_rec.sum())/(total_pre.sum()+total_rec.sum()))/4\n",
        "  except ZeroDivisionError:\n",
        "    f1 = 'undefined'\n",
        "  '''\n",
        "  f1 = (2*sum(total_pre)*sum(total_rec))/(sum(total_pre)+sum(total_rec))/4\n",
        "print(f'F-1 Score: {f1}')"
      ],
      "metadata": {
        "colab": {
          "base_uri": "https://localhost:8080/"
        },
        "id": "sJVwHmLcBbwt",
        "outputId": "212560d2-6016-4c09-d791-10d1c1df5234"
      },
      "execution_count": null,
      "outputs": [
        {
          "output_type": "stream",
          "name": "stdout",
          "text": [
            "F-1 Score: 0.5714022112675303\n"
          ]
        }
      ]
    },
    {
      "cell_type": "code",
      "source": [
        "index = np.arange(0, 4)\n",
        "width = 0.2\n",
        "plt.figure(figsize = (10, 6))\n",
        "plt.title('Comparison for CNN - Correctly Classified with Predicted')\n",
        "\n",
        "plt.bar(index , n_class_correct, width, color='chocolate', label='Correctly Classified', alpha=0.75)\n",
        "plt.bar(index + width, n_class_predicted, width, color='saddlebrown', label='Predicted', alpha=0.75)\n",
        "  \n",
        "plt.xlabel('Classes')\n",
        "plt.ylabel('Sample Numbers')\n",
        "plt.xticks(index+width/2, classes)\n",
        "plt.legend()\n",
        "plt.show()"
      ],
      "metadata": {
        "colab": {
          "base_uri": "https://localhost:8080/",
          "height": 404
        },
        "id": "oMCyqOnOBeVV",
        "outputId": "26524493-e7a0-4ba1-cf3f-e965089ce8f8"
      },
      "execution_count": null,
      "outputs": [
        {
          "output_type": "display_data",
          "data": {
            "image/png": "[encoded data removed]",
            "text/plain": [
              "<Figure size 720x432 with 1 Axes>"
            ]
          },
          "metadata": {
            "needs_background": "light"
          }
        }
      ]
    },
    {
      "cell_type": "code",
      "source": [
        "# following LeNet-5\n",
        "class ConvNet2(nn.Module):\n",
        "    def __init__(self):\n",
        "        super(ConvNet2, self).__init__()\n",
        "        self.conv1 = nn.Conv2d(1, 6, 5) #in_channels, out_channels, filter (5X5)\n",
        "        self.maxpool = nn.MaxPool2d(2, 2)\n",
        "        self.conv2 = nn.Conv2d(6, 16, 5)\n",
        "        self.fc1 = nn.Linear(16 * 5 * 5, 120)\n",
        "        self.fc2 = nn.Linear(120, 84)\n",
        "        self.fc3 = nn.Linear(84, 4)\n",
        "\n",
        "        self.relu = nn.ReLU()\n",
        "        self.dropout = nn.Dropout()\n",
        "\n",
        "\n",
        "    def forward(self, x):\n",
        "                                # -> n, 1, 32, 32               \n",
        "        x = self.conv1(x)\n",
        "        x = self.dropout(x)\n",
        "        x = self.relu(x)\n",
        "        x = self.maxpool(x)                       \n",
        "                                # -> n, 6, 14, 14\n",
        "        x = self.conv2(x)\n",
        "        x = self.dropout(x)\n",
        "        x = self.relu(x)\n",
        "        x = self.maxpool(x)                       \n",
        "                                # -> n, 16, 5, 5\n",
        "        x = x.view(-1, 16*5*5)  # -> n, 400             \n",
        "        \n",
        "        x = self.fc1(x)\n",
        "        x = self.relu(x)                         \n",
        "                                # -> n, 120 \n",
        "        x = self.fc2(x)\n",
        "        x = self.relu(x)                         \n",
        "                                # -> n, 84\n",
        "        x = self.fc3(x)         \n",
        "                                # -> n, 4              \n",
        "        return x\n"
      ],
      "metadata": {
        "id": "fWXZmBFOBguX"
      },
      "execution_count": null,
      "outputs": []
    },
    {
      "cell_type": "code",
      "source": [
        "model = ConvNet2()\n",
        "model.to(device)"
      ],
      "metadata": {
        "colab": {
          "base_uri": "https://localhost:8080/"
        },
        "id": "7vd-xzE7BjKt",
        "outputId": "7675150d-2011-4b18-9631-a394b93251b6"
      },
      "execution_count": null,
      "outputs": [
        {
          "output_type": "execute_result",
          "data": {
            "text/plain": [
              "ConvNet2(\n",
              "  (conv1): Conv2d(1, 6, kernel_size=(5, 5), stride=(1, 1))\n",
              "  (maxpool): MaxPool2d(kernel_size=2, stride=2, padding=0, dilation=1, ceil_mode=False)\n",
              "  (conv2): Conv2d(6, 16, kernel_size=(5, 5), stride=(1, 1))\n",
              "  (fc1): Linear(in_features=400, out_features=120, bias=True)\n",
              "  (fc2): Linear(in_features=120, out_features=84, bias=True)\n",
              "  (fc3): Linear(in_features=84, out_features=4, bias=True)\n",
              "  (relu): ReLU()\n",
              "  (dropout): Dropout(p=0.5, inplace=False)\n",
              ")"
            ]
          },
          "metadata": {},
          "execution_count": 7
        }
      ]
    },
    {
      "cell_type": "code",
      "source": [
        "criterion = nn.CrossEntropyLoss()\n",
        "optimizer = torch.optim.Adam(model.parameters(), lr=learning_rate)"
      ],
      "metadata": {
        "id": "dgnm-CMrBlIV"
      },
      "execution_count": null,
      "outputs": []
    },
    {
      "cell_type": "code",
      "source": [
        "import math\n",
        "\n",
        "# calculating number of epochs\n",
        "num_epochs = num_iters / (len(train_index) / batch_size)\n",
        "num_epochs = int(math.ceil(num_epochs))\n",
        "loss_list = []\n",
        "\n",
        "n_total_steps = len(train_loader)\n",
        "for epoch in range(num_epochs):\n",
        "    for i, (images, labels) in enumerate(train_loader):\n",
        "        \n",
        "        images = images.to(device)\n",
        "        labels = labels.to(device)\n",
        "\n",
        "        # Forward pass\n",
        "        outputs = model(images)\n",
        "        loss = criterion(outputs, labels)\n",
        "\n",
        "        # Backward and optimize\n",
        "        optimizer.zero_grad()\n",
        "        loss.backward()\n",
        "        optimizer.step()\n",
        "\n",
        "        if (i+1) % 30 == 0:\n",
        "            print (f'Epoch [{epoch+1}/{num_epochs}], Step [{i+1}/{n_total_steps}], Loss: {loss.item():.4f}')\n",
        "            loss_list.append(loss.item())\n",
        "print('Finished Training')"
      ],
      "metadata": {
        "colab": {
          "base_uri": "https://localhost:8080/"
        },
        "id": "L9ybAWNcBm01",
        "outputId": "fbb4f841-c98a-427f-d901-c002c5da0179"
      },
      "execution_count": null,
      "outputs": [
        {
          "output_type": "stream",
          "name": "stdout",
          "text": [
            "Epoch [1/12], Step [30/180], Loss: 0.6005\n",
            "Epoch [1/12], Step [60/180], Loss: 0.7385\n",
            "Epoch [1/12], Step [90/180], Loss: 0.5446\n",
            "Epoch [1/12], Step [120/180], Loss: 0.3597\n",
            "Epoch [1/12], Step [150/180], Loss: 0.7908\n",
            "Epoch [1/12], Step [180/180], Loss: 0.5107\n",
            "Epoch [2/12], Step [30/180], Loss: 0.7048\n",
            "Epoch [2/12], Step [60/180], Loss: 0.5832\n",
            "Epoch [2/12], Step [90/180], Loss: 0.4032\n",
            "Epoch [2/12], Step [120/180], Loss: 0.8960\n",
            "Epoch [2/12], Step [150/180], Loss: 0.6230\n",
            "Epoch [2/12], Step [180/180], Loss: 0.6176\n",
            "Epoch [3/12], Step [30/180], Loss: 0.5442\n",
            "Epoch [3/12], Step [60/180], Loss: 0.3363\n",
            "Epoch [3/12], Step [90/180], Loss: 0.3737\n",
            "Epoch [3/12], Step [120/180], Loss: 0.4001\n",
            "Epoch [3/12], Step [150/180], Loss: 1.0675\n",
            "Epoch [3/12], Step [180/180], Loss: 0.2548\n",
            "Epoch [4/12], Step [30/180], Loss: 0.7629\n",
            "Epoch [4/12], Step [60/180], Loss: 0.8362\n",
            "Epoch [4/12], Step [90/180], Loss: 0.2377\n",
            "Epoch [4/12], Step [120/180], Loss: 0.3535\n",
            "Epoch [4/12], Step [150/180], Loss: 0.3545\n",
            "Epoch [4/12], Step [180/180], Loss: 0.4270\n",
            "Epoch [5/12], Step [30/180], Loss: 0.5336\n",
            "Epoch [5/12], Step [60/180], Loss: 0.6784\n",
            "Epoch [5/12], Step [90/180], Loss: 0.3333\n",
            "Epoch [5/12], Step [120/180], Loss: 0.1988\n",
            "Epoch [5/12], Step [150/180], Loss: 0.3886\n",
            "Epoch [5/12], Step [180/180], Loss: 0.5816\n",
            "Epoch [6/12], Step [30/180], Loss: 0.8357\n",
            "Epoch [6/12], Step [60/180], Loss: 0.2539\n",
            "Epoch [6/12], Step [90/180], Loss: 0.3575\n",
            "Epoch [6/12], Step [120/180], Loss: 0.4128\n",
            "Epoch [6/12], Step [150/180], Loss: 0.3654\n",
            "Epoch [6/12], Step [180/180], Loss: 0.1088\n",
            "Epoch [7/12], Step [30/180], Loss: 0.1575\n",
            "Epoch [7/12], Step [60/180], Loss: 0.2062\n",
            "Epoch [7/12], Step [90/180], Loss: 0.1556\n",
            "Epoch [7/12], Step [120/180], Loss: 0.2406\n",
            "Epoch [7/12], Step [150/180], Loss: 0.2324\n",
            "Epoch [7/12], Step [180/180], Loss: 0.1597\n",
            "Epoch [8/12], Step [30/180], Loss: 0.2134\n",
            "Epoch [8/12], Step [60/180], Loss: 0.4760\n",
            "Epoch [8/12], Step [90/180], Loss: 0.3073\n",
            "Epoch [8/12], Step [120/180], Loss: 0.3187\n",
            "Epoch [8/12], Step [150/180], Loss: 0.0959\n",
            "Epoch [8/12], Step [180/180], Loss: 0.1281\n",
            "Epoch [9/12], Step [30/180], Loss: 0.1765\n",
            "Epoch [9/12], Step [60/180], Loss: 0.3274\n",
            "Epoch [9/12], Step [90/180], Loss: 0.3337\n",
            "Epoch [9/12], Step [120/180], Loss: 0.2024\n",
            "Epoch [9/12], Step [150/180], Loss: 0.0906\n",
            "Epoch [9/12], Step [180/180], Loss: 0.0603\n",
            "Epoch [10/12], Step [30/180], Loss: 0.0463\n",
            "Epoch [10/12], Step [60/180], Loss: 0.1466\n",
            "Epoch [10/12], Step [90/180], Loss: 0.0522\n",
            "Epoch [10/12], Step [120/180], Loss: 0.2797\n",
            "Epoch [10/12], Step [150/180], Loss: 0.4331\n",
            "Epoch [10/12], Step [180/180], Loss: 0.5765\n",
            "Epoch [11/12], Step [30/180], Loss: 0.2190\n",
            "Epoch [11/12], Step [60/180], Loss: 0.1159\n",
            "Epoch [11/12], Step [90/180], Loss: 0.6048\n",
            "Epoch [11/12], Step [120/180], Loss: 0.3045\n",
            "Epoch [11/12], Step [150/180], Loss: 0.2343\n",
            "Epoch [11/12], Step [180/180], Loss: 0.0647\n",
            "Epoch [12/12], Step [30/180], Loss: 0.2316\n",
            "Epoch [12/12], Step [60/180], Loss: 0.3153\n",
            "Epoch [12/12], Step [90/180], Loss: 0.4336\n",
            "Epoch [12/12], Step [120/180], Loss: 0.0833\n",
            "Epoch [12/12], Step [150/180], Loss: 0.0845\n",
            "Epoch [12/12], Step [180/180], Loss: 0.5787\n",
            "Finished Training\n"
          ]
        }
      ]
    },
    {
      "cell_type": "code",
      "source": [
        "# plotting the loss per batch graph\n",
        "plt.plot(loss_list)\n",
        "\n",
        "plt.xlabel('Num. of Batch (every 30)')\n",
        "plt.ylabel('Loss (Cross Entropy)')\n",
        " \n",
        "plt.title('Convolutional Neural Networks - Loss vs Batch Iteration Graph')\n",
        " \n",
        "plt.show()"
      ],
      "metadata": {
        "colab": {
          "base_uri": "https://localhost:8080/",
          "height": 295
        },
        "id": "NiNDcaAsBphY",
        "outputId": "9bf3b149-85dd-4edd-baca-a3e4146423c0"
      },
      "execution_count": null,
      "outputs": [
        {
          "output_type": "display_data",
          "data": {
            "image/png": "[encoded data removed]",
            "text/plain": [
              "<Figure size 432x288 with 1 Axes>"
            ]
          },
          "metadata": {
            "needs_background": "light"
          }
        }
      ]
    },
    {
      "cell_type": "code",
      "source": [
        "with torch.no_grad():\n",
        "  n_correct = 0\n",
        "  n_incorrect = 0\n",
        "  n_samples = 0\n",
        "  n_class_correct = [0 for i in range(4)]\n",
        "  n_class_incorrect = [0 for i in range(4)]\n",
        "  n_class_predicted = [0 for i in range(4)]\n",
        "  n_class_samples = [0 for i in range(4)]\n",
        "\n",
        "\n",
        "  for images, labels in test_loader:\n",
        "    images = images.to(device)\n",
        "    labels = labels.to(device)\n",
        "    outputs = model(images)\n",
        "    # max returns (value ,index)\n",
        "    _, predicted = torch.max(outputs, 1)\n",
        "    n_samples += labels.size(0)\n",
        "    n_correct += (predicted == labels).sum().item()\n",
        "    n_incorrect += (predicted != labels).sum().item()\n",
        "    \n",
        "    for i in range(len(labels)):\n",
        "      label = labels[i]\n",
        "      pred = predicted[i]\n",
        "      if (label == pred):\n",
        "        n_class_correct[label] += 1\n",
        "      n_class_predicted[pred] += 1  \n",
        "      n_class_samples[label] += 1\n",
        "\n",
        "  acc = 100.0 * n_correct / n_samples\n",
        "  print('Testing Completed')"
      ],
      "metadata": {
        "colab": {
          "base_uri": "https://localhost:8080/"
        },
        "id": "PrHJYupbBsNd",
        "outputId": "7a9bd90d-5ba9-4871-c9ff-aa93d7311837"
      },
      "execution_count": null,
      "outputs": [
        {
          "output_type": "stream",
          "name": "stdout",
          "text": [
            "Testing Completed\n"
          ]
        }
      ]
    },
    {
      "cell_type": "code",
      "source": [
        "n_class_samples"
      ],
      "metadata": {
        "colab": {
          "base_uri": "https://localhost:8080/"
        },
        "id": "rx5yn6TOaqDd",
        "outputId": "54447cf5-33cc-4883-b6ca-b860ab6f9a0f"
      },
      "execution_count": null,
      "outputs": [
        {
          "output_type": "execute_result",
          "data": {
            "text/plain": [
              "[595, 144, 23, 134]"
            ]
          },
          "metadata": {},
          "execution_count": 56
        }
      ]
    },
    {
      "cell_type": "code",
      "source": [
        "n_class_correct"
      ],
      "metadata": {
        "colab": {
          "base_uri": "https://localhost:8080/"
        },
        "id": "-IhN-ARcatnc",
        "outputId": "17cdeeb6-efd2-4b36-8de8-590ec67a32a5"
      },
      "execution_count": null,
      "outputs": [
        {
          "output_type": "execute_result",
          "data": {
            "text/plain": [
              "[578, 107, 15, 134]"
            ]
          },
          "metadata": {},
          "execution_count": 66
        }
      ]
    },
    {
      "cell_type": "code",
      "source": [
        "n_class_predicted"
      ],
      "metadata": {
        "colab": {
          "base_uri": "https://localhost:8080/"
        },
        "id": "gF9xnFyyavvN",
        "outputId": "4b2824eb-2162-443f-865d-089c285602f1"
      },
      "execution_count": null,
      "outputs": [
        {
          "output_type": "execute_result",
          "data": {
            "text/plain": [
              "[623, 122, 17, 134]"
            ]
          },
          "metadata": {},
          "execution_count": 67
        }
      ]
    },
    {
      "cell_type": "code",
      "source": [
        "classes = ['benignware', 'malware', 'hackware', 'gray']\n",
        "total_pre = []\n",
        "total_rec = []\n",
        "\n",
        "for i in range(4):\n",
        "  try:\n",
        "    pre = n_class_correct[i] / n_class_predicted[i]\n",
        "  except ZeroDivisionError:\n",
        "    pre = 0\n",
        "  total_pre.append(pre)\n",
        "  try:\n",
        "    rec = n_class_correct[i] / n_class_samples[i]\n",
        "  except ZeroDivisionError:\n",
        "    rec = 0\n",
        "  total_rec.append(rec) \n",
        "  '''\n",
        "  try:\n",
        "    f1 = ((2*total_pre.sum()*total_rec.sum())/(total_pre.sum()+total_rec.sum()))/4\n",
        "  except ZeroDivisionError:\n",
        "    f1 = 'undefined'\n",
        "  '''\n",
        "  f1 = (2*sum(total_pre)*sum(total_rec))/(sum(total_pre)+sum(total_rec))/4\n",
        "print(f'F-1 Score: {f1}')"
      ],
      "metadata": {
        "colab": {
          "base_uri": "https://localhost:8080/"
        },
        "id": "tG-cpJieBu82",
        "outputId": "1774b710-29f7-4965-fd7e-cdd15dae22c4"
      },
      "execution_count": null,
      "outputs": [
        {
          "output_type": "stream",
          "name": "stdout",
          "text": [
            "F-1 Score: 0.879908188340915\n"
          ]
        }
      ]
    },
    {
      "cell_type": "code",
      "source": [
        "index = np.arange(0, 4)\n",
        "width = 0.2\n",
        "plt.figure(figsize = (10, 6))\n",
        "plt.title('Comparison for CNN - Correctly Classified with Predicted')\n",
        "\n",
        "plt.bar(index , n_class_correct, width, color='skyblue', label='Correctly Classified', alpha=0.75)\n",
        "plt.bar(index + width, n_class_predicted, width, color='steelblue', label='Predicted', alpha=0.75)\n",
        "  \n",
        "plt.xlabel('Classes')\n",
        "plt.ylabel('Sample Numbers')\n",
        "plt.xticks(index+width/2, classes)\n",
        "plt.legend()\n",
        "plt.show()"
      ],
      "metadata": {
        "colab": {
          "base_uri": "https://localhost:8080/",
          "height": 404
        },
        "id": "W0znES29Bx5n",
        "outputId": "5b372b10-b42c-436e-f604-4777462810ea"
      },
      "execution_count": null,
      "outputs": [
        {
          "output_type": "display_data",
          "data": {
            "image/png": "[encoded data removed]",
            "text/plain": [
              "<Figure size 720x432 with 1 Axes>"
            ]
          },
          "metadata": {
            "needs_background": "light"
          }
        }
      ]
    }
  ]
}